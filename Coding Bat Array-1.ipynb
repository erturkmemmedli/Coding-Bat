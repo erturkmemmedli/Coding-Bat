{
 "cells": [
  {
   "cell_type": "markdown",
   "metadata": {},
   "source": [
    "###  firstLast6\n",
    "Given an array of ints, return true if 6 appears as either the first or last element in the array. The array will be length 1 or more.\n",
    "\n"
   ]
  },
  {
   "cell_type": "code",
   "execution_count": 1,
   "metadata": {},
   "outputs": [],
   "source": [
    "def firstLast6(A):\n",
    "    assert len(A) >= 1\n",
    "    return A[0] == 6 or A[-1] == 6"
   ]
  },
  {
   "cell_type": "markdown",
   "metadata": {},
   "source": [
    "### sameFirstLast\n",
    "Given an array of ints, return true if the array is length 1 or more, and the first element and the last element are equal."
   ]
  },
  {
   "cell_type": "code",
   "execution_count": 8,
   "metadata": {},
   "outputs": [],
   "source": [
    "def sameFirstLast(A):\n",
    "    return len(A) >= 1 and A[0] == A[-1]"
   ]
  },
  {
   "cell_type": "markdown",
   "metadata": {},
   "source": [
    "### makePi\n",
    "Return an int array length 3 containing the first 3 digits of pi, {3, 1, 4}."
   ]
  },
  {
   "cell_type": "code",
   "execution_count": 13,
   "metadata": {},
   "outputs": [],
   "source": [
    "def makePi():\n",
    "    return [3,1,4]"
   ]
  },
  {
   "cell_type": "markdown",
   "metadata": {},
   "source": [
    "### commonEnd\n",
    "Given 2 arrays of ints, a and b, return true if they have the same first element or they have the same last element. Both arrays will be length 1 or more.\n",
    "\n"
   ]
  },
  {
   "cell_type": "code",
   "execution_count": 15,
   "metadata": {},
   "outputs": [],
   "source": [
    "def commonEnd(A, B):\n",
    "    assert len(A) >= 1 and len(B) >= 1\n",
    "    return A[0] == B[0] or A[-1] == B[-1]"
   ]
  },
  {
   "cell_type": "markdown",
   "metadata": {},
   "source": [
    "### sum3\n",
    "Given an array of ints length 3, return the sum of all the elements."
   ]
  },
  {
   "cell_type": "code",
   "execution_count": 24,
   "metadata": {},
   "outputs": [],
   "source": [
    "def sum3(A):\n",
    "    assert len(A) == 3\n",
    "    return sum(A)"
   ]
  },
  {
   "cell_type": "markdown",
   "metadata": {},
   "source": [
    "### rotateLeft3\n",
    "Given an array of ints length 3, return an array with the elements \"rotated left\" so {1, 2, 3} yields {2, 3, 1}."
   ]
  },
  {
   "cell_type": "code",
   "execution_count": 57,
   "metadata": {},
   "outputs": [],
   "source": [
    "def rotateLeft3(A):\n",
    "    assert len(A) == 3\n",
    "    return A[1:] + [A[0]]"
   ]
  },
  {
   "cell_type": "markdown",
   "metadata": {},
   "source": [
    "### reverse3\n",
    "Given an array of ints length 3, return a new array with the elements in reverse order, so {1, 2, 3} becomes {3, 2, 1}."
   ]
  },
  {
   "cell_type": "code",
   "execution_count": 39,
   "metadata": {},
   "outputs": [],
   "source": [
    "def reverse3(A):\n",
    "    assert len(A) == 3\n",
    "    return [A[i] for i in range(len(A)-1,-1,-1)]"
   ]
  },
  {
   "cell_type": "markdown",
   "metadata": {},
   "source": [
    "### maxEnd3\n",
    "Given an array of ints length 3, figure out which is larger, the first or last element in the array, and set all the other elements to be that value. Return the changed array."
   ]
  },
  {
   "cell_type": "code",
   "execution_count": 42,
   "metadata": {},
   "outputs": [],
   "source": [
    "def maxEnd3(A):\n",
    "    assert len(A) == 3\n",
    "    if A[0] >= A[2]:\n",
    "        return [A[0]] * 3\n",
    "    return [A[2]] * 3"
   ]
  },
  {
   "cell_type": "markdown",
   "metadata": {},
   "source": [
    "### sum2\n",
    "Given an array of ints, return the sum of the first 2 elements in the array. If the array length is less than 2, just sum up the elements that exist, returning 0 if the array is length 0.\n",
    "\n"
   ]
  },
  {
   "cell_type": "code",
   "execution_count": 46,
   "metadata": {},
   "outputs": [],
   "source": [
    "def sum2(A):\n",
    "    if len(A) <= 1:\n",
    "        return sum(A)\n",
    "    return A[0] + A[1]"
   ]
  },
  {
   "cell_type": "markdown",
   "metadata": {},
   "source": [
    "### middleWay\n",
    "Given 2 int arrays, a and b, each length 3, return a new array length 2 containing their middle elements."
   ]
  },
  {
   "cell_type": "code",
   "execution_count": 61,
   "metadata": {},
   "outputs": [],
   "source": [
    "def middleWay(A, B):\n",
    "    assert len(A) == 3 and len(B) == 3\n",
    "    return [A[1]] + [B[1]]"
   ]
  },
  {
   "cell_type": "markdown",
   "metadata": {},
   "source": [
    "### makeEnds\n",
    "Given an array of ints, return a new array length 2 containing the first and last elements from the original array. The original array will be length 1 or more.\n",
    "\n"
   ]
  },
  {
   "cell_type": "code",
   "execution_count": 63,
   "metadata": {},
   "outputs": [],
   "source": [
    "def makeEnds(A):\n",
    "    assert len(A) >= 1\n",
    "    return [A[0]] + [A[-1]]"
   ]
  },
  {
   "cell_type": "markdown",
   "metadata": {},
   "source": [
    "### has23\n",
    "Given an int array length 2, return true if it contains a 2 or a 3."
   ]
  },
  {
   "cell_type": "code",
   "execution_count": 68,
   "metadata": {},
   "outputs": [],
   "source": [
    "def has23(A):\n",
    "    assert len(A) == 2\n",
    "    return 2 in A or 3 in A"
   ]
  },
  {
   "cell_type": "markdown",
   "metadata": {},
   "source": [
    "### no23\n",
    "Given an int array length 2, return true if it does not contain a 2 or 3."
   ]
  },
  {
   "cell_type": "code",
   "execution_count": 77,
   "metadata": {},
   "outputs": [],
   "source": [
    "def no23(A):\n",
    "    assert len(A) == 2\n",
    "    return not(2 in A or 3 in A)"
   ]
  },
  {
   "cell_type": "markdown",
   "metadata": {},
   "source": [
    "### makeLast\n",
    "Given an int array, return a new array with double the length where its last element is the same as the original array, and all the other elements are 0. The original array will be length 1 or more. Note: by default, a new int array contains all 0's."
   ]
  },
  {
   "cell_type": "code",
   "execution_count": 84,
   "metadata": {},
   "outputs": [],
   "source": [
    "def makeLast(A):\n",
    "    assert len(A) >= 1\n",
    "    return [0] * (2 * len(A) - 1) + [A[-1]]"
   ]
  },
  {
   "cell_type": "markdown",
   "metadata": {},
   "source": [
    "### double23\n",
    "Given an int array, return true if the array contains 2 twice, or 3 twice. The array will be length 0, 1, or 2."
   ]
  },
  {
   "cell_type": "code",
   "execution_count": 97,
   "metadata": {},
   "outputs": [],
   "source": [
    "def double23(A):\n",
    "    assert len(A) <= 2\n",
    "    return A.count(2) == 2 or A.count(3) == 2"
   ]
  },
  {
   "cell_type": "markdown",
   "metadata": {},
   "source": [
    "### fix23\n",
    "Given an int array length 3, if there is a 2 in the array immediately followed by a 3, set the 3 element to 0. Return the changed array."
   ]
  },
  {
   "cell_type": "code",
   "execution_count": 110,
   "metadata": {},
   "outputs": [],
   "source": [
    "def fix23(A):\n",
    "    assert len(A) == 3\n",
    "    for i in range(len(A) - 1):\n",
    "        if A[i] == 2 and A[i+1] == 3:\n",
    "            A[i+1] = 0\n",
    "    return A"
   ]
  },
  {
   "cell_type": "markdown",
   "metadata": {},
   "source": [
    "### start1\n",
    "Start with 2 int arrays, a and b, of any length. Return how many of the arrays have 1 as their first element."
   ]
  },
  {
   "cell_type": "code",
   "execution_count": 118,
   "metadata": {},
   "outputs": [],
   "source": [
    "def start1(A, B):\n",
    "    count = 0\n",
    "    if len(A) != 0 and A[0] == 1:\n",
    "        count += 1\n",
    "    if len(B) != 0 and B[0] == 1:\n",
    "        count += 1\n",
    "    return count"
   ]
  },
  {
   "cell_type": "markdown",
   "metadata": {},
   "source": [
    "### biggerTwo\n",
    "Start with 2 int arrays, a and b, each length 2. Consider the sum of the values in each array. Return the array which has the largest sum. In event of a tie, return a."
   ]
  },
  {
   "cell_type": "code",
   "execution_count": 132,
   "metadata": {},
   "outputs": [],
   "source": [
    "def biggerTwo(A, B):\n",
    "    assert len(A) == 2 and len(B) == 2\n",
    "    if sum(A) >= sum(B):\n",
    "        return A\n",
    "    return B"
   ]
  },
  {
   "cell_type": "markdown",
   "metadata": {},
   "source": [
    "### makeMiddle\n",
    "Given an array of ints of even length, return a new array length 2 containing the middle two elements from the original array. The original array will be length 2 or more."
   ]
  },
  {
   "cell_type": "code",
   "execution_count": 133,
   "metadata": {},
   "outputs": [],
   "source": [
    "def makeMiddle(A):\n",
    "    assert len(A) % 2 == 0\n",
    "    assert len(A) >= 2\n",
    "    return A[len(A)//2-1:len(A)//2+1]"
   ]
  },
  {
   "cell_type": "markdown",
   "metadata": {},
   "source": [
    "### plusTwo\n",
    "Given 2 int arrays, each length 2, return a new array length 4 containing all their elements."
   ]
  },
  {
   "cell_type": "code",
   "execution_count": 136,
   "metadata": {},
   "outputs": [],
   "source": [
    "def plusTwo(A, B):\n",
    "    assert len(A) == 2 and len(B) == 2\n",
    "    return A + B"
   ]
  },
  {
   "cell_type": "markdown",
   "metadata": {},
   "source": [
    "### swapEnds\n",
    "Given an array of ints, swap the first and last elements in the array. Return the modified array. The array length will be at least 1."
   ]
  },
  {
   "cell_type": "code",
   "execution_count": 138,
   "metadata": {},
   "outputs": [],
   "source": [
    "def swapEnds(A):\n",
    "    assert len(A) >= 1\n",
    "    A[0], A[-1] = A[-1], A[0]\n",
    "    return A"
   ]
  },
  {
   "cell_type": "markdown",
   "metadata": {},
   "source": [
    "### midThree\n",
    "Given an array of ints of odd length, return a new array length 3 containing the elements from the middle of the array. The array length will be at least 3."
   ]
  },
  {
   "cell_type": "code",
   "execution_count": 142,
   "metadata": {},
   "outputs": [],
   "source": [
    "def midThree(A):\n",
    "    assert len(A) % 2 == 1\n",
    "    assert len(A) >= 3\n",
    "    return A[len(A)//2-1:len(A)//2+2]"
   ]
  },
  {
   "cell_type": "markdown",
   "metadata": {},
   "source": [
    "### maxTriple\n",
    "Given an array of ints of odd length, look at the first, last, and middle values in the array and return the largest. The array length will be a least 1."
   ]
  },
  {
   "cell_type": "code",
   "execution_count": 144,
   "metadata": {},
   "outputs": [],
   "source": [
    "def maxTriple(A):\n",
    "    assert len(A) % 2 == 1\n",
    "    assert len(A) >= 1\n",
    "    return max(A[0], A[-1], A[len(A)//2])"
   ]
  },
  {
   "cell_type": "markdown",
   "metadata": {},
   "source": [
    "### frontPiece\n",
    "Given an int array of any length, return a new array of its first 2 elements. If the array is smaller than length 2, use whatever elements are present.\n",
    "\n"
   ]
  },
  {
   "cell_type": "code",
   "execution_count": 149,
   "metadata": {},
   "outputs": [],
   "source": [
    "def frontPiece(A):\n",
    "    return A[:2]"
   ]
  },
  {
   "cell_type": "markdown",
   "metadata": {},
   "source": [
    "### unlucky1\n",
    "We'll say that a 1 immediately followed by a 3 in an array is an \"unlucky\" 1. Return true if the given array contains an unlucky 1 in the first 2 or last 2 positions in the array."
   ]
  },
  {
   "cell_type": "code",
   "execution_count": 155,
   "metadata": {},
   "outputs": [],
   "source": [
    "def unlucky1(A):\n",
    "    if len(A) < 2:\n",
    "        return False\n",
    "    if A[0:2] == [1, 3] or (len(A) > 2 and A[1:3] == [1, 3]) or A[-2:] == [1, 3]:\n",
    "        return True\n",
    "    return False"
   ]
  },
  {
   "cell_type": "markdown",
   "metadata": {},
   "source": [
    "### make2\n",
    "Given 2 int arrays, a and b, return a new array length 2 containing, as much as will fit, the elements from a followed by the elements from b. The arrays may be any length, including 0, but there will be 2 or more elements available between the 2 arrays."
   ]
  },
  {
   "cell_type": "code",
   "execution_count": 172,
   "metadata": {},
   "outputs": [],
   "source": [
    "def make2(A, B):\n",
    "    assert len(A) + len(B) >= 2\n",
    "    if len(A) >= 2:\n",
    "        return A[:2]\n",
    "    return A + B[:2-len(A)]"
   ]
  },
  {
   "cell_type": "markdown",
   "metadata": {},
   "source": [
    "### front11\n",
    "Given 2 int arrays, a and b, of any length, return a new array with the first element of each array. If either array is length 0, ignore that array."
   ]
  },
  {
   "cell_type": "code",
   "execution_count": 201,
   "metadata": {},
   "outputs": [],
   "source": [
    "def front11(A, B):\n",
    "    if len(A) != 0 and len(B) != 0:\n",
    "        return [A[0]] + [B[0]]\n",
    "    if len(A) == 0 and len(B) != 0:\n",
    "        return [B[0]]\n",
    "    if len(B) == 0 and len(A) != 0:\n",
    "        return [A[0]]\n",
    "    return []"
   ]
  }
 ],
 "metadata": {
  "kernelspec": {
   "display_name": "Python 3",
   "language": "python",
   "name": "python3"
  },
  "language_info": {
   "codemirror_mode": {
    "name": "ipython",
    "version": 3
   },
   "file_extension": ".py",
   "mimetype": "text/x-python",
   "name": "python",
   "nbconvert_exporter": "python",
   "pygments_lexer": "ipython3",
   "version": "3.7.3"
  }
 },
 "nbformat": 4,
 "nbformat_minor": 2
}
