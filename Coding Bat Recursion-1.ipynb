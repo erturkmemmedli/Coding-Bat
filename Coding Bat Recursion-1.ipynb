{
 "cells": [
  {
   "cell_type": "markdown",
   "metadata": {},
   "source": [
    "### factorial\n",
    "Given n of 1 or more, return the factorial of n, which is n * (n-1) * (n-2) ... 1. Compute the result recursively (without loops)."
   ]
  },
  {
   "cell_type": "code",
   "execution_count": 23,
   "metadata": {},
   "outputs": [],
   "source": [
    "def factorial(n):\n",
    "    assert n >= 0\n",
    "    if n == 0:\n",
    "        return 1\n",
    "    if n == 1:\n",
    "        return 1\n",
    "    return n * factorial(n - 1)"
   ]
  },
  {
   "cell_type": "markdown",
   "metadata": {},
   "source": [
    "### bunnyEars\n",
    "We have a number of bunnies and each bunny has two big floppy ears. We want to compute the total number of ears across all the bunnies recursively (without loops or multiplication)."
   ]
  },
  {
   "cell_type": "code",
   "execution_count": 31,
   "metadata": {},
   "outputs": [],
   "source": [
    "def bunnyEars(bunnies):\n",
    "    if bunnies == 0:\n",
    "        return 0\n",
    "    return 2 + bunnyEars(bunnies - 1)"
   ]
  },
  {
   "cell_type": "markdown",
   "metadata": {},
   "source": [
    "### fibonacci\n",
    "The fibonacci sequence is a famous bit of mathematics, and it happens to have a recursive definition. The first two values in the sequence are 0 and 1 (essentially 2 base cases). Each subsequent value is the sum of the previous two values, so the whole sequence is: 0, 1, 1, 2, 3, 5, 8, 13, 21 and so on. Define a recursive fibonacci(n) method that returns the nth fibonacci number, with n=0 representing the start of the sequence."
   ]
  },
  {
   "cell_type": "code",
   "execution_count": 34,
   "metadata": {},
   "outputs": [],
   "source": [
    "def fibonacci(n):\n",
    "    if n <= 1:\n",
    "        return n\n",
    "    return fibonacci(n - 1) + fibonacci(n - 2)"
   ]
  },
  {
   "cell_type": "markdown",
   "metadata": {},
   "source": [
    "### bunnyEars2\n",
    "We have bunnies standing in a line, numbered 1, 2, ... The odd bunnies (1, 3, ..) have the normal 2 ears. The even bunnies (2, 4, ..) we'll say have 3 ears, because they each have a raised foot. Recursively return the number of \"ears\" in the bunny line 1, 2, ... n (without loops or multiplication)."
   ]
  },
  {
   "cell_type": "code",
   "execution_count": 44,
   "metadata": {},
   "outputs": [],
   "source": [
    "def bunnyEars2(bunnies):\n",
    "    if bunnies == 0:\n",
    "        return 0\n",
    "    if bunnies % 2 == 1:\n",
    "        return bunnyEars2(bunnies - 1) + 2\n",
    "    if bunnies % 2 == 0:\n",
    "        return bunnyEars2(bunnies - 1) + 3"
   ]
  },
  {
   "cell_type": "markdown",
   "metadata": {},
   "source": [
    "### triangle\n",
    "We have triangle made of blocks. The topmost row has 1 block, the next row down has 2 blocks, the next row has 3 blocks, and so on. Compute recursively (no loops or multiplication) the total number of blocks in such a triangle with the given number of rows."
   ]
  },
  {
   "cell_type": "code",
   "execution_count": 50,
   "metadata": {},
   "outputs": [],
   "source": [
    "def triangle(rows):\n",
    "    if rows == 0:\n",
    "        return 0\n",
    "    return rows + triangle(rows - 1)"
   ]
  },
  {
   "cell_type": "markdown",
   "metadata": {},
   "source": [
    "### sumDigits\n",
    "Given a non-negative int n, return the sum of its digits recursively (no loops). Note that mod (%) by 10 yields the rightmost digit (126 % 10 is 6), while divide (/) by 10 removes the rightmost digit (126 / 10 is 12)."
   ]
  },
  {
   "cell_type": "code",
   "execution_count": 54,
   "metadata": {},
   "outputs": [],
   "source": [
    "def sumDigits(n):\n",
    "    assert n >= 0\n",
    "    if n < 10:\n",
    "        return n\n",
    "    return n % 10 + sumDigits(n // 10)"
   ]
  },
  {
   "cell_type": "markdown",
   "metadata": {},
   "source": [
    "### count7\n",
    "Given a non-negative int n, return the count of the occurrences of 7 as a digit, so for example 717 yields 2. (no loops). Note that mod (%) by 10 yields the rightmost digit (126 % 10 is 6), while divide (/) by 10 removes the rightmost digit (126 / 10 is 12)."
   ]
  },
  {
   "cell_type": "code",
   "execution_count": 67,
   "metadata": {},
   "outputs": [],
   "source": [
    "def count7(n):\n",
    "    assert n >= 0\n",
    "    if n < 7:\n",
    "        return 0\n",
    "    if n % 10 == 7:\n",
    "        return 1 + count7(n // 10)\n",
    "    else:\n",
    "        return count7(n // 10)"
   ]
  },
  {
   "cell_type": "markdown",
   "metadata": {},
   "source": [
    "### count8\n",
    "Given a non-negative int n, compute recursively (no loops) the count of the occurrences of 8 as a digit, except that an 8 with another 8 immediately to its left counts double, so 8818 yields 4. Note that mod (%) by 10 yields the rightmost digit (126 % 10 is 6), while divide (/) by 10 removes the rightmost digit (126 / 10 is 12)."
   ]
  },
  {
   "cell_type": "code",
   "execution_count": 73,
   "metadata": {},
   "outputs": [],
   "source": [
    "def count8(n):\n",
    "    assert n >= 0\n",
    "    temp = n // 10\n",
    "    if n < 8:\n",
    "        return 0\n",
    "    if n % 10 == 8:\n",
    "        if n % 10 == temp % 10:\n",
    "            return 2 + count8(n // 10)\n",
    "        else:\n",
    "            return 1 + count8(n // 10)\n",
    "    else:\n",
    "        return count8(n // 10)    "
   ]
  },
  {
   "cell_type": "markdown",
   "metadata": {},
   "source": [
    "### powerN\n",
    "Given base and n that are both 1 or more, compute recursively (no loops) the value of base to the n power, so powerN(3, 2) is 9 (3 squared)."
   ]
  },
  {
   "cell_type": "code",
   "execution_count": 88,
   "metadata": {},
   "outputs": [],
   "source": [
    "def powerN(base, n):\n",
    "    assert base >= 1 and n >= 1\n",
    "    if n == 1:\n",
    "        return base\n",
    "    return base * powerN(base, n - 1)"
   ]
  },
  {
   "cell_type": "markdown",
   "metadata": {},
   "source": [
    "### countX\n",
    "Given a string, compute recursively (no loops) the number of lowercase 'x' chars in the string."
   ]
  },
  {
   "cell_type": "code",
   "execution_count": 107,
   "metadata": {},
   "outputs": [],
   "source": [
    "def countX(string):\n",
    "    if len(string) == 0:\n",
    "        return 0\n",
    "    if string[-1] == 'x':\n",
    "        return 1 + countX(string[:len(string) - 1])\n",
    "    else:\n",
    "        return countX(string[:len(string) - 1])"
   ]
  },
  {
   "cell_type": "markdown",
   "metadata": {},
   "source": [
    "### countHi\n",
    "Given a string, compute recursively (no loops) the number of times lowercase \"hi\" appears in the string.\n",
    "\n"
   ]
  },
  {
   "cell_type": "code",
   "execution_count": 112,
   "metadata": {},
   "outputs": [],
   "source": [
    "def countHi(string):\n",
    "    if len(string) < 2:\n",
    "        return 0\n",
    "    if string[-2:] == 'hi':\n",
    "        return 1 + countHi(string[:len(string) - 2])\n",
    "    else:\n",
    "        return countHi(string[:len(string) - 1])"
   ]
  },
  {
   "cell_type": "markdown",
   "metadata": {},
   "source": [
    "### changeXY\n",
    "Given a string, compute recursively (no loops) a new string where all the lowercase 'x' chars have been changed to 'y' chars."
   ]
  },
  {
   "cell_type": "code",
   "execution_count": 125,
   "metadata": {},
   "outputs": [],
   "source": [
    "def changeXY(string):\n",
    "    if len(string) == 0:\n",
    "        return string\n",
    "    if string[0] == 'x':\n",
    "        return \"y\" + changeXY(string[1:])\n",
    "    else:\n",
    "        return string[0] + changeXY(string[1:])"
   ]
  },
  {
   "cell_type": "markdown",
   "metadata": {},
   "source": [
    "### changePi\n",
    "Given a string, compute recursively (no loops) a new string where all appearances of \"pi\" have been replaced by \"3.14\"."
   ]
  },
  {
   "cell_type": "code",
   "execution_count": 14,
   "metadata": {},
   "outputs": [],
   "source": [
    "def changePi(string):\n",
    "    if len(string) < 2:\n",
    "        return string\n",
    "    if string[0:2] == 'pi':\n",
    "        return \"3.14\" + changePi(string[2:])\n",
    "    else:\n",
    "        return string[0] + changePi(string[1:])"
   ]
  },
  {
   "cell_type": "markdown",
   "metadata": {},
   "source": [
    "### noX\n",
    "Given a string, compute recursively a new string where all the 'x' chars have been removed.\n",
    "\n"
   ]
  },
  {
   "cell_type": "code",
   "execution_count": 17,
   "metadata": {},
   "outputs": [],
   "source": [
    "def noX(string):\n",
    "    if len(string) == 0:\n",
    "        return string\n",
    "    if string[0] == 'x':\n",
    "        return noX(string[1:])\n",
    "    else:\n",
    "        return string[0] + noX(string[1:])"
   ]
  },
  {
   "cell_type": "markdown",
   "metadata": {},
   "source": [
    "### array6\n",
    "Given an array of ints, compute recursively if the array contains a 6. We'll use the convention of considering only the part of the array that begins at the given index. In this way, a recursive call can pass index+1 to move down the array. The initial call will pass in index as 0.\n",
    "\n"
   ]
  },
  {
   "cell_type": "code",
   "execution_count": 52,
   "metadata": {},
   "outputs": [],
   "source": [
    "def array6(nums, index = 0):\n",
    "    if len(nums) == 0 or index == len(nums):\n",
    "        return False\n",
    "    if nums[index] == 6:\n",
    "        return True\n",
    "    return array6(nums, index + 1)\n",
    "\n",
    "def array6_alter(nums):\n",
    "    if len(nums) == 0:\n",
    "        return False\n",
    "    if nums[-1] == 6:\n",
    "        return True\n",
    "    return array6_alter(nums[:-1])"
   ]
  },
  {
   "cell_type": "markdown",
   "metadata": {},
   "source": [
    "### array11\n",
    "Given an array of ints, compute recursively the number of times that the value 11 appears in the array. We'll use the convention of considering only the part of the array that begins at the given index. In this way, a recursive call can pass index+1 to move down the array. The initial call will pass in index as 0.\n",
    "\n"
   ]
  },
  {
   "cell_type": "code",
   "execution_count": 62,
   "metadata": {},
   "outputs": [],
   "source": [
    "def array11(nums, index = 0):\n",
    "    if len(nums) == 0 or index == len(nums):\n",
    "        return 0\n",
    "    if nums[index] == 11:\n",
    "        return 1 + array11(nums, index + 1)\n",
    "    return array11(nums, index + 1)"
   ]
  },
  {
   "cell_type": "markdown",
   "metadata": {},
   "source": [
    "### array220 \n",
    "Given an array of ints, compute recursively if the array contains somewhere a value followed in the array by that value times 10. We'll use the convention of considering only the part of the array that begins at the given index. In this way, a recursive call can pass index+1 to move down the array. The initial call will pass in index as 0."
   ]
  },
  {
   "cell_type": "code",
   "execution_count": 75,
   "metadata": {},
   "outputs": [],
   "source": [
    "def array220(nums, index = 0):\n",
    "    if len(nums) <= 1 or index == len(nums):\n",
    "        return False\n",
    "    if index < len(nums) - 1 and nums[index] * 10 == nums[index + 1]:\n",
    "        return True\n",
    "    return array220(nums, index + 1)        "
   ]
  },
  {
   "cell_type": "markdown",
   "metadata": {},
   "source": [
    "### allStar\n",
    "Given a string, compute recursively a new string where all the adjacent chars are now separated by a \"*\"."
   ]
  },
  {
   "cell_type": "code",
   "execution_count": 86,
   "metadata": {},
   "outputs": [],
   "source": [
    "def allStar(string):\n",
    "    if len(string) <= 1:\n",
    "        return string\n",
    "    return string[0] + \"*\" + allStar(string[1:])"
   ]
  },
  {
   "cell_type": "markdown",
   "metadata": {},
   "source": [
    "### pairStar\n",
    "Given a string, compute recursively a new string where identical chars that are adjacent in the original string are separated from each other by a \"*\".\n",
    "\n"
   ]
  },
  {
   "cell_type": "code",
   "execution_count": 102,
   "metadata": {},
   "outputs": [],
   "source": [
    "def pairStar(string):\n",
    "    if len(string) <= 1:\n",
    "        return string\n",
    "    if string[0] == string[1]:\n",
    "        return string[0] + \"*\" + pairStar(string[1:])\n",
    "    return string[0] + pairStar(string[1:])"
   ]
  },
  {
   "cell_type": "markdown",
   "metadata": {},
   "source": [
    "### endX\n",
    "Given a string, compute recursively a new string where all the lowercase 'x' chars have been moved to the end of the string."
   ]
  },
  {
   "cell_type": "code",
   "execution_count": 126,
   "metadata": {},
   "outputs": [],
   "source": [
    "def endX(string):\n",
    "    if len(string) == 0:\n",
    "        return string\n",
    "    if string[0] == 'x':\n",
    "        return endX(string[1:]) + string[0]\n",
    "    return string[0] + endX(string[1:])"
   ]
  },
  {
   "cell_type": "markdown",
   "metadata": {},
   "source": [
    "### countPairs\n",
    "We'll say that a \"pair\" in a string is two instances of a char separated by a char. So \"AxA\" the A's make a pair. Pair's can overlap, so \"AxAxA\" contains 3 pairs -- 2 for A and 1 for x. Recursively compute the number of pairs in the given string."
   ]
  },
  {
   "cell_type": "code",
   "execution_count": 127,
   "metadata": {},
   "outputs": [],
   "source": [
    "def countPairs(string):\n",
    "    if len(string) < 3:\n",
    "        return 0\n",
    "    if string[0] == string[2]:\n",
    "        return 1 + countPairs(string[1:])\n",
    "    return countPairs(string[1:])"
   ]
  },
  {
   "cell_type": "markdown",
   "metadata": {},
   "source": [
    "### countAbc\n",
    "Count recursively the total number of \"abc\" and \"aba\" substrings that appear in the given string."
   ]
  },
  {
   "cell_type": "code",
   "execution_count": 152,
   "metadata": {},
   "outputs": [],
   "source": [
    "def countAbc(string):\n",
    "    if len(string) < 3:\n",
    "        return 0\n",
    "    if string[0:3] == 'abc':\n",
    "        return 1 + countAbc(string[3:])\n",
    "    if string[0:3] == 'aba':\n",
    "        return 1 + countAbc(string[2:])\n",
    "    return countAbc(string[1:])"
   ]
  },
  {
   "cell_type": "markdown",
   "metadata": {},
   "source": [
    "### count11\n",
    "Given a string, compute recursively (no loops) the number of \"11\" substrings in the string. The \"11\" substrings should not overlap."
   ]
  },
  {
   "cell_type": "code",
   "execution_count": 165,
   "metadata": {},
   "outputs": [],
   "source": [
    "def count11(string):\n",
    "    if len(string) < 2:\n",
    "        return 0\n",
    "    if string[0:2] == '11':\n",
    "        return 1 + count11(string[2:])\n",
    "    return count11(string[1:])"
   ]
  },
  {
   "cell_type": "markdown",
   "metadata": {},
   "source": [
    "### stringClean\n",
    "Given a string, return recursively a \"cleaned\" string where adjacent chars that are the same have been reduced to a single char. So \"yyzzza\" yields \"yza\".\n",
    "\n"
   ]
  },
  {
   "cell_type": "code",
   "execution_count": 166,
   "metadata": {},
   "outputs": [],
   "source": [
    "def stringClean(string):\n",
    "    if len(string) < 2:\n",
    "        return string\n",
    "    if string[0] == string[1]:\n",
    "        return stringClean(string[1:])\n",
    "    return string[0] + stringClean(string[1:])"
   ]
  },
  {
   "cell_type": "markdown",
   "metadata": {},
   "source": [
    "### countHi2\n",
    "Given a string, compute recursively the number of times lowercase \"hi\" appears in the string, however do not count \"hi\" that have an 'x' immedately before them.\n",
    "\n"
   ]
  },
  {
   "cell_type": "code",
   "execution_count": 174,
   "metadata": {},
   "outputs": [],
   "source": [
    "def countHi2(string):\n",
    "    if len(string) < 2:\n",
    "        return 0\n",
    "    if len(string) == 2:\n",
    "        if string == 'hi':\n",
    "            return 1\n",
    "        else:\n",
    "            return 0\n",
    "    if string[-3] != 'x' and string[len(string)-2:] == 'hi':\n",
    "        return 1 + countHi2(string[:len(string)-2])\n",
    "    return countHi2(string[:len(string)-1])"
   ]
  },
  {
   "cell_type": "markdown",
   "metadata": {},
   "source": [
    "### parenBit\n",
    "Given a string that contains a single pair of parenthesis, compute recursively a new string made of only of the parenthesis and their contents, so \"xyz(abc)123\" yields \"(abc)\"."
   ]
  },
  {
   "cell_type": "code",
   "execution_count": 194,
   "metadata": {},
   "outputs": [],
   "source": [
    "def parenBit(string):\n",
    "    assert string.count('(') == 1 and string.count(')') == 1\n",
    "    assert string.index('(') < string.index(')')\n",
    "    if len(string) < 3:\n",
    "        return '()'\n",
    "    if string[0] != '(':\n",
    "        return parenBit(string[1:])\n",
    "    else:\n",
    "        if string[-1] != ')':\n",
    "            return parenBit(string[:-1])\n",
    "        else:\n",
    "            return string"
   ]
  },
  {
   "cell_type": "markdown",
   "metadata": {},
   "source": [
    "### nestParen\n",
    "Given a string, return true if it is a nesting of zero or more pairs of parenthesis, like \"(())\" or \"((()))\". Suggestion: check the first and last chars, and then recur on what's inside them."
   ]
  },
  {
   "cell_type": "code",
   "execution_count": 12,
   "metadata": {},
   "outputs": [],
   "source": [
    "def nestParen(string):\n",
    "    if len(string) % 2 == 1:\n",
    "        return False\n",
    "    if len(string) == 0:\n",
    "        return True\n",
    "    if string[0] != '(' or string[-1] != ')':\n",
    "        return False\n",
    "    return nestParen(string[1:len(string)-1])"
   ]
  },
  {
   "cell_type": "markdown",
   "metadata": {},
   "source": [
    "### strCount\n",
    "Given a string and a non-empty substring sub, compute recursively the number of times that sub appears in the string, without the sub strings overlapping."
   ]
  },
  {
   "cell_type": "code",
   "execution_count": 23,
   "metadata": {},
   "outputs": [],
   "source": [
    "def strCount(string, sub):\n",
    "    assert len(sub) != 0\n",
    "    if len(string) < len(sub):\n",
    "        return 0\n",
    "    if string[:len(sub)] == sub:\n",
    "        return 1 + strCount(string[len(sub):], sub)\n",
    "    return strCount(string[1:], sub)"
   ]
  },
  {
   "cell_type": "markdown",
   "metadata": {},
   "source": [
    "### strCopies\n",
    "Given a string and a non-empty substring sub, compute recursively if at least n copies of sub appear in the string somewhere, possibly with overlapping. N will be non-negative."
   ]
  },
  {
   "cell_type": "code",
   "execution_count": 40,
   "metadata": {},
   "outputs": [],
   "source": [
    "def strCopies(string, sub, n):\n",
    "    assert len(sub) != 0 and n >= 0\n",
    "    if len(string) < len(sub) and n > 0:\n",
    "        return False\n",
    "    if n == 0:\n",
    "        return True\n",
    "    if string[:len(sub)] == sub:\n",
    "        return strCopies(string[1:], sub, n-1)\n",
    "    return strCopies(string[1:], sub, n)"
   ]
  },
  {
   "cell_type": "markdown",
   "metadata": {},
   "source": [
    "### strDist\n",
    "Given a string and a non-empty substring sub, compute recursively the largest substring which starts and ends with sub and return its length.\n",
    "\n"
   ]
  },
  {
   "cell_type": "code",
   "execution_count": 64,
   "metadata": {},
   "outputs": [],
   "source": [
    "def strDist(string, sub):\n",
    "    assert len(sub) != 0\n",
    "    if len(string) < len(sub):\n",
    "        return 0\n",
    "    if string[0:len(sub)] != sub:\n",
    "        return strDist(string[1:], sub)\n",
    "    else:\n",
    "        if string[len(string)-len(sub):len(string)] != sub:\n",
    "            return strDist(string[:-1], sub)\n",
    "        else:\n",
    "            return len(string)"
   ]
  }
 ],
 "metadata": {
  "kernelspec": {
   "display_name": "Python 3",
   "language": "python",
   "name": "python3"
  },
  "language_info": {
   "codemirror_mode": {
    "name": "ipython",
    "version": 3
   },
   "file_extension": ".py",
   "mimetype": "text/x-python",
   "name": "python",
   "nbconvert_exporter": "python",
   "pygments_lexer": "ipython3",
   "version": "3.8.3"
  }
 },
 "nbformat": 4,
 "nbformat_minor": 2
}
