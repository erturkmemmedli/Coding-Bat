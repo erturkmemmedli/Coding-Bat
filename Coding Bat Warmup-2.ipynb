{
 "cells": [
  {
   "cell_type": "markdown",
   "metadata": {},
   "source": [
    "### stringTimes\n",
    "Given a string and a non-negative int n, return a larger string that is n copies of the original string.\n",
    "\n"
   ]
  },
  {
   "cell_type": "code",
   "execution_count": 1,
   "metadata": {},
   "outputs": [],
   "source": [
    "def stringTimes(string, n):\n",
    "    assert n >= 0\n",
    "    return string * n"
   ]
  },
  {
   "cell_type": "markdown",
   "metadata": {},
   "source": [
    "### frontTimes\n",
    "Given a string and a non-negative int n, we'll say that the front of the string is the first 3 chars, or whatever is there if the string is less than length 3. Return n copies of the front;\n",
    "\n"
   ]
  },
  {
   "cell_type": "code",
   "execution_count": 6,
   "metadata": {},
   "outputs": [],
   "source": [
    "def frontTimes(string, n):\n",
    "    assert n >= 0\n",
    "    if len(string) < 3:\n",
    "        return string * n\n",
    "    return string[:3] * n"
   ]
  },
  {
   "cell_type": "markdown",
   "metadata": {},
   "source": [
    "### countXX\n",
    "Count the number of \"xx\" in the given string. We'll say that overlapping is allowed, so \"xxx\" contains 2 \"xx\"."
   ]
  },
  {
   "cell_type": "code",
   "execution_count": 10,
   "metadata": {},
   "outputs": [],
   "source": [
    "def countXX(string):\n",
    "    count = 0\n",
    "    for i in range(len(string) - 1):\n",
    "        if string[i:i+2] == 'xx':\n",
    "            count += 1\n",
    "    return count"
   ]
  },
  {
   "cell_type": "markdown",
   "metadata": {},
   "source": [
    "### doubleX\n",
    "Given a string, return true if the first instance of \"x\" in the string is immediately followed by another \"x\".\n",
    "\n"
   ]
  },
  {
   "cell_type": "code",
   "execution_count": 24,
   "metadata": {},
   "outputs": [],
   "source": [
    "def doubleX(string):\n",
    "    condition = False\n",
    "    for i in range(len(string) - 1):\n",
    "        if string[i] == 'x':\n",
    "            if string[i+1] == 'x':\n",
    "                condition = True\n",
    "                break\n",
    "            break\n",
    "    return condition"
   ]
  },
  {
   "cell_type": "markdown",
   "metadata": {},
   "source": [
    "### stringBits\n",
    "Given a string, return a new string made of every other char starting with the first, so \"Hello\" yields \"Hlo\".\n",
    "\n"
   ]
  },
  {
   "cell_type": "code",
   "execution_count": 40,
   "metadata": {},
   "outputs": [],
   "source": [
    "def stringBits(string):\n",
    "    new_string = ''\n",
    "    return ''.join([new_string + i for i in string[::2]])"
   ]
  },
  {
   "cell_type": "markdown",
   "metadata": {},
   "source": [
    "###  stringSplosion\n",
    "Given a non-empty string like \"Code\" return a string like \"CCoCodCode\"."
   ]
  },
  {
   "cell_type": "code",
   "execution_count": 55,
   "metadata": {},
   "outputs": [],
   "source": [
    "def stringSplosion(string):\n",
    "    assert string != ''\n",
    "    new_string = ''\n",
    "    return ''.join([new_string + string[:i] for i in range(len(string) + 1)])"
   ]
  },
  {
   "cell_type": "code",
   "execution_count": 61,
   "metadata": {},
   "outputs": [
    {
     "data": {
      "text/plain": [
       "'aab'"
      ]
     },
     "execution_count": 61,
     "metadata": {},
     "output_type": "execute_result"
    }
   ],
   "source": [
    "stringSplosion('ab')"
   ]
  },
  {
   "cell_type": "markdown",
   "metadata": {},
   "source": [
    "### last2\n",
    "Given a string, return the count of the number of times that a substring length 2 appears in the string and also as the last 2 chars of the string, so \"hixxxhi\" yields 1 (we won't count the end substring)."
   ]
  },
  {
   "cell_type": "code",
   "execution_count": 66,
   "metadata": {},
   "outputs": [],
   "source": [
    "def last2(string):\n",
    "    part = string[-2:]\n",
    "    count = 0\n",
    "    for i in range(len(string) - 2):\n",
    "        if string[i:i+2] == part:\n",
    "            count += 1\n",
    "    return count"
   ]
  },
  {
   "cell_type": "markdown",
   "metadata": {},
   "source": [
    "### arrayCount9\n",
    "Given an array of ints, return the number of 9's in the array.\n",
    "\n"
   ]
  },
  {
   "cell_type": "code",
   "execution_count": 100,
   "metadata": {},
   "outputs": [],
   "source": [
    "def arrayCount9(A):\n",
    "    count = 0\n",
    "    for i in range(len(A)):\n",
    "        if A[i] == 9:\n",
    "            count += 1\n",
    "    return count"
   ]
  },
  {
   "cell_type": "markdown",
   "metadata": {},
   "source": [
    "### arrayFront9\n",
    "Given an array of ints, return true if one of the first 4 elements in the array is a 9. The array length may be less than 4.\n",
    "\n"
   ]
  },
  {
   "cell_type": "code",
   "execution_count": 111,
   "metadata": {},
   "outputs": [],
   "source": [
    "def arrayFront9(A):\n",
    "    return 9 in A[:4]"
   ]
  },
  {
   "cell_type": "markdown",
   "metadata": {},
   "source": [
    "### array123\n",
    "Given an array of ints, return true if the sequence of numbers 1, 2, 3 appears in the array somewhere.\n",
    "\n"
   ]
  },
  {
   "cell_type": "code",
   "execution_count": 125,
   "metadata": {},
   "outputs": [],
   "source": [
    "def array123(A):\n",
    "    condition = False\n",
    "    for i in range(len(A) - 2):\n",
    "        if A[i:i+3] == [1, 2, 3]:\n",
    "            condition =  True\n",
    "    return condition"
   ]
  },
  {
   "cell_type": "markdown",
   "metadata": {},
   "source": [
    "### stringMatch\n",
    "Given 2 strings, a and b, return the number of the positions where they contain the same length 2 substring. So \"xxcaazz\" and \"xxbaaz\" yields 3, since the \"xx\", \"aa\", and \"az\" substrings appear in the same place in both strings."
   ]
  },
  {
   "cell_type": "code",
   "execution_count": 134,
   "metadata": {},
   "outputs": [],
   "source": [
    "def stringMatch(stringA, stringB):\n",
    "    count = 0\n",
    "    for i in range(min(len(stringA) - 1, len(stringB) - 1)):\n",
    "        if stringA[i:i+2] == stringB[i:i+2]:\n",
    "            count += 1\n",
    "    return count"
   ]
  },
  {
   "cell_type": "markdown",
   "metadata": {},
   "source": [
    "### stringX\n",
    "Given a string, return a version where all the \"x\" have been removed. Except an \"x\" at the very start or end should not be removed.\n",
    "\n"
   ]
  },
  {
   "cell_type": "code",
   "execution_count": 155,
   "metadata": {},
   "outputs": [],
   "source": [
    "def stringX(string):\n",
    "    if len(string) <= 1:\n",
    "        return string\n",
    "    new_string = string[0]\n",
    "    for i in range (1, len(string)-1):\n",
    "        if string[i] != 'x':\n",
    "            new_string += string[i]\n",
    "    new_string += string[-1]\n",
    "    return new_string"
   ]
  },
  {
   "cell_type": "markdown",
   "metadata": {},
   "source": [
    "### altPairs\n",
    "Given a string, return a string made of the chars at indexes 0,1, 4,5, 8,9 ... so \"kittens\" yields \"kien\"."
   ]
  },
  {
   "cell_type": "code",
   "execution_count": 175,
   "metadata": {},
   "outputs": [],
   "source": [
    "def altPairs(string):\n",
    "    new_string = ''\n",
    "    return ''.join([new_string + string[4*i:4*i+2] for i in range(len(string) - 1)])"
   ]
  },
  {
   "cell_type": "markdown",
   "metadata": {},
   "source": [
    "### stringYak\n",
    "Suppose the string \"yak\" is unlucky. Given a string, return a version where all the \"yak\" are removed, but the \"a\" can be any char. The \"yak\" strings will not overlap."
   ]
  },
  {
   "cell_type": "code",
   "execution_count": 1,
   "metadata": {},
   "outputs": [],
   "source": [
    "def stringYak(string):\n",
    "    new_string = ''\n",
    "    i = 0\n",
    "    while i < len(string):\n",
    "        if i <= len(string) - 3 and string[i] == 'y' and string[i+2] == 'k':\n",
    "            i += 3\n",
    "            continue\n",
    "        new_string += string[i]\n",
    "        i += 1\n",
    "    return new_string"
   ]
  },
  {
   "cell_type": "markdown",
   "metadata": {},
   "source": [
    "### array667\n",
    "Given an array of ints, return the number of times that two 6's are next to each other in the array. Also count instances where the second \"6\" is actually a 7."
   ]
  },
  {
   "cell_type": "code",
   "execution_count": 10,
   "metadata": {},
   "outputs": [],
   "source": [
    "def array667(A):\n",
    "    count = 0\n",
    "    for i in range(len(A) - 1):\n",
    "        if A[i] == 6 and (A[i+1] == 6 or A[i+1] == 7):\n",
    "            count += 1\n",
    "    return count"
   ]
  },
  {
   "cell_type": "markdown",
   "metadata": {},
   "source": [
    "### noTriples\n",
    "Given an array of ints, we'll say that a triple is a value appearing 3 times in a row in the array. Return true if the array does not contain any triples.\n",
    "\n"
   ]
  },
  {
   "cell_type": "code",
   "execution_count": 21,
   "metadata": {},
   "outputs": [],
   "source": [
    "def noTriples(A):\n",
    "    for i in range(len(A) - 2):\n",
    "        if A[i] == A[i+1] and A[i+1] == A[i+2]:\n",
    "            return False\n",
    "    return True"
   ]
  },
  {
   "cell_type": "markdown",
   "metadata": {},
   "source": [
    "### has271\n",
    "Given an array of ints, return true if it contains a 2, 7, 1 pattern: a value, followed by the value plus 5, followed by the value minus 1. Additionally the 271 counts even if the \"1\" differs by 2 or less from the correct value."
   ]
  },
  {
   "cell_type": "code",
   "execution_count": 52,
   "metadata": {},
   "outputs": [],
   "source": [
    "def has271(A):\n",
    "    for i in range(len(A) - 2):\n",
    "        if A[i+1] == A[i] + 5 and -1 <= A[i] - A[i+2] and A[i] - A[i+2] <= 3:\n",
    "            return True\n",
    "    return False"
   ]
  }
 ],
 "metadata": {
  "kernelspec": {
   "display_name": "Python 3",
   "language": "python",
   "name": "python3"
  },
  "language_info": {
   "codemirror_mode": {
    "name": "ipython",
    "version": 3
   },
   "file_extension": ".py",
   "mimetype": "text/x-python",
   "name": "python",
   "nbconvert_exporter": "python",
   "pygments_lexer": "ipython3",
   "version": "3.7.3"
  }
 },
 "nbformat": 4,
 "nbformat_minor": 2
}
