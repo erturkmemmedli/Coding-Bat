{
 "cells": [
  {
   "cell_type": "markdown",
   "metadata": {},
   "source": [
    "### doubleChar\n",
    "Given a string, return a string where for every char in the original, there are two chars."
   ]
  },
  {
   "cell_type": "code",
   "execution_count": 3,
   "metadata": {},
   "outputs": [],
   "source": [
    "def doubleChar(string):\n",
    "    new_string = ''\n",
    "    return ''.join([new_string + i * 2 for i in string])"
   ]
  },
  {
   "cell_type": "markdown",
   "metadata": {},
   "source": [
    "### countHi\n",
    "Return the number of times that the string \"hi\" appears anywhere in the given string."
   ]
  },
  {
   "cell_type": "code",
   "execution_count": 7,
   "metadata": {},
   "outputs": [],
   "source": [
    "def countHi(string):\n",
    "    count = 0\n",
    "    for i in range(len(string) - 1):\n",
    "        if string[i:i+2] == 'hi':\n",
    "            count += 1\n",
    "    return count"
   ]
  },
  {
   "cell_type": "markdown",
   "metadata": {},
   "source": [
    "### catDog\n",
    "Return true if the string \"cat\" and \"dog\" appear the same number of times in the given string."
   ]
  },
  {
   "cell_type": "code",
   "execution_count": 14,
   "metadata": {},
   "outputs": [],
   "source": [
    "def catDog(string):\n",
    "    count_cat = 0\n",
    "    count_dog = 0\n",
    "    for i in range(len(string) - 2):\n",
    "        if string[i:i+3] == 'cat':\n",
    "            count_cat += 1\n",
    "        if string[i:i+3] == 'dog':\n",
    "            count_dog += 1\n",
    "    return count_cat == count_dog"
   ]
  },
  {
   "cell_type": "markdown",
   "metadata": {},
   "source": [
    "### countCode\n",
    "Return the number of times that the string \"code\" appears anywhere in the given string, except we'll accept any letter for the 'd', so \"cope\" and \"cooe\" count."
   ]
  },
  {
   "cell_type": "code",
   "execution_count": 39,
   "metadata": {},
   "outputs": [],
   "source": [
    "def countCode(string):\n",
    "    count = 0\n",
    "    for i in range(len(string) - 3):\n",
    "        if string[i:i+2] == 'co' and string[i+3] == 'e':\n",
    "            count += 1\n",
    "    return count"
   ]
  },
  {
   "cell_type": "markdown",
   "metadata": {},
   "source": [
    "### endOther\n",
    "Given two strings, return true if either of the strings appears at the very end of the other string, ignoring upper/lower case differences (in other words, the computation should not be \"case sensitive\"). Note: str.toLowerCase() returns the lowercase version of a string.\n",
    "\n"
   ]
  },
  {
   "cell_type": "code",
   "execution_count": 51,
   "metadata": {},
   "outputs": [],
   "source": [
    "def endOther(strA, strB):\n",
    "    if len(strA) >= len(strB):\n",
    "        return strB.lower() == strA[-len(strB):].lower()\n",
    "    return strA.lower() == strB[-len(strA):].lower()"
   ]
  },
  {
   "cell_type": "markdown",
   "metadata": {},
   "source": [
    "### xyzThere\n",
    "Return true if the given string contains an appearance of \"xyz\" where the xyz is not directly preceeded by a period (.). So \"xxyz\" counts but \"x.xyz\" does not.\n",
    "\n"
   ]
  },
  {
   "cell_type": "code",
   "execution_count": 85,
   "metadata": {},
   "outputs": [],
   "source": [
    "def xyzThere(string):\n",
    "    if len(string) <= 3:\n",
    "        return string == 'xyz'\n",
    "    for i in range(len(string) - 3):\n",
    "        if i != 0:\n",
    "            if string[i] != '.' and string [i+1:i+4] == 'xyz':\n",
    "                return True\n",
    "        if i == 0:\n",
    "            if string [i:i+3] == 'xyz':\n",
    "                return True\n",
    "    return False"
   ]
  },
  {
   "cell_type": "markdown",
   "metadata": {},
   "source": [
    "### bobThere\n",
    "Return true if the given string contains a \"bob\" string, but where the middle 'o' char can be any char."
   ]
  },
  {
   "cell_type": "code",
   "execution_count": 87,
   "metadata": {},
   "outputs": [],
   "source": [
    "def bobThere(string):\n",
    "    for i in range(len(string) - 2):\n",
    "        if string[i] == 'b' and string[i+2] == 'b':\n",
    "            return True\n",
    "    return False"
   ]
  },
  {
   "cell_type": "markdown",
   "metadata": {},
   "source": [
    "### xyBalance\n",
    "We'll say that a String is xy-balanced if for all the 'x' chars in the string, there exists a 'y' char somewhere later in the string. So \"xxy\" is balanced, but \"xyx\" is not. One 'y' can balance multiple 'x's. Return true if the given string is xy-balanced."
   ]
  },
  {
   "cell_type": "code",
   "execution_count": 282,
   "metadata": {},
   "outputs": [],
   "source": [
    "def xyBalance(string):\n",
    "    for i in range(len(string)-1, -1, -1):\n",
    "        if string[i] == 'y':\n",
    "            return True\n",
    "        if string[i] == 'x':\n",
    "            return False\n",
    "    return True"
   ]
  },
  {
   "cell_type": "markdown",
   "metadata": {},
   "source": [
    "### mixString\n",
    "Given two strings, a and b, create a bigger string made of the first char of a, the first char of b, the second char of a, the second char of b, and so on. Any leftover chars go at the end of the result.\n",
    "\n"
   ]
  },
  {
   "cell_type": "code",
   "execution_count": 146,
   "metadata": {},
   "outputs": [],
   "source": [
    "def mixString(strA, strB):\n",
    "    new_str = ''\n",
    "    for i in range(min(len(strA), len(strB))):\n",
    "        new_str += strA[i] + strB[i]\n",
    "    if len(strA) > len(strB):\n",
    "        new_str += strA[len(strB):]\n",
    "    if len(strA) < len(strB):\n",
    "        new_str += strB[len(strA):]\n",
    "    return new_str"
   ]
  },
  {
   "cell_type": "markdown",
   "metadata": {},
   "source": [
    "### repeatEnd\n",
    "Given a string and an int n, return a string made of n repetitions of the last n characters of the string. You may assume that n is between 0 and the length of the string, inclusive."
   ]
  },
  {
   "cell_type": "code",
   "execution_count": 151,
   "metadata": {},
   "outputs": [],
   "source": [
    "def repeatEnd(string, n):\n",
    "    assert 0 <= n <= len(string)\n",
    "    return string[-n:] * n"
   ]
  },
  {
   "cell_type": "markdown",
   "metadata": {},
   "source": [
    "### repeatFront\n",
    "Given a string and an int n, return a string made of the first n characters of the string, followed by the first n-1 characters of the string, and so on. You may assume that n is between 0 and the length of the string, inclusive (i.e. n >= 0 and n <= str.length())."
   ]
  },
  {
   "cell_type": "code",
   "execution_count": 171,
   "metadata": {},
   "outputs": [],
   "source": [
    "def repeatFront(string, n):\n",
    "    assert 0 <= n <= len(string)\n",
    "    new_string = ''\n",
    "    while n > 0:\n",
    "        new_string += string[:n]\n",
    "        n -= 1\n",
    "    return new_string"
   ]
  },
  {
   "cell_type": "markdown",
   "metadata": {},
   "source": [
    "### repeatSeparator\n",
    "Given two strings, word and a separator sep, return a big string made of count occurrences of the word, separated by the separator string.\n",
    "\n"
   ]
  },
  {
   "cell_type": "code",
   "execution_count": 182,
   "metadata": {},
   "outputs": [],
   "source": [
    "def repeatSeparator(word, sep, count):\n",
    "    string = ''\n",
    "    for i in range (0, count):\n",
    "        string += word\n",
    "        if i == count - 1:\n",
    "            break\n",
    "        string += sep\n",
    "    return string"
   ]
  },
  {
   "cell_type": "markdown",
   "metadata": {},
   "source": [
    "### prefixAgain\n",
    "Given a string, consider the prefix string made of the first N chars of the string. Does that prefix string appear somewhere else in the string? Assume that the string is not empty and that N is in the range 1..str.length().\n",
    "\n"
   ]
  },
  {
   "cell_type": "code",
   "execution_count": 218,
   "metadata": {},
   "outputs": [],
   "source": [
    "def prefixAgain(string, N):\n",
    "    assert string != ''\n",
    "    assert 1 <= N <= len(string)\n",
    "    prefix = string[:N]\n",
    "    for i in range(1, len(string) - len(prefix) + 1):\n",
    "        if prefix == string[i:i+len(prefix)]:\n",
    "            return True\n",
    "    return False"
   ]
  },
  {
   "cell_type": "markdown",
   "metadata": {},
   "source": [
    "### xyzMiddle\n",
    "Given a string, does \"xyz\" appear in the middle of the string? To define middle, we'll say that the number of chars to the left and right of the \"xyz\" must differ by at most one. This problem is harder than it looks."
   ]
  },
  {
   "cell_type": "code",
   "execution_count": 251,
   "metadata": {},
   "outputs": [],
   "source": [
    "def xyzMiddle(string):\n",
    "    if len(string) < 3:\n",
    "        return False\n",
    "    for i in range(len(string) - 2):\n",
    "        if string[i:i+3] == 'xyz':\n",
    "            if abs(len(string[:i]) - len(string[i+3:])) <= 1:\n",
    "                return True\n",
    "    return False"
   ]
  },
  {
   "cell_type": "markdown",
   "metadata": {},
   "source": [
    "### getSandwich\n",
    "A sandwich is two pieces of bread with something in between. Return the string that is between the first and last appearance of \"bread\" in the given string, or return the empty string \"\" if there are not two pieces of bread."
   ]
  },
  {
   "cell_type": "code",
   "execution_count": 307,
   "metadata": {},
   "outputs": [],
   "source": [
    "def getSandwich(string):\n",
    "    if len(string) <= 10:\n",
    "        return ''\n",
    "    for i in range(len(string)):\n",
    "        if string[i:i+5] == 'bread':\n",
    "            string = string[i+5:]\n",
    "            break\n",
    "    if len(string) <= 5:\n",
    "        return ''\n",
    "    for j in range(len(string)-1, -1, -1):\n",
    "        if string[j-4:j+1] == 'bread': \n",
    "            return string[:j-4]\n",
    "    return ''"
   ]
  },
  {
   "cell_type": "markdown",
   "metadata": {},
   "source": [
    "### sameStarChar\n",
    "Returns true if for every '*' (star) in the string, if there are chars both immediately before and after the star, they are the same."
   ]
  },
  {
   "cell_type": "code",
   "execution_count": 315,
   "metadata": {},
   "outputs": [],
   "source": [
    "def sameStarChar(string):\n",
    "    if len(string) <= 2:\n",
    "        return True\n",
    "    for i in range(1, len(string) - 1):\n",
    "        if string[i] == '*' and string[i-1] != string[i+1]:\n",
    "            return False\n",
    "    return True        "
   ]
  },
  {
   "cell_type": "markdown",
   "metadata": {},
   "source": [
    "### oneTwo\n",
    "Given a string, compute a new string by moving the first char to come after the next two chars, so \"abc\" yields \"bca\". Repeat this process for each subsequent group of 3 chars, so \"abcdef\" yields \"bcaefd\". Ignore any group of fewer than 3 chars at the end."
   ]
  },
  {
   "cell_type": "code",
   "execution_count": 343,
   "metadata": {},
   "outputs": [],
   "source": [
    "def oneTwo(string):\n",
    "    if len(string) % 3 == 1:\n",
    "        string = string[:len(string) - 1]\n",
    "    if len(string) % 3 == 2:\n",
    "        string = string[:len(string) - 2]\n",
    "    new_str = '' \n",
    "    i = 0\n",
    "    while i < len(string):\n",
    "        new_str += string[i+1:i+3] + string[i]\n",
    "        i += 3\n",
    "    return new_str"
   ]
  },
  {
   "cell_type": "markdown",
   "metadata": {},
   "source": [
    "### zipZap\n",
    "Look for patterns like \"zip\" and \"zap\" in the string -- length-3, starting with 'z' and ending with 'p'. Return a string where for all such words, the middle letter is gone, so \"zipXzap\" yields \"zpXzp\"."
   ]
  },
  {
   "cell_type": "code",
   "execution_count": 26,
   "metadata": {},
   "outputs": [],
   "source": [
    "def zipZap(string):\n",
    "    if len(string) < 3:\n",
    "        return string\n",
    "    new_str = ''\n",
    "    i = 0\n",
    "    while i < len(string):\n",
    "        new_str += string[i]\n",
    "        if string[i] == 'z' and string [i+2] == 'p' and i < len(string) - 2:\n",
    "            new_str += string[i+2]\n",
    "            i += 2\n",
    "        i += 1\n",
    "    return new_str"
   ]
  },
  {
   "cell_type": "markdown",
   "metadata": {},
   "source": [
    "### starOut\n",
    "Return a version of the given string, where for every star in the string the star and the chars immediately to its left and right are gone. So \"ab(star)cd\" yields \"ad\" and \"ab(star)(star)cd\" also yields \"ad\".\n",
    "\n"
   ]
  },
  {
   "cell_type": "code",
   "execution_count": 6,
   "metadata": {},
   "outputs": [],
   "source": [
    "def starOut(string):\n",
    "    new_string = ''\n",
    "    for i in range(len(string)):\n",
    "        if i == 0 and string[i] != \"*\":\n",
    "            new_string += string[i]\n",
    "        if i > 0:\n",
    "            if string[i] != \"*\" and string[i-1] != \"*\":\n",
    "                new_string += string[i]\n",
    "            if string[i] == \"*\" and string[i-1] != \"*\":\n",
    "                new_string = new_string[:len(new_string)-1]\n",
    "    return new_string"
   ]
  },
  {
   "cell_type": "markdown",
   "metadata": {},
   "source": [
    "### plusOut\n",
    "Given a string and a non-empty word string, return a version of the original String where all chars have been replaced by pluses (\"+\"), except for appearances of the word string which are preserved unchanged."
   ]
  },
  {
   "cell_type": "code",
   "execution_count": 25,
   "metadata": {},
   "outputs": [],
   "source": [
    "def plusOut(string, word):\n",
    "    assert len(word) > 0\n",
    "    new_str = ''\n",
    "    i = 0\n",
    "    while i < len(string):\n",
    "        if string[i:i+len(word)] != word:\n",
    "            new_str += '+'\n",
    "            i += 1\n",
    "            continue\n",
    "        else:\n",
    "            new_str += word\n",
    "            i += len(word)\n",
    "    return new_str"
   ]
  },
  {
   "cell_type": "markdown",
   "metadata": {},
   "source": [
    "### wordEnds\n",
    "Given a string and a non-empty word string, return a string made of each char just before and just after every appearance of the word in the string. Ignore cases where there is no char before or after the word, and a char may be included twice if it is between two words."
   ]
  },
  {
   "cell_type": "code",
   "execution_count": 53,
   "metadata": {},
   "outputs": [],
   "source": [
    "def wordEnds(string, word):\n",
    "    assert len(word) > 0\n",
    "    if len(string) <= len(word):\n",
    "        return ''\n",
    "    new_str = ''\n",
    "    for i in range(len(string)):\n",
    "        if i == 0 and string[i:i+len(word)] == word:\n",
    "            new_str += string[i+len(word)]\n",
    "        if i > 0 and i < len(string) - len(word) and string[i:i+len(word)] == word:\n",
    "            new_str += string[i-1] + string[i+len(word)]\n",
    "        if i == len(string) - len(word) and string[i:i+len(word)] == word:\n",
    "            new_str += string[i-1]\n",
    "    return new_str"
   ]
  }
 ],
 "metadata": {
  "kernelspec": {
   "display_name": "Python 3",
   "language": "python",
   "name": "python3"
  },
  "language_info": {
   "codemirror_mode": {
    "name": "ipython",
    "version": 3
   },
   "file_extension": ".py",
   "mimetype": "text/x-python",
   "name": "python",
   "nbconvert_exporter": "python",
   "pygments_lexer": "ipython3",
   "version": "3.7.3"
  }
 },
 "nbformat": 4,
 "nbformat_minor": 2
}
