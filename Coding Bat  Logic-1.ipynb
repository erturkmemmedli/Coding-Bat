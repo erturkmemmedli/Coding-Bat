{
 "cells": [
  {
   "cell_type": "markdown",
   "metadata": {},
   "source": [
    "### cigarParty\n",
    "When squirrels get together for a party, they like to have cigars. A squirrel party is successful when the number of cigars is between 40 and 60, inclusive. Unless it is the weekend, in which case there is no upper bound on the number of cigars. Return true if the party with the given values is successful, or false otherwise."
   ]
  },
  {
   "cell_type": "code",
   "execution_count": 9,
   "metadata": {},
   "outputs": [],
   "source": [
    "def cigarParty(cigars, weekend):\n",
    "    if weekend:\n",
    "        return cigars >= 40\n",
    "    return cigars >= 40 and cigars <= 60"
   ]
  },
  {
   "cell_type": "markdown",
   "metadata": {},
   "source": [
    "### dateFashion\n",
    "You and your date are trying to get a table at a restaurant. The parameter \"you\" is the stylishness of your clothes, in the range 0..10, and \"date\" is the stylishness of your date's clothes. The result getting the table is encoded as an int value with 0=no, 1=maybe, 2=yes. If either of you is very stylish, 8 or more, then the result is 2 (yes). With the exception that if either of you has style of 2 or less, then the result is 0 (no). Otherwise the result is 1 (maybe)."
   ]
  },
  {
   "cell_type": "code",
   "execution_count": 10,
   "metadata": {},
   "outputs": [],
   "source": [
    "def dateFashion(you, date):\n",
    "    if you >= 8 or date >= 8:\n",
    "        return 2\n",
    "    elif you <= 2 or date <= 2:\n",
    "        return 0\n",
    "    return 1"
   ]
  },
  {
   "cell_type": "markdown",
   "metadata": {},
   "source": [
    "### quirrelPlay\n",
    "The squirrels in Palo Alto spend most of the day playing. In particular, they play if the temperature is between 60 and 90 (inclusive). Unless it is summer, then the upper limit is 100 instead of 90. Given an int temperature and a boolean isSummer, return true if the squirrels play and false otherwise."
   ]
  },
  {
   "cell_type": "code",
   "execution_count": 11,
   "metadata": {},
   "outputs": [],
   "source": [
    "def squirrelPlay(temperature, isSummer):\n",
    "    if isSummer:\n",
    "        return temperature >= 60 and temperature <= 100\n",
    "    return temperature >= 60 and temperature <= 90"
   ]
  },
  {
   "cell_type": "markdown",
   "metadata": {},
   "source": [
    "### caughtSpeeding\n",
    "You are driving a little too fast, and a police officer stops you. Write code to compute the result, encoded as an int value: 0=no ticket, 1=small ticket, 2=big ticket. If speed is 60 or less, the result is 0. If speed is between 61 and 80 inclusive, the result is 1. If speed is 81 or more, the result is 2. Unless it is your birthday -- on that day, your speed can be 5 higher in all cases.\n",
    "\n"
   ]
  },
  {
   "cell_type": "code",
   "execution_count": 13,
   "metadata": {},
   "outputs": [],
   "source": [
    "def caughtSpeeding(speed, birthday):\n",
    "    if not birthday:\n",
    "        if speed < 60:\n",
    "            return 0\n",
    "        elif speed >= 61 and speed <= 80:\n",
    "            return 1\n",
    "        return 2\n",
    "    else:\n",
    "        if speed < 65:\n",
    "            return 0\n",
    "        elif speed >= 66 and speed <= 85:\n",
    "            return 1\n",
    "        return 2"
   ]
  },
  {
   "cell_type": "markdown",
   "metadata": {},
   "source": [
    "### sortaSum\n",
    "Given 2 ints, a and b, return their sum. However, sums in the range 10..19 inclusive, are forbidden, so in that case just return 20.\n",
    "\n"
   ]
  },
  {
   "cell_type": "code",
   "execution_count": 15,
   "metadata": {},
   "outputs": [],
   "source": [
    "def sortaSum(a, b):\n",
    "    if a + b >= 10 and a + b <= 19:\n",
    "        return 20\n",
    "    return a + b"
   ]
  },
  {
   "cell_type": "markdown",
   "metadata": {},
   "source": [
    "### alarmClock\n",
    "Given a day of the week encoded as 0=Sun, 1=Mon, 2=Tue, ...6=Sat, and a boolean indicating if we are on vacation, return a string of the form \"7:00\" indicating when the alarm clock should ring. Weekdays, the alarm should be \"7:00\" and on the weekend it should be \"10:00\". Unless we are on vacation -- then on weekdays it should be \"10:00\" and weekends it should be \"off\"."
   ]
  },
  {
   "cell_type": "code",
   "execution_count": 34,
   "metadata": {},
   "outputs": [],
   "source": [
    "def alarmClock(day, vacation):\n",
    "    assert 0 <= day <= 6\n",
    "    if vacation:\n",
    "        if day == 0 or day == 6:\n",
    "            return 'off'\n",
    "        return '10:00'\n",
    "    else:\n",
    "        if day == 0 or day == 6:\n",
    "            return '10:00'\n",
    "        return '7:00'"
   ]
  },
  {
   "cell_type": "markdown",
   "metadata": {},
   "source": [
    "### love6\n",
    "The number 6 is a truly great number. Given two int values, a and b, return true if either one is 6. Or if their sum or difference is 6. Note: the function Math.abs(num) computes the absolute value of a number."
   ]
  },
  {
   "cell_type": "code",
   "execution_count": 31,
   "metadata": {},
   "outputs": [],
   "source": [
    "def love6(a, b):\n",
    "    return a == 6 or b == 6 or a + b == 6 or abs(a - b) == 6"
   ]
  },
  {
   "cell_type": "markdown",
   "metadata": {},
   "source": [
    "###  in1To10\n",
    "Given a number n, return true if n is in the range 1..10, inclusive. Unless outsideMode is true, in which case return true if the number is less or equal to 1, or greater or equal to 10.\n",
    "\n"
   ]
  },
  {
   "cell_type": "code",
   "execution_count": 32,
   "metadata": {},
   "outputs": [],
   "source": [
    "def in1To10(n, outsideMode):\n",
    "    if not outsideMode:\n",
    "        return n >= 1 and n <= 10\n",
    "    return n <= 1 or n >= 10"
   ]
  },
  {
   "cell_type": "markdown",
   "metadata": {},
   "source": [
    "### specialEleven\n",
    "We'll say a number is special if it is a multiple of 11 or if it is one more than a multiple of 11. Return true if the given non-negative number is special. Use the % \"mod\" operator."
   ]
  },
  {
   "cell_type": "code",
   "execution_count": 33,
   "metadata": {},
   "outputs": [],
   "source": [
    "def specialEleven(n):\n",
    "    assert n >= 0\n",
    "    return n % 11 == 0 or n % 11 == 1"
   ]
  },
  {
   "cell_type": "markdown",
   "metadata": {},
   "source": [
    "### more20\n",
    "Return true if the given non-negative number is 1 or 2 more than a multiple of 20. "
   ]
  },
  {
   "cell_type": "code",
   "execution_count": 35,
   "metadata": {},
   "outputs": [],
   "source": [
    "def more20(n):\n",
    "    assert n >= 0\n",
    "    return n % 20 == 1 or n % 20 == 2"
   ]
  },
  {
   "cell_type": "markdown",
   "metadata": {},
   "source": [
    "### old35\n",
    "Return true if the given non-negative number is a multiple of 3 or 5, but not both. Use the % \"mod\" operator."
   ]
  },
  {
   "cell_type": "code",
   "execution_count": 43,
   "metadata": {},
   "outputs": [],
   "source": [
    "def old35(n):\n",
    "    assert n >= 0\n",
    "    return (n % 3 == 0 or n % 5 == 0) and not (n % 3 == 0 and n % 5 == 0)"
   ]
  },
  {
   "cell_type": "markdown",
   "metadata": {},
   "source": [
    "### less20\n",
    "Return true if the given non-negative number is 1 or 2 less than a multiple of 20. So for example 38 and 39 return true, but 40 returns false."
   ]
  },
  {
   "cell_type": "code",
   "execution_count": 45,
   "metadata": {},
   "outputs": [],
   "source": [
    "def less20(n):\n",
    "    assert n >= 0\n",
    "    return n % 20 == 19 or n % 20 == 18"
   ]
  },
  {
   "cell_type": "markdown",
   "metadata": {},
   "source": [
    "### nearTen\n",
    "Given a non-negative number \"num\", return true if num is within 2 of a multiple of 10. Note: (a % b) is the remainder of dividing a by b, so (7 % 5) is 2."
   ]
  },
  {
   "cell_type": "code",
   "execution_count": 47,
   "metadata": {},
   "outputs": [],
   "source": [
    "def nearTen(num):\n",
    "    assert num == 0\n",
    "    return num % 10 <= 2 or num % 10 >= 8"
   ]
  },
  {
   "cell_type": "markdown",
   "metadata": {},
   "source": [
    "### teenSum\n",
    "Given 2 ints, a and b, return their sum. However, \"teen\" values in the range 13..19 inclusive, are extra lucky. So if either value is a teen, just return 19."
   ]
  },
  {
   "cell_type": "code",
   "execution_count": 48,
   "metadata": {},
   "outputs": [],
   "source": [
    "def teenSum(a, b):\n",
    "    if (a >= 13 and a <= 19) or (b >= 13 and b <= 19):\n",
    "        return 19\n",
    "    return a + b"
   ]
  },
  {
   "cell_type": "markdown",
   "metadata": {},
   "source": [
    "### answerCell\n",
    "Your cell phone rings. Return true if you should answer it. Normally you answer, except in the morning you only answer if it is your mom calling. In all cases, if you are asleep, you do not answer.\n",
    "\n"
   ]
  },
  {
   "cell_type": "code",
   "execution_count": 49,
   "metadata": {},
   "outputs": [],
   "source": [
    "def answerCell(isMorning, isMom, isAsleep):\n",
    "    if isAsleep:\n",
    "        return False\n",
    "    if isMorning:\n",
    "        return isMom\n",
    "    return True"
   ]
  },
  {
   "cell_type": "markdown",
   "metadata": {},
   "source": [
    "### teaParty\n",
    "We are having a party with amounts of tea and candy. Return the int outcome of the party encoded as 0=bad, 1=good, or 2=great. A party is good (1) if both tea and candy are at least 5. However, if either tea or candy is at least double the amount of the other one, the party is great (2). However, in all cases, if either tea or candy is less than 5, the party is always bad (0).\n",
    "\n"
   ]
  },
  {
   "cell_type": "code",
   "execution_count": 56,
   "metadata": {},
   "outputs": [],
   "source": [
    "def teaParty(tea, candy):\n",
    "    if tea < 5 or candy < 5:\n",
    "        return 0\n",
    "    if tea >= candy * 2 or candy >= tea * 2:\n",
    "        return 2\n",
    "    return 1"
   ]
  },
  {
   "cell_type": "markdown",
   "metadata": {},
   "source": [
    "###  fizzString\n",
    "Given a string str, if the string starts with \"f\" return \"Fizz\". If the string ends with \"b\" return \"Buzz\". If both the \"f\" and \"b\" conditions are true, return \"FizzBuzz\". In all other cases, return the string unchanged"
   ]
  },
  {
   "cell_type": "code",
   "execution_count": 60,
   "metadata": {},
   "outputs": [],
   "source": [
    "def fizzString(string):\n",
    "    if len(string) == 0:\n",
    "        return string\n",
    "    if string[0] == 'f' and string[-1] == 'b':\n",
    "        return 'FizzBuzz'\n",
    "    if string[0] == 'f':\n",
    "        return 'Fizz'\n",
    "    if string[-1] == 'b':\n",
    "        return 'Buzz'\n",
    "    return string"
   ]
  },
  {
   "cell_type": "markdown",
   "metadata": {},
   "source": [
    "### fizzString2\n",
    "Given an int n, return the string form of the number followed by \"!\". So the int 6 yields \"6!\". Except if the number is divisible by 3 use \"Fizz\" instead of the number, and if the number is divisible by 5 use \"Buzz\", and if divisible by both 3 and 5, use \"FizzBuzz\". Note: the % \"mod\" operator computes the remainder after division, so 23 % 10 yields 3. What will the remainder be when one number divides evenly into another? "
   ]
  },
  {
   "cell_type": "code",
   "execution_count": 70,
   "metadata": {},
   "outputs": [],
   "source": [
    "def fizzString2(n):\n",
    "    if n % 15 == 0:\n",
    "        return 'FizzBuzz'\n",
    "    if n % 5 == 0:\n",
    "        return 'Buzz'\n",
    "    if n % 3 == 0:\n",
    "        return 'Fizz'\n",
    "    return str(n) + '!'"
   ]
  },
  {
   "cell_type": "markdown",
   "metadata": {},
   "source": [
    "###  twoAsOne\n",
    "Given three ints, a b c, return true if it is possible to add two of the ints to get the third."
   ]
  },
  {
   "cell_type": "code",
   "execution_count": 77,
   "metadata": {},
   "outputs": [],
   "source": [
    "def twoAsOne(a, b, c):\n",
    "    return a + b == c or a + c == b or b + c == a"
   ]
  },
  {
   "cell_type": "markdown",
   "metadata": {},
   "source": [
    "### inOrder\n",
    "Given three ints, a b c, return true if b is greater than a, and c is greater than b. However, with the exception that if \"bOk\" is true, b does not need to be greater than a.\n",
    "\n"
   ]
  },
  {
   "cell_type": "code",
   "execution_count": 78,
   "metadata": {},
   "outputs": [],
   "source": [
    "def inOrder(a, b, c, bOk):\n",
    "    if not bOk:\n",
    "        return b > a and c > b\n",
    "    return c > b"
   ]
  },
  {
   "cell_type": "markdown",
   "metadata": {},
   "source": [
    "### inOrderEqual\n",
    "Given three ints, a b c, return true if they are in strict increasing order, such as 2 5 11, or 5 6 7, but not 6 5 7 or 5 5 7. However, with the exception that if \"equalOk\" is true, equality is allowed, such as 5 5 7 or 5 5 5."
   ]
  },
  {
   "cell_type": "code",
   "execution_count": 85,
   "metadata": {},
   "outputs": [],
   "source": [
    "def inOrderEqual(a, b, c, equalOk):\n",
    "    if not equalOk:\n",
    "        return a < b and b < c\n",
    "    return a <= b and b <= c"
   ]
  },
  {
   "cell_type": "markdown",
   "metadata": {},
   "source": [
    "### lastDigit\n",
    "Given three ints, a b c, return true if two or more of them have the same rightmost digit. The ints are non-negative. Note: the % \"mod\" operator computes the remainder, e.g. 17 % 10 is 7."
   ]
  },
  {
   "cell_type": "code",
   "execution_count": 94,
   "metadata": {},
   "outputs": [],
   "source": [
    "def lastDigit(a, b, c):\n",
    "    assert a >= 0 and b >= 0 and c >= 0\n",
    "    return a % 10 == b % 10 or a % 10 == c % 10 or b % 10 == c % 10"
   ]
  },
  {
   "cell_type": "markdown",
   "metadata": {},
   "source": [
    "### lessBy10\n",
    "Given three ints, a b c, return true if one of them is 10 or more less than one of the others."
   ]
  },
  {
   "cell_type": "code",
   "execution_count": 97,
   "metadata": {},
   "outputs": [],
   "source": [
    "def lessBy10(a, b, c):\n",
    "    return abs(a - b) >= 10 or abs(a - c) >= 10 or abs(c - b) >= 10 "
   ]
  },
  {
   "cell_type": "markdown",
   "metadata": {},
   "source": [
    "### withoutDoubles\n",
    "Return the sum of two 6-sided dice rolls, each in the range 1..6. However, if noDoubles is true, if the two dice show the same value, increment one die to the next value, wrapping around to 1 if its value was 6."
   ]
  },
  {
   "cell_type": "code",
   "execution_count": 107,
   "metadata": {},
   "outputs": [],
   "source": [
    "def withoutDoubles(die1, die2, noDoubles):\n",
    "    assert 1 <= die1 <= 6 and 1 <= die2 <= 6\n",
    "    if not noDoubles or die1 != die2:\n",
    "        return die1 + die2\n",
    "    if die1 == die2 and die1 != 6:\n",
    "        return 2 * die1 + 1\n",
    "    return die1 + 1"
   ]
  },
  {
   "cell_type": "markdown",
   "metadata": {},
   "source": [
    "### maxMod5\n",
    "Given two int values, return whichever value is larger. However if the two values have the same remainder when divided by 5, then the return the smaller value. However, in all cases, if the two values are the same, return 0. Note: the % \"mod\" operator computes the remainder, e.g. 7 % 5 is 2."
   ]
  },
  {
   "cell_type": "code",
   "execution_count": 118,
   "metadata": {},
   "outputs": [],
   "source": [
    "def maxMod5(a, b):\n",
    "    if a == b:\n",
    "        return 0\n",
    "    if a % 5 == b % 5:\n",
    "        return min(a, b)\n",
    "    return max(a, b)"
   ]
  },
  {
   "cell_type": "markdown",
   "metadata": {},
   "source": [
    "### redTicket\n",
    "You have a red lottery ticket showing ints a, b, and c, each of which is 0, 1, or 2. If they are all the value 2, the result is 10. Otherwise if they are all the same, the result is 5. Otherwise so long as both b and c are different from a, the result is 1. Otherwise the result is 0.\n",
    "\n",
    " "
   ]
  },
  {
   "cell_type": "code",
   "execution_count": 119,
   "metadata": {},
   "outputs": [],
   "source": [
    "def redTicket(a, b, c):\n",
    "    assert 0 <= a <= 2 and 0 <= b <= 2 and 0 <= c <= 2\n",
    "    if a == 2 and b == 2 and c == 2:\n",
    "        return 10\n",
    "    if a == b and b == c:\n",
    "        return 5\n",
    "    if a != b and a != c:\n",
    "        return 1\n",
    "    return 0"
   ]
  },
  {
   "cell_type": "markdown",
   "metadata": {},
   "source": [
    "### greenTicket\n",
    "You have a green lottery ticket, with ints a, b, and c on it. If the numbers are all different from each other, the result is 0. If all of the numbers are the same, the result is 20. If two of the numbers are the same, the result is 10.\n",
    "\n"
   ]
  },
  {
   "cell_type": "code",
   "execution_count": 121,
   "metadata": {},
   "outputs": [],
   "source": [
    "def greenTicket(a, b, c):\n",
    "    if a != b and b != c and a != c:\n",
    "        return 0\n",
    "    if a == b and b == c:\n",
    "        return 20\n",
    "    return 10"
   ]
  },
  {
   "cell_type": "markdown",
   "metadata": {},
   "source": [
    "### blueTicket\n",
    "You have a blue lottery ticket, with ints a, b, and c on it. This makes three pairs, which we'll call ab, bc, and ac. Consider the sum of the numbers in each pair. If any pair sums to exactly 10, the result is 10. Otherwise if the ab sum is exactly 10 more than either bc or ac sums, the result is 5. Otherwise the result is 0."
   ]
  },
  {
   "cell_type": "code",
   "execution_count": 129,
   "metadata": {},
   "outputs": [],
   "source": [
    "def blueTicket(a, b, c):\n",
    "    if a + b == 10 or a + c == 10 or b + c == 10:\n",
    "        return 10\n",
    "    if a + b == b + c + 10 or a + b == a + c + 10:\n",
    "        return 5\n",
    "    return 0"
   ]
  },
  {
   "cell_type": "markdown",
   "metadata": {},
   "source": [
    "### shareDigit\n",
    "Given two ints, each in the range 10..99, return true if there is a digit that appears in both numbers, such as the 2 in 12 and 23. (Note: division, e.g. n/10, gives the left digit while the % \"mod\" n%10 gives the right digit.)\n",
    "\n"
   ]
  },
  {
   "cell_type": "code",
   "execution_count": 131,
   "metadata": {},
   "outputs": [],
   "source": [
    "def shareDigit(a, b):\n",
    "    assert 10 <= a <= 99 and 10 <= b <= 99\n",
    "    return a // 10 == b // 10 or a // 10 == b % 10 or a % 10 == b // 10 or a % 10 == b % 10"
   ]
  },
  {
   "cell_type": "markdown",
   "metadata": {},
   "source": [
    "### sumLimit\n",
    "Given 2 non-negative ints, a and b, return their sum, so long as the sum has the same number of digits as a. If the sum has more digits than a, just return a without b. (Note: one way to compute the number of digits of a non-negative int n is to convert it to a string with String.valueOf(n) and then check the length of the string.)\n",
    "\n"
   ]
  },
  {
   "cell_type": "code",
   "execution_count": 132,
   "metadata": {},
   "outputs": [],
   "source": [
    "def sumLimit(a, b):\n",
    "    assert a >= 0 and b >= 0\n",
    "    if len(str(a + b)) > len(str(a)):\n",
    "        return a\n",
    "    return a + b"
   ]
  }
 ],
 "metadata": {
  "kernelspec": {
   "display_name": "Python 3",
   "language": "python",
   "name": "python3"
  },
  "language_info": {
   "codemirror_mode": {
    "name": "ipython",
    "version": 3
   },
   "file_extension": ".py",
   "mimetype": "text/x-python",
   "name": "python",
   "nbconvert_exporter": "python",
   "pygments_lexer": "ipython3",
   "version": "3.7.3"
  }
 },
 "nbformat": 4,
 "nbformat_minor": 2
}
