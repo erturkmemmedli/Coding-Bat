{
 "cells": [
  {
   "cell_type": "markdown",
   "metadata": {},
   "source": [
    "### countEvens\n",
    "Return the number of even ints in the given array. Note: the % \"mod\" operator computes the remainder, e.g. 5 % 2 is 1."
   ]
  },
  {
   "cell_type": "code",
   "execution_count": 2,
   "metadata": {},
   "outputs": [],
   "source": [
    "def countEvens(A):\n",
    "    count = 0\n",
    "    for i in range(len(A)):\n",
    "        if A[i] % 2 == 0:\n",
    "            count += 1\n",
    "    return count"
   ]
  },
  {
   "cell_type": "markdown",
   "metadata": {},
   "source": [
    "### bigDiff\n",
    "Given an array length 1 or more of ints, return the difference between the largest and smallest values in the array. Note: the built-in Math.min(v1, v2) and Math.max(v1, v2) methods return the smaller or larger of two values."
   ]
  },
  {
   "cell_type": "code",
   "execution_count": 5,
   "metadata": {},
   "outputs": [],
   "source": [
    "def bigDiff(A):\n",
    "    assert len(A) >= 1\n",
    "    return max(A) - min(A)"
   ]
  },
  {
   "cell_type": "markdown",
   "metadata": {},
   "source": [
    "### centeredAverage\n",
    "Return the \"centered\" average of an array of ints, which we'll say is the mean average of the values, except ignoring the largest and smallest values in the array. If there are multiple copies of the smallest value, ignore just one copy, and likewise for the largest value. Use int division to produce the final average. You may assume that the array is length 3 or more.\n",
    "\n"
   ]
  },
  {
   "cell_type": "code",
   "execution_count": 23,
   "metadata": {},
   "outputs": [],
   "source": [
    "def centeredAverage(A):\n",
    "    assert len(A) >= 3\n",
    "    A = sorted(A)\n",
    "    if len(A) % 2 == 1:\n",
    "        return A[len(A) // 2]\n",
    "    return (A[len(A) // 2 - 1] + A[len(A) // 2]) // 2"
   ]
  },
  {
   "cell_type": "markdown",
   "metadata": {},
   "source": [
    "### sum13\n",
    "Return the sum of the numbers in the array, returning 0 for an empty array. Except the number 13 is very unlucky, so it does not count and numbers that come immediately after a 13 also do not count."
   ]
  },
  {
   "cell_type": "code",
   "execution_count": 36,
   "metadata": {},
   "outputs": [],
   "source": [
    "def sum13(A):\n",
    "    total = 0\n",
    "    for i in A:\n",
    "        if i != 13:\n",
    "            total += i\n",
    "    return total"
   ]
  },
  {
   "cell_type": "markdown",
   "metadata": {},
   "source": [
    "### sum67\n",
    "Return the sum of the numbers in the array, except ignore sections of numbers starting with a 6 and extending to the next 7 (every 6 will be followed by at least one 7). Return 0 for no numbers.\n",
    "\n"
   ]
  },
  {
   "cell_type": "code",
   "execution_count": 11,
   "metadata": {},
   "outputs": [],
   "source": [
    "def sum67(A):\n",
    "    total = 0\n",
    "    i = 0\n",
    "    while i < len(A):\n",
    "        assert A[-1] != 6\n",
    "        if A[i] != 6:\n",
    "            total += A[i]\n",
    "            i += 1\n",
    "        if i + 1 < len(A) and A[i] == 6:\n",
    "            assert 7 in A[i + 1:]\n",
    "            for j in range(i + 1, len(A)):\n",
    "                if A[j] != 7:\n",
    "                    continue\n",
    "                if A[j] == 7:\n",
    "                    break\n",
    "            i = j + 1\n",
    "    return total"
   ]
  },
  {
   "cell_type": "markdown",
   "metadata": {},
   "source": [
    "### has22\n",
    "Given an array of ints, return true if the array contains a 2 next to a 2 somewhere."
   ]
  },
  {
   "cell_type": "code",
   "execution_count": 17,
   "metadata": {},
   "outputs": [],
   "source": [
    "def has22(A):\n",
    "    for i in range(len(A) - 1):\n",
    "        if A[i:i+2] == [2, 2]:\n",
    "            return True\n",
    "    return False"
   ]
  },
  {
   "cell_type": "markdown",
   "metadata": {},
   "source": [
    "### lucky13\n",
    "Given an array of ints, return true if the array contains no 1's and no 3's."
   ]
  },
  {
   "cell_type": "code",
   "execution_count": 28,
   "metadata": {},
   "outputs": [],
   "source": [
    "def lucky13(A):\n",
    "    for i in A:\n",
    "        if i == 1 or i == 3:\n",
    "            return False\n",
    "    return True"
   ]
  },
  {
   "cell_type": "markdown",
   "metadata": {},
   "source": [
    "### sum28\n",
    "Given an array of ints, return true if the sum of all the 2's in the array is exactly 8."
   ]
  },
  {
   "cell_type": "code",
   "execution_count": 33,
   "metadata": {},
   "outputs": [],
   "source": [
    "def sum28(A):\n",
    "    return A.count(2) == 4"
   ]
  },
  {
   "cell_type": "markdown",
   "metadata": {},
   "source": [
    "### more14\n",
    "Given an array of ints, return true if the number of 1's is greater than the number of 4's"
   ]
  },
  {
   "cell_type": "code",
   "execution_count": 42,
   "metadata": {},
   "outputs": [],
   "source": [
    "def more14(A):\n",
    "    return A.count(1) > A.count(4)"
   ]
  },
  {
   "cell_type": "markdown",
   "metadata": {},
   "source": [
    "### fizzArray\n",
    "Given a number n, create and return a new int array of length n, containing the numbers 0, 1, 2, ... n-1. The given n may be 0, in which case just return a length 0 array. You do not need a separate if-statement for the length-0 case; the for-loop should naturally execute 0 times in that case, so it just works. The syntax to make a new int array is: new int[desired_length]  "
   ]
  },
  {
   "cell_type": "code",
   "execution_count": 48,
   "metadata": {},
   "outputs": [],
   "source": [
    "def fizzArray(n):\n",
    "    return [i for i in range(n)]"
   ]
  },
  {
   "cell_type": "markdown",
   "metadata": {},
   "source": [
    "### only14\n",
    "Given an array of ints, return true if every element is a 1 or a 4."
   ]
  },
  {
   "cell_type": "code",
   "execution_count": 57,
   "metadata": {},
   "outputs": [],
   "source": [
    "def only14(A):\n",
    "    for i in A:\n",
    "        if i != 1 and i != 4:\n",
    "            return False\n",
    "    return True"
   ]
  },
  {
   "cell_type": "markdown",
   "metadata": {},
   "source": [
    "### fizzArray2\n",
    "Given a number n, create and return a new string array of length n, containing the strings \"0\", \"1\" \"2\" .. through n-1. N may be 0, in which case just return a length 0 array. Note: String.valueOf(xxx) will make the String form of most types. The syntax to make a new string array is: new String[desired_length] "
   ]
  },
  {
   "cell_type": "code",
   "execution_count": 62,
   "metadata": {},
   "outputs": [],
   "source": [
    "def fizzArray2(n):\n",
    "    return [str(i) for i in range(n)]"
   ]
  },
  {
   "cell_type": "markdown",
   "metadata": {},
   "source": [
    "### no14\n",
    "Given an array of ints, return true if it contains no 1's or it contains no 4's."
   ]
  },
  {
   "cell_type": "code",
   "execution_count": 64,
   "metadata": {},
   "outputs": [],
   "source": [
    "def no14(A):\n",
    "    for i in A:\n",
    "        if i == 1 or i == 4:\n",
    "            return False\n",
    "    return True"
   ]
  },
  {
   "cell_type": "markdown",
   "metadata": {},
   "source": [
    "### isEverywhere\n",
    "We'll say that a value is \"everywhere\" in an array if for every pair of adjacent elements in the array, at least one of the pair is that value. Return true if the given value is everywhere in the array."
   ]
  },
  {
   "cell_type": "code",
   "execution_count": 125,
   "metadata": {},
   "outputs": [],
   "source": [
    "def isEverywhere(array, value):\n",
    "    if len(array) <= 1:\n",
    "        return True\n",
    "    if len(array) % 2 == 0:\n",
    "        return all(array[2*i] == value for i in range(len(array)//2)) or all(array[2*i+1] == value for i in range(len(array)//2))\n",
    "    return all(array[2*i] == value for i in range(len(array)//2+1)) or all(array[2*i+1] == value for i in range(len(array)//2+1))"
   ]
  },
  {
   "cell_type": "markdown",
   "metadata": {},
   "source": [
    "### either24\n",
    "Given an array of ints, return true if the array contains a 2 next to a 2 or a 4 next to a 4, but not both."
   ]
  },
  {
   "cell_type": "code",
   "execution_count": 127,
   "metadata": {},
   "outputs": [],
   "source": [
    "def either24(A):\n",
    "    state2 = False\n",
    "    state4 = False\n",
    "    for i in range(len(A) - 1):\n",
    "        if A[i:i+2] == [2, 2]:\n",
    "            state2 = True\n",
    "            break\n",
    "    for i in range(len(A) - 1):\n",
    "        if A[i:i+2] == [4, 4]:\n",
    "            state4 = True\n",
    "            break\n",
    "    return (state2 or state4) and not (state2 and state4)"
   ]
  },
  {
   "cell_type": "markdown",
   "metadata": {},
   "source": [
    "### matchUp\n",
    "Given arrays nums1 and nums2 of the same length, for every element in nums1, consider the corresponding element in nums2 (at the same index). Return the count of the number of times that the two elements differ by 2 or less, but are not equal."
   ]
  },
  {
   "cell_type": "code",
   "execution_count": 1,
   "metadata": {},
   "outputs": [],
   "source": [
    "def matchUp(nums1, nums2):\n",
    "    assert len(nums1) == len(nums2)\n",
    "    count = 0\n",
    "    for i in range(len(nums1)):\n",
    "        if abs(nums1[i] - nums2[i]) <= 2 and nums1[i] != nums2[i]:\n",
    "            count += 1\n",
    "    return count"
   ]
  },
  {
   "cell_type": "markdown",
   "metadata": {},
   "source": [
    "### has77\n",
    "Given an array of ints, return true if the array contains two 7's next to each other, or there are two 7's separated by one element, such as with {7, 1, 7}."
   ]
  },
  {
   "cell_type": "code",
   "execution_count": 25,
   "metadata": {},
   "outputs": [],
   "source": [
    "def has77(A):\n",
    "    if len(A) < 2:\n",
    "        return False\n",
    "    if A[-2] == 7 and A[-1] == 7:\n",
    "        return True\n",
    "    for i in range(len(A) - 2):\n",
    "        if (A[i] == 7 and A[i+1] == 7) or (A[i] == 7 and A[i+2] == 7):\n",
    "            return True\n",
    "    return False"
   ]
  },
  {
   "cell_type": "markdown",
   "metadata": {},
   "source": [
    "### has12\n",
    "Given an array of ints, return true if there is a 1 in the array with a 2 somewhere later in the array.\n",
    "\n"
   ]
  },
  {
   "cell_type": "code",
   "execution_count": 26,
   "metadata": {},
   "outputs": [],
   "source": [
    "def has12(A):\n",
    "    for i in range(len(A)):\n",
    "        if A[i] == 1:\n",
    "            for j in range(i+1, len(A)):\n",
    "                if A[j] == 2:\n",
    "                    return True\n",
    "    return False"
   ]
  },
  {
   "cell_type": "markdown",
   "metadata": {},
   "source": [
    "### modThree\n",
    "Given an array of ints, return true if the array contains either 3 even or 3 odd values all next to each other."
   ]
  },
  {
   "cell_type": "code",
   "execution_count": 40,
   "metadata": {},
   "outputs": [],
   "source": [
    "def modThree(A):\n",
    "    for i in range(len(A) - 2):\n",
    "        if (A[i] % 2 == 0 and A[i+1] % 2 == 0 and A[i+2] % 2 == 0) or (A[i] % 2 == 1 and A[i+1] % 2 == 1 and A[i+2] % 2 == 1):\n",
    "            return True\n",
    "    return False"
   ]
  },
  {
   "cell_type": "markdown",
   "metadata": {},
   "source": [
    "### haveThree\n",
    "Given an array of ints, return true if the value 3 appears in the array exactly 3 times, and no 3's are next to each other."
   ]
  },
  {
   "cell_type": "code",
   "execution_count": 52,
   "metadata": {},
   "outputs": [],
   "source": [
    "def haveThree(A):\n",
    "    condition1 = False\n",
    "    condition2 = True\n",
    "    if A.count(3) == 3:\n",
    "        condition1 = True\n",
    "    for i in range(len(A) - 1):\n",
    "        if A[i] == 3 and A[i+1] == 3:\n",
    "            condition2 = False\n",
    "    return condition1 and condition2"
   ]
  },
  {
   "cell_type": "markdown",
   "metadata": {},
   "source": [
    "### twoTwo\n",
    "Given an array of ints, return true if every 2 that appears in the array is next to another 2."
   ]
  },
  {
   "cell_type": "code",
   "execution_count": 63,
   "metadata": {},
   "outputs": [],
   "source": [
    "def twoTwo(A):\n",
    "    condition = True\n",
    "    i = 0\n",
    "    while i < len(A):\n",
    "        if A[i] == 2:\n",
    "            condition = False\n",
    "            j = i + 1\n",
    "            while j < len(A):\n",
    "                if j == i + 1 and A[j] == 2:\n",
    "                    condition = True\n",
    "                    break\n",
    "                j += 1\n",
    "            i += 2\n",
    "        i += 1\n",
    "    return condition"
   ]
  },
  {
   "cell_type": "markdown",
   "metadata": {},
   "source": [
    "### sameEnds\n",
    "Return true if the group of N numbers at the start and end of the array are the same. For example, with {5, 6, 45, 99, 13, 5, 6}, the ends are the same for n=0 and n=2, and false for n=1 and n=3. You may assume that n is in the range 0..nums.length inclusive."
   ]
  },
  {
   "cell_type": "code",
   "execution_count": 20,
   "metadata": {},
   "outputs": [],
   "source": [
    "def sameEnds(A, n):\n",
    "    assert 0 <= n <= len(A)\n",
    "    return A[0:n] == A[len(A)-n:len(A)]"
   ]
  },
  {
   "cell_type": "markdown",
   "metadata": {},
   "source": [
    "### tripleUp\n",
    "Return true if the array contains, somewhere, three increasing adjacent numbers like .... 4, 5, 6, ... or 23, 24, 25.\n",
    "\n"
   ]
  },
  {
   "cell_type": "code",
   "execution_count": 21,
   "metadata": {},
   "outputs": [],
   "source": [
    "def tripleUp(A):\n",
    "    for i in range(len(A) - 2):\n",
    "        if A[i] == A[i+1] - 1 and A[i+1] == A[i+2] - 1:\n",
    "            return True\n",
    "    return False"
   ]
  },
  {
   "cell_type": "code",
   "execution_count": 33,
   "metadata": {},
   "outputs": [
    {
     "data": {
      "text/plain": [
       "False"
      ]
     },
     "execution_count": 33,
     "metadata": {},
     "output_type": "execute_result"
    }
   ],
   "source": [
    "tripleUp([2, 3, 5, 6, 8, 9, 2, 3]) "
   ]
  },
  {
   "cell_type": "markdown",
   "metadata": {},
   "source": [
    "### fizzArray3\n",
    "Given start and end numbers, return a new array containing the sequence of integers from start up to but not including end, so start=5 and end=10 yields {5, 6, 7, 8, 9}. The end number will be greater or equal to the start number. Note that a length-0 array is valid. (See also: FizzBuzz Code)"
   ]
  },
  {
   "cell_type": "code",
   "execution_count": 34,
   "metadata": {},
   "outputs": [],
   "source": [
    "def fizzArray3(start, end):\n",
    "    assert end >= start\n",
    "    return [i for i in range(start,end)]"
   ]
  },
  {
   "cell_type": "markdown",
   "metadata": {},
   "source": [
    "### shiftLeft\n",
    "Return an array that is \"left shifted\" by one -- so {6, 2, 5, 3} returns {2, 5, 3, 6}. You may modify and return the given array, or return a new array.\n",
    "\n"
   ]
  },
  {
   "cell_type": "code",
   "execution_count": 41,
   "metadata": {},
   "outputs": [],
   "source": [
    "def shiftLeft(A):\n",
    "    return [A[i] for i in range(-len(A)+1,1)]"
   ]
  },
  {
   "cell_type": "markdown",
   "metadata": {},
   "source": [
    "### tenRun\n",
    "For each multiple of 10 in the given array, change all the values following it to be that multiple of 10, until encountering another multiple of 10. So {2, 10, 3, 4, 20, 5} yields {2, 10, 10, 10, 20, 20}."
   ]
  },
  {
   "cell_type": "code",
   "execution_count": 154,
   "metadata": {},
   "outputs": [],
   "source": [
    "def tenRun(A):\n",
    "    A_new = []\n",
    "    for i in range(len(A)):\n",
    "        if A[i] % 10 != 0:\n",
    "            A_new.append(A[i])\n",
    "        else:\n",
    "            break\n",
    "    if len(A_new) == len(A):\n",
    "        return A_new\n",
    "    for j in range(i, len(A)):\n",
    "        if A[j] % 10 == 0:\n",
    "            A_new.append(A[j])\n",
    "        else:\n",
    "            A_new.append(A_new[-1])\n",
    "    return A_new"
   ]
  },
  {
   "cell_type": "markdown",
   "metadata": {},
   "source": [
    "### pre4\n",
    "Given a non-empty array of ints, return a new array containing the elements from the original array that come before the first 4 in the original array. The original array will contain at least one 4. Note that it is valid in java to create an array of length 0.\n",
    "\n"
   ]
  },
  {
   "cell_type": "code",
   "execution_count": 165,
   "metadata": {},
   "outputs": [],
   "source": [
    "def pre4(A):\n",
    "    assert len(A) > 0 and 4 in A\n",
    "    A_new = []\n",
    "    for i in A:\n",
    "        if i == 4:\n",
    "            break\n",
    "        A_new.append(i)\n",
    "    return A_new"
   ]
  },
  {
   "cell_type": "markdown",
   "metadata": {},
   "source": [
    "### post4\n",
    "Given a non-empty array of ints, return a new array containing the elements from the original array that come after the last 4 in the original array. The original array will contain at least one 4. Note that it is valid in java to create an array of length 0."
   ]
  },
  {
   "cell_type": "code",
   "execution_count": 177,
   "metadata": {},
   "outputs": [],
   "source": [
    "def post4(A):\n",
    "    assert len(A) > 0 and 4 in A\n",
    "    A_new = []\n",
    "    for i in range(len(A)-1, -1, -1):\n",
    "        if A[i] == 4:\n",
    "            break\n",
    "        A_new = [A[i]] + A_new\n",
    "    return A_new"
   ]
  },
  {
   "cell_type": "markdown",
   "metadata": {},
   "source": [
    "### notAlone\n",
    "We'll say that an element in an array is \"alone\" if there are values before and after it, and those values are different from it. Return a version of the given array where every instance of the given value which is alone is replaced by whichever value to its left or right is larger.\n",
    "\n"
   ]
  },
  {
   "cell_type": "code",
   "execution_count": 200,
   "metadata": {},
   "outputs": [],
   "source": [
    "def notAlone(A, n):\n",
    "    A_new = A[:1]\n",
    "    for i in range(1, len(A) - 1):\n",
    "        if A[i] != n:\n",
    "            A_new.append(A[i])\n",
    "        else:\n",
    "            if A[i] == A[i-1] or A[i] == A[i+1]:\n",
    "                A_new.append(A[i])\n",
    "            else:\n",
    "                A_new.append(max(A[i-1],A[i+1]))\n",
    "    A_new += A[-1:]\n",
    "    return A_new"
   ]
  },
  {
   "cell_type": "markdown",
   "metadata": {},
   "source": [
    "### zeroFront\n",
    "Return an array that contains the exact same numbers as the given array, but rearranged so that all the zeros are grouped at the start of the array. The order of the non-zero numbers does not matter. So {1, 0, 0, 1} becomes {0 ,0, 1, 1}. You may modify and return the given array or make a new array.\n",
    "\n"
   ]
  },
  {
   "cell_type": "code",
   "execution_count": 215,
   "metadata": {},
   "outputs": [],
   "source": [
    "def zeroFront(A):\n",
    "    zeros = []\n",
    "    others = []\n",
    "    for i in A:\n",
    "        if i == 0:\n",
    "            zeros.append(i)\n",
    "        else:\n",
    "            others.append(i)\n",
    "    return zeros + others"
   ]
  },
  {
   "cell_type": "markdown",
   "metadata": {},
   "source": [
    "### withoutTen\n",
    "Return a version of the given array where all the 10's have been removed. The remaining elements should shift left towards the start of the array as needed, and the empty spaces a the end of the array should be 0. So {1, 10, 10, 2} yields {1, 2, 0, 0}. You may modify and return the given array or make a new array."
   ]
  },
  {
   "cell_type": "code",
   "execution_count": 221,
   "metadata": {},
   "outputs": [],
   "source": [
    "def withoutTen(A):\n",
    "    A_new = [i for i in A if i != 10]\n",
    "    return A_new + [0] * (len(A) - len(A_new))"
   ]
  },
  {
   "cell_type": "markdown",
   "metadata": {},
   "source": [
    "### zeroMax\n",
    "Return a version of the given array where each zero value in the array is replaced by the largest odd value to the right of the zero in the array. If there is no odd value to the right of the zero, leave the zero as a zero.\n",
    "\n"
   ]
  },
  {
   "cell_type": "code",
   "execution_count": 227,
   "metadata": {},
   "outputs": [],
   "source": [
    "def zeroMax(A):\n",
    "    A_new = []\n",
    "    for i in range(len(A)):\n",
    "        if A[i] != 0:\n",
    "            A_new.append(A[i])\n",
    "        else:\n",
    "            temp = 0\n",
    "            for j in range(i, len(A)):\n",
    "                if A[j] % 2 == 1:\n",
    "                    temp = max(temp, A[j])\n",
    "            A_new.append(temp)\n",
    "    return A_new"
   ]
  },
  {
   "cell_type": "markdown",
   "metadata": {},
   "source": [
    "### evenOdd\n",
    "Return an array that contains the exact same numbers as the given array, but rearranged so that all the even numbers come before all the odd numbers. Other than that, the numbers can be in any order. You may modify and return the given array, or make a new array.\n",
    "\n"
   ]
  },
  {
   "cell_type": "code",
   "execution_count": 240,
   "metadata": {},
   "outputs": [],
   "source": [
    "def evenOdd(A):\n",
    "    even = []\n",
    "    odd = []\n",
    "    for i in A:\n",
    "        if i % 2 == 0:\n",
    "            even.append(i)\n",
    "        if i % 2 == 1:\n",
    "            odd.append(i)\n",
    "    return even + odd"
   ]
  },
  {
   "cell_type": "markdown",
   "metadata": {},
   "source": [
    "### fizzBuzz\n",
    "This is slightly more difficult version of the famous FizzBuzz problem which is sometimes given as a first problem for job interviews. (See also: FizzBuzz Code.) Consider the series of numbers beginning at start and running up to but not including end, so for example start=1 and end=5 gives the series 1, 2, 3, 4. Return a new String[] array containing the string form of these numbers, except for multiples of 3, use \"Fizz\" instead of the number, for multiples of 5 use \"Buzz\", and for multiples of both 3 and 5 use \"FizzBuzz\". In Java, String.valueOf(xxx) will make the String form of an int or other type. This version is a little more complicated than the usual version since you have to allocate and index into an array instead of just printing, and we vary the start/end instead of just always doing 1..100."
   ]
  },
  {
   "cell_type": "code",
   "execution_count": 243,
   "metadata": {},
   "outputs": [],
   "source": [
    "def fizzBuzz(start, end):\n",
    "    Array = []\n",
    "    for i in range(start, end):\n",
    "        if i % 15 == 0:\n",
    "            Array.append(\"FizzBuzz\")\n",
    "        elif i % 5 == 0:\n",
    "            Array.append(\"Buzz\")\n",
    "        elif i % 3 == 0:\n",
    "            Array.append(\"Fizz\")\n",
    "        else:\n",
    "            Array.append(str(i))\n",
    "    return Array"
   ]
  }
 ],
 "metadata": {
  "kernelspec": {
   "display_name": "Python 3",
   "language": "python",
   "name": "python3"
  },
  "language_info": {
   "codemirror_mode": {
    "name": "ipython",
    "version": 3
   },
   "file_extension": ".py",
   "mimetype": "text/x-python",
   "name": "python",
   "nbconvert_exporter": "python",
   "pygments_lexer": "ipython3",
   "version": "3.7.3"
  }
 },
 "nbformat": 4,
 "nbformat_minor": 2
}
