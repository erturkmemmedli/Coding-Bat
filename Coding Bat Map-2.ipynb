{
 "cells": [
  {
   "cell_type": "markdown",
   "metadata": {},
   "source": [
    "### word0\n",
    "Given an array of strings, return a Map<String, Integer> containing a key for every different string in the array, always with the value 0. For example the string \"hello\" makes the pair \"hello\":0. We'll do more complicated counting later, but for this problem the value is simply 0."
   ]
  },
  {
   "cell_type": "code",
   "execution_count": 22,
   "metadata": {},
   "outputs": [],
   "source": [
    "def word0(words):\n",
    "    dictionary = {}\n",
    "    for i in words:\n",
    "        dictionary[i] = 0\n",
    "    print(dictionary)\n",
    "    \n",
    "# alternative solution\n",
    "def word0_alternative(words):\n",
    "    dictionary = dict.fromkeys(words, 0)\n",
    "    return dictionary"
   ]
  },
  {
   "cell_type": "markdown",
   "metadata": {},
   "source": [
    "### wordLen\n",
    "Given an array of strings, return a Map<String, Integer> containing a key for every different string in the array, and the value is that string's length."
   ]
  },
  {
   "cell_type": "code",
   "execution_count": 23,
   "metadata": {},
   "outputs": [],
   "source": [
    "def wordLen(words):\n",
    "    dictionary = {}\n",
    "    for i in words:\n",
    "        dictionary[i] = len(i)\n",
    "    return dictionary"
   ]
  },
  {
   "cell_type": "markdown",
   "metadata": {},
   "source": [
    "### pairs\n",
    "Given an array of non-empty strings, create and return a Map<String, String> as follows: for each string add its first character as a key with its last character as the value."
   ]
  },
  {
   "cell_type": "code",
   "execution_count": 32,
   "metadata": {},
   "outputs": [],
   "source": [
    "def pairs(words):\n",
    "    assert all(words[i] != \"\" for i in range(len(words)))\n",
    "    dictionary = {}\n",
    "    for i in words:\n",
    "        dictionary[i[0]] = i[-1]\n",
    "    return dictionary"
   ]
  },
  {
   "cell_type": "markdown",
   "metadata": {},
   "source": [
    "### wordCount\n",
    "The classic word-count algorithm: given an array of strings, return a Map<String, Integer> with a key for each different string, with the value the number of times that string appears in the array.\n",
    "\n"
   ]
  },
  {
   "cell_type": "code",
   "execution_count": 53,
   "metadata": {},
   "outputs": [],
   "source": [
    "def wordCount(words):\n",
    "    dictionary = {}\n",
    "    for i in words:\n",
    "        if i not in dictionary:\n",
    "            dictionary[i] = 1\n",
    "        else:\n",
    "            dictionary[i] += 1\n",
    "    return dictionary"
   ]
  },
  {
   "cell_type": "markdown",
   "metadata": {},
   "source": [
    "### firstChar\n",
    "Given an array of non-empty strings, return a Map<String, String> with a key for every different first character seen, with the value of all the strings starting with that character appended together in the order they appear in the array."
   ]
  },
  {
   "cell_type": "code",
   "execution_count": 61,
   "metadata": {},
   "outputs": [],
   "source": [
    "def firstChar(words):\n",
    "    assert all(words[i] != \"\" for i in range(len(words)))\n",
    "    dictionary = {}\n",
    "    for i in words:\n",
    "        if i[0] not in dictionary:\n",
    "            dictionary[i[0]] = i\n",
    "        else:\n",
    "            dictionary[i[0]] += i\n",
    "    return dictionary"
   ]
  },
  {
   "cell_type": "markdown",
   "metadata": {},
   "source": [
    "### wordAppend\n",
    "Loop over the given array of strings to build a result string like this: when a string appears the 2nd, 4th, 6th, etc. time in the array, append the string to the result. Return the empty string if no string appears a 2nd time."
   ]
  },
  {
   "cell_type": "code",
   "execution_count": 64,
   "metadata": {},
   "outputs": [],
   "source": [
    "def wordAppend(words):\n",
    "    dictionary = {}\n",
    "    result = \"\"\n",
    "    for i in words:\n",
    "        if i not in dictionary:\n",
    "            dictionary[i] = 1\n",
    "        else:\n",
    "            dictionary[i] += 1\n",
    "        if dictionary[i] % 2 == 0:\n",
    "            result += i\n",
    "    return result"
   ]
  },
  {
   "cell_type": "markdown",
   "metadata": {},
   "source": [
    "### wordMultiple\n",
    "Given an array of strings, return a Map<String, Boolean> where each different string is a key and its value is true if that string appears 2 or more times in the array."
   ]
  },
  {
   "cell_type": "code",
   "execution_count": 104,
   "metadata": {},
   "outputs": [],
   "source": [
    "def wordMultiple(words):\n",
    "    dictionary = {}\n",
    "    for i in words:\n",
    "        if i not in dictionary:\n",
    "            dictionary[i] = False\n",
    "        else:\n",
    "            dictionary[i] = True\n",
    "    return dictionary"
   ]
  },
  {
   "cell_type": "markdown",
   "metadata": {},
   "source": [
    "### allSwap\n",
    "We'll say that 2 strings \"match\" if they are non-empty and their first chars are the same. Loop over and then return the given array of non-empty strings as follows: if a string matches an earlier string in the array, swap the 2 strings in the array. When a position in the array has been swapped, it no longer matches anything. Using a map, this can be solved making just one pass over the array. More difficult than it looks."
   ]
  },
  {
   "cell_type": "code",
   "execution_count": 113,
   "metadata": {},
   "outputs": [],
   "source": [
    "def allSwap(words):\n",
    "    assert all(words[i] != \"\" for i in range(len(words)))\n",
    "    dictionary = {}\n",
    "    for i in range(len(words)):\n",
    "        if words[i][0] not in dictionary:\n",
    "            dictionary[words[i][0]] = i\n",
    "        else:\n",
    "            words[i], words[dictionary[words[i][0]]] = words[dictionary[words[i][0]]], words[i]\n",
    "            del dictionary[words[i][0]]\n",
    "    return words"
   ]
  },
  {
   "cell_type": "markdown",
   "metadata": {},
   "source": [
    "### firstSwap\n",
    "We'll say that 2 strings \"match\" if they are non-empty and their first chars are the same. Loop over and then return the given array of non-empty strings as follows: if a string matches an earlier string in the array, swap the 2 strings in the array. A particular first char can only cause 1 swap, so once a char has caused a swap, its later swaps are disabled. Using a map, this can be solved making just one pass over the array. More difficult than it looks."
   ]
  },
  {
   "cell_type": "code",
   "execution_count": 120,
   "metadata": {},
   "outputs": [],
   "source": [
    "def firstSwap(words):\n",
    "    assert all(words[i] != \"\" for i in range(len(words)))\n",
    "    dictionary = {}\n",
    "    counter = {}\n",
    "    for i in range(len(words)):\n",
    "        if words[i][0] not in dictionary:\n",
    "            dictionary[words[i][0]] = i\n",
    "            counter[words[i][0]] = 1\n",
    "        else:\n",
    "            counter[words[i][0]] += 1\n",
    "            if counter[words[i][0]] <= 2:\n",
    "                words[i], words[dictionary[words[i][0]]] = words[dictionary[words[i][0]]], words[i]\n",
    "    return words"
   ]
  }
 ],
 "metadata": {
  "kernelspec": {
   "display_name": "Python 3",
   "language": "python",
   "name": "python3"
  },
  "language_info": {
   "codemirror_mode": {
    "name": "ipython",
    "version": 3
   },
   "file_extension": ".py",
   "mimetype": "text/x-python",
   "name": "python",
   "nbconvert_exporter": "python",
   "pygments_lexer": "ipython3",
   "version": "3.8.3"
  }
 },
 "nbformat": 4,
 "nbformat_minor": 4
}
