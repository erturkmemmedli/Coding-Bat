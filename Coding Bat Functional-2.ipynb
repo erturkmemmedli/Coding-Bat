{
 "cells": [
  {
   "cell_type": "markdown",
   "metadata": {},
   "source": [
    "### noNeg\n",
    "Given a list of integers, return a list of the integers, omitting any that are less than 0."
   ]
  },
  {
   "cell_type": "code",
   "execution_count": 1,
   "metadata": {},
   "outputs": [],
   "source": [
    "def noNeg(nums):\n",
    "    return list(filter(lambda x: x >= 0, nums))"
   ]
  },
  {
   "cell_type": "markdown",
   "metadata": {},
   "source": [
    "### no9\n",
    "Given a list of non-negative integers, return a list of those numbers except omitting any that end with 9. (Note: % by 10)"
   ]
  },
  {
   "cell_type": "code",
   "execution_count": 8,
   "metadata": {},
   "outputs": [],
   "source": [
    "def no9(nums):\n",
    "    assert all(i >= 0 for i in nums)\n",
    "    return list(filter(lambda x: x % 10 != 9, nums))"
   ]
  },
  {
   "cell_type": "markdown",
   "metadata": {},
   "source": [
    "### noTeen\n",
    "Given a list of integers, return a list of those numbers, omitting any that are between 13 and 19 inclusive."
   ]
  },
  {
   "cell_type": "code",
   "execution_count": 16,
   "metadata": {},
   "outputs": [],
   "source": [
    "def noTeen(nums):\n",
    "    return list(filter(lambda x: x < 13 or x > 19, nums))"
   ]
  },
  {
   "cell_type": "markdown",
   "metadata": {},
   "source": [
    "### noZ\n",
    "Given a list of strings, return a list of the strings, omitting any string that contains a \"z\". (Note: the str.contains(x) method returns a boolean)"
   ]
  },
  {
   "cell_type": "code",
   "execution_count": 19,
   "metadata": {},
   "outputs": [],
   "source": [
    "def noZ(strings):\n",
    "    return list(filter(lambda x: 'z' not in x, strings))"
   ]
  },
  {
   "cell_type": "markdown",
   "metadata": {},
   "source": [
    "### noLong\n",
    "Given a list of strings, return a list of the strings, omitting any string length 4 or more."
   ]
  },
  {
   "cell_type": "code",
   "execution_count": 32,
   "metadata": {},
   "outputs": [],
   "source": [
    "def noLong(strings):\n",
    "    return list(filter(lambda x: len(x) < 4, strings))"
   ]
  },
  {
   "cell_type": "markdown",
   "metadata": {},
   "source": [
    "### no34\n",
    "Given a list of strings, return a list of the strings, omitting any string length 3 or 4."
   ]
  },
  {
   "cell_type": "code",
   "execution_count": 39,
   "metadata": {},
   "outputs": [],
   "source": [
    "def no34(strings):\n",
    "    return list(filter(lambda x: len(x) != 3 and len(x) != 4, strings))"
   ]
  },
  {
   "cell_type": "markdown",
   "metadata": {},
   "source": [
    "### noYY\n",
    "Given a list of strings, return a list where each string has \"y\" added at its end, omitting any resulting strings that contain \"yy\" as a substring anywhere."
   ]
  },
  {
   "cell_type": "code",
   "execution_count": 51,
   "metadata": {},
   "outputs": [],
   "source": [
    "def noYY(strings):\n",
    "    mapped = list(map(lambda x: x + 'y', strings))\n",
    "    return list(filter(lambda x: 'yy' not in x, mapped))"
   ]
  },
  {
   "cell_type": "markdown",
   "metadata": {},
   "source": [
    "### two2\n",
    "Given a list of non-negative integers, return a list of those numbers multiplied by 2, omitting any of the resulting numbers that end in 2."
   ]
  },
  {
   "cell_type": "code",
   "execution_count": 52,
   "metadata": {},
   "outputs": [],
   "source": [
    "def two2(nums):\n",
    "    assert all(i >= 0 for i in nums)\n",
    "    mapped = list(map(lambda x: x * 2, nums))\n",
    "    return list(filter(lambda x: x % 10 != 2, mapped))"
   ]
  },
  {
   "cell_type": "markdown",
   "metadata": {},
   "source": [
    "### square56\n",
    "Given a list of integers, return a list of those numbers squared and the product added to 10, omitting any of the resulting numbers that end in 5 or 6."
   ]
  },
  {
   "cell_type": "code",
   "execution_count": 57,
   "metadata": {},
   "outputs": [],
   "source": [
    "def square56(nums):\n",
    "    mapped = list(map(lambda x: x ** 2 + 10, nums))\n",
    "    return list(filter(lambda x: x % 10 != 5 and x % 10 != 6, mapped))"
   ]
  }
 ],
 "metadata": {
  "kernelspec": {
   "display_name": "Python 3",
   "language": "python",
   "name": "python3"
  },
  "language_info": {
   "codemirror_mode": {
    "name": "ipython",
    "version": 3
   },
   "file_extension": ".py",
   "mimetype": "text/x-python",
   "name": "python",
   "nbconvert_exporter": "python",
   "pygments_lexer": "ipython3",
   "version": "3.8.3"
  }
 },
 "nbformat": 4,
 "nbformat_minor": 4
}
