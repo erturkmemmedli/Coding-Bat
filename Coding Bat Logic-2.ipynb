{
 "cells": [
  {
   "cell_type": "markdown",
   "metadata": {},
   "source": [
    "### makeBricks\n",
    "We want to make a row of bricks that is goal inches long. We have a number of small bricks (1 inch each) and big bricks (5 inches each). Return true if it is possible to make the goal by choosing from the given bricks. This is a little harder than it looks and can be done without any loops."
   ]
  },
  {
   "cell_type": "code",
   "execution_count": 7,
   "metadata": {},
   "outputs": [],
   "source": [
    "def makeBricks(small, big, goal):\n",
    "    if big * 5 >= goal:\n",
    "        return goal % 5 <= small\n",
    "    return goal - 5 * big <= small"
   ]
  },
  {
   "cell_type": "markdown",
   "metadata": {},
   "source": [
    "### loneSum\n",
    "Given 3 int values, a b c, return their sum. However, if one of the values is the same as another of the values, it does not count towards the sum."
   ]
  },
  {
   "cell_type": "code",
   "execution_count": 48,
   "metadata": {},
   "outputs": [],
   "source": [
    "def loneSum(a, b, c):\n",
    "    sum = 0\n",
    "    if a != b and a != c:\n",
    "        sum += a\n",
    "    if b != a and b != c:\n",
    "        sum += b\n",
    "    if c != a and c != b:\n",
    "        sum += c\n",
    "    return sum"
   ]
  },
  {
   "cell_type": "markdown",
   "metadata": {},
   "source": [
    "### luckySum\n",
    "Given 3 int values, a b c, return their sum. However, if one of the values is 13 then it does not count towards the sum and values to its right do not count. So for example, if b is 13, then both b and c do not count."
   ]
  },
  {
   "cell_type": "code",
   "execution_count": 55,
   "metadata": {},
   "outputs": [],
   "source": [
    "def luckySum(a, b, c):\n",
    "    if a == 13:\n",
    "        return 0\n",
    "    if b == 13:\n",
    "        return a\n",
    "    if c == 13:\n",
    "        return a + b\n",
    "    return a + b + c"
   ]
  },
  {
   "cell_type": "markdown",
   "metadata": {},
   "source": [
    "### noTeenSum\n",
    "Given 3 int values, a b c, return their sum. However, if any of the values is a teen -- in the range 13..19 inclusive -- then that value counts as 0, except 15 and 16 do not count as a teens. Write a separate helper \"public int fixTeen(int n) {\"that takes in an int value and returns that value fixed for the teen rule. In this way, you avoid repeating the teen code 3 times (i.e. \"decomposition\"). Define the helper below and at the same indent level as the main noTeenSum().\n",
    "\n"
   ]
  },
  {
   "cell_type": "code",
   "execution_count": 62,
   "metadata": {},
   "outputs": [],
   "source": [
    "def noTeenSum(a, b, c):\n",
    "    return fixTeen(a) + fixTeen(b) + fixTeen(c)\n",
    "\n",
    "def fixTeen(n):\n",
    "    if (n >= 13 and n < 15) or (n > 16 and n <= 19):\n",
    "        return 0\n",
    "    return n"
   ]
  },
  {
   "cell_type": "markdown",
   "metadata": {},
   "source": [
    "### roundSum\n",
    "For this problem, we'll round an int value up to the next multiple of 10 if its rightmost digit is 5 or more, so 15 rounds up to 20. Alternately, round down to the previous multiple of 10 if its rightmost digit is less than 5, so 12 rounds down to 10. Given 3 ints, a b c, return the sum of their rounded values. To avoid code repetition, write a separate helper \"public int round10(int num) {\" and call it 3 times. Write the helper entirely below and at the same indent level as roundSum().\n",
    "\n"
   ]
  },
  {
   "cell_type": "code",
   "execution_count": 75,
   "metadata": {},
   "outputs": [],
   "source": [
    "def roundSum(a, b, c):\n",
    "    return round10(a) + round10(b) + round10(c)\n",
    "\n",
    "def round10(n):\n",
    "    if n % 10 < 5:\n",
    "        return n - (n % 10)\n",
    "    return n - (n % 5) + 5"
   ]
  },
  {
   "cell_type": "markdown",
   "metadata": {},
   "source": [
    "### closeFar\n",
    "Given three ints, a b c, return true if one of b or c is \"close\" (differing from a by at most 1), while the other is \"far\", differing from both other values by 2 or more. Note: Math.abs(num) computes the absolute value of a number.\n",
    "\n"
   ]
  },
  {
   "cell_type": "code",
   "execution_count": 87,
   "metadata": {},
   "outputs": [],
   "source": [
    "def closeFar(a, b, c):\n",
    "    if abs(b - a) <= 1 and abs(c - a) >= 2 and abs(c - b) >= 2:\n",
    "        return True\n",
    "    if abs(c - a) <= 1 and abs(b - a) >= 2 and abs(b - c) >= 2:\n",
    "        return True\n",
    "    return False"
   ]
  },
  {
   "cell_type": "markdown",
   "metadata": {},
   "source": [
    "### blackjack\n",
    "Given 2 int values greater than 0, return whichever value is nearest to 21 without going over. Return 0 if they both go over."
   ]
  },
  {
   "cell_type": "code",
   "execution_count": 101,
   "metadata": {},
   "outputs": [],
   "source": [
    "def blackjack(a, b):\n",
    "    assert a > 0 and b > 0\n",
    "    if a > 21 and b > 21:\n",
    "        return 0\n",
    "    if a <= 21 and b > 21:\n",
    "        return a\n",
    "    if b <= 21 and a > 21:\n",
    "        return b\n",
    "    return max(a, b)"
   ]
  },
  {
   "cell_type": "markdown",
   "metadata": {},
   "source": [
    "### evenlySpaced\n",
    "Given three ints, a b c, one of them is small, one is medium and one is large. Return true if the three values are evenly spaced, so the difference between small and medium is the same as the difference between medium and large."
   ]
  },
  {
   "cell_type": "code",
   "execution_count": 111,
   "metadata": {},
   "outputs": [],
   "source": [
    "def evenlySpaced(a, b, c):\n",
    "    if max(a, b, c) == a:\n",
    "        if b <= c:\n",
    "            return abs(a - c) == abs(c - b)\n",
    "        return abs(a - b) == abs(b - c)\n",
    "    if max(a, b, c) == b:\n",
    "        if a <= c:\n",
    "            return abs(b - c) == abs(c - a)\n",
    "        return abs(b - a) == abs(a - c)\n",
    "    if max(a, b, c) == c:\n",
    "        if a <= b:\n",
    "            return abs(c - b) == abs(b - a)\n",
    "        return abs(c - a) == abs(a - b)"
   ]
  },
  {
   "cell_type": "markdown",
   "metadata": {},
   "source": [
    "### makeChocolate\n",
    "We want make a package of goal kilos of chocolate. We have small bars (1 kilo each) and big bars (5 kilos each). Return the number of small bars to use, assuming we always use big bars before small bars. Return -1 if it can't be done."
   ]
  },
  {
   "cell_type": "code",
   "execution_count": 123,
   "metadata": {},
   "outputs": [],
   "source": [
    "def makeChocolate(small, big, goal):\n",
    "    if big * 5 >= goal:\n",
    "        if goal % 5 <= small:\n",
    "            return goal % 5\n",
    "        return - 1\n",
    "    if goal - 5 * big <= small:\n",
    "        return goal - 5 * big\n",
    "    return -1"
   ]
  }
 ],
 "metadata": {
  "kernelspec": {
   "display_name": "Python 3",
   "language": "python",
   "name": "python3"
  },
  "language_info": {
   "codemirror_mode": {
    "name": "ipython",
    "version": 3
   },
   "file_extension": ".py",
   "mimetype": "text/x-python",
   "name": "python",
   "nbconvert_exporter": "python",
   "pygments_lexer": "ipython3",
   "version": "3.8.3"
  }
 },
 "nbformat": 4,
 "nbformat_minor": 4
}
