{
 "cells": [
  {
   "cell_type": "markdown",
   "metadata": {},
   "source": [
    "### helloName\n",
    "Given a string name, e.g. \"Bob\", return a greeting of the form \"Hello Bob!\"."
   ]
  },
  {
   "cell_type": "code",
   "execution_count": 4,
   "metadata": {},
   "outputs": [],
   "source": [
    "def helloName(string):\n",
    "    assert len(string) != 0\n",
    "    return 'Hello ' + string + '!'"
   ]
  },
  {
   "cell_type": "markdown",
   "metadata": {},
   "source": [
    "### makeAbba\n",
    "Given two strings, a and b, return the result of putting them together in the order abba, e.g. \"Hi\" and \"Bye\" returns \"HiByeByeHi\"."
   ]
  },
  {
   "cell_type": "code",
   "execution_count": 8,
   "metadata": {},
   "outputs": [],
   "source": [
    "def makeAbba(strA, strB):\n",
    "    return strA + strB + strB + strA"
   ]
  },
  {
   "cell_type": "markdown",
   "metadata": {},
   "source": [
    "### makeTags\n",
    "The web is built with HTML strings like \"<i.>Yay</i.>\" which draws Yay as italic text. In this example, the \"i\" tag makes <i.> and </i.> which surround the word \"Yay\". Given tag and word strings, create the HTML string with tags around the word, e.g. \"<i.>Yay</i.>\". Note: There should not be \".\" inside symbols. It is just for showing the structure."
   ]
  },
  {
   "cell_type": "code",
   "execution_count": 17,
   "metadata": {},
   "outputs": [],
   "source": [
    "def makeTags(tag, string):\n",
    "    return '<' + tag + '>' + string + '</' + tag + '>'"
   ]
  },
  {
   "cell_type": "markdown",
   "metadata": {},
   "source": [
    "### makeOutWord\n",
    "Given an \"out\" string length 4, such as \"[[]]\", and a word, return a new string where the word is in the middle of the out string, e.g. \"[[word]]\". Note: use str.substring(i, j) to extract the String starting at index i and going up to but not including index j."
   ]
  },
  {
   "cell_type": "code",
   "execution_count": 18,
   "metadata": {},
   "outputs": [],
   "source": [
    "def makeOutWord(out, word):\n",
    "    assert len(out) == 4\n",
    "    return out[:2] + word + out[2:]"
   ]
  },
  {
   "cell_type": "markdown",
   "metadata": {},
   "source": [
    "### extraEnd\n",
    "Given a string, return a new string made of 3 copies of the last 2 chars of the original string. The string length will be at least 2."
   ]
  },
  {
   "cell_type": "code",
   "execution_count": 22,
   "metadata": {},
   "outputs": [],
   "source": [
    "def extraEnd(string):\n",
    "    assert len(string) >= 2\n",
    "    return string[-2:] * 3"
   ]
  },
  {
   "cell_type": "markdown",
   "metadata": {},
   "source": [
    "### firstTwo\n",
    "Given a string, return the string made of its first two chars, so the String \"Hello\" yields \"He\". If the string is shorter than length 2, return whatever there is, so \"X\" yields \"X\", and the empty string \"\" yields the empty string \"\". Note that str.length() returns the length of a string."
   ]
  },
  {
   "cell_type": "code",
   "execution_count": 24,
   "metadata": {},
   "outputs": [],
   "source": [
    "def firstTwo(string):\n",
    "    return string[:2]"
   ]
  },
  {
   "cell_type": "markdown",
   "metadata": {},
   "source": [
    "### firstHalf\n",
    "Given a string of even length, return the first half. So the string \"WooHoo\" yields \"Woo\"."
   ]
  },
  {
   "cell_type": "code",
   "execution_count": 31,
   "metadata": {},
   "outputs": [],
   "source": [
    "def firstHalf(string):\n",
    "    assert len(string) % 2 == 0\n",
    "    return string[:len(string)//2]"
   ]
  },
  {
   "cell_type": "markdown",
   "metadata": {},
   "source": [
    "### withoutEnd\n",
    "Given a string, return a version without the first and last char, so \"Hello\" yields \"ell\". The string length will be at least 2."
   ]
  },
  {
   "cell_type": "code",
   "execution_count": 38,
   "metadata": {},
   "outputs": [],
   "source": [
    "def withoutEnd(string):\n",
    "    assert len(string) >= 2\n",
    "    return string[1:-1]"
   ]
  },
  {
   "cell_type": "markdown",
   "metadata": {},
   "source": [
    "### comboString\n",
    "Given 2 strings, a and b, return a string of the form short+long+short, with the shorter string on the outside and the longer string on the inside. The strings will not be the same length, but they may be empty (length 0)."
   ]
  },
  {
   "cell_type": "code",
   "execution_count": 42,
   "metadata": {},
   "outputs": [],
   "source": [
    "def comboString(strA, strB):\n",
    "    assert len(strA) != len(strB)\n",
    "    if len(strA) < len(strB):\n",
    "        return strA + strB + strA\n",
    "    return strB + strA + strB"
   ]
  },
  {
   "cell_type": "markdown",
   "metadata": {},
   "source": [
    "### nonStart\n",
    "Given 2 strings, return their concatenation, except omit the first char of each. The strings will be at least length 1."
   ]
  },
  {
   "cell_type": "code",
   "execution_count": 46,
   "metadata": {},
   "outputs": [],
   "source": [
    "def nonStart(A, B):\n",
    "    assert len(A) >= 1 and len(B) >= 1\n",
    "    return A[1:] + B[1:]"
   ]
  },
  {
   "cell_type": "markdown",
   "metadata": {},
   "source": [
    "### left2\n",
    "Given a string, return a \"rotated left 2\" version where the first 2 chars are moved to the end. The string length will be at least 2.\n",
    "\n"
   ]
  },
  {
   "cell_type": "code",
   "execution_count": 49,
   "metadata": {},
   "outputs": [],
   "source": [
    "def left2(string):\n",
    "    assert len(string) >= 2\n",
    "    return string[2:] + string[:2]"
   ]
  },
  {
   "cell_type": "markdown",
   "metadata": {},
   "source": [
    "### right2\n",
    "Given a string, return a \"rotated right 2\" version where the last 2 chars are moved to the start. The string length will be at least 2."
   ]
  },
  {
   "cell_type": "code",
   "execution_count": 53,
   "metadata": {},
   "outputs": [],
   "source": [
    "def right2(string):\n",
    "    assert len(string) >= 2\n",
    "    return string[-2:] + string[:-2]"
   ]
  },
  {
   "cell_type": "markdown",
   "metadata": {},
   "source": [
    "### theEnd\n",
    "Given a string, return a string length 1 from its front, unless front is false, in which case return a string length 1 from its back. The string will be non-empty."
   ]
  },
  {
   "cell_type": "code",
   "execution_count": 58,
   "metadata": {},
   "outputs": [],
   "source": [
    "def theEnd(string, front):\n",
    "    assert len(string) > 0\n",
    "    if front == True:\n",
    "        return string[0]\n",
    "    return string[-1]"
   ]
  },
  {
   "cell_type": "markdown",
   "metadata": {},
   "source": [
    "### withouEnd2\n",
    "Given a string, return a version without both the first and last char of the string. The string may be any length, including 0."
   ]
  },
  {
   "cell_type": "code",
   "execution_count": 61,
   "metadata": {},
   "outputs": [],
   "source": [
    "def withouEnd2(string):\n",
    "    if len(string) <= 2:\n",
    "        return ''\n",
    "    return string[1:-1]"
   ]
  },
  {
   "cell_type": "markdown",
   "metadata": {},
   "source": [
    "### middleTwo\n",
    "Given a string of even length, return a string made of the middle two chars, so the string \"string\" yields \"ri\". The string length will be at least 2."
   ]
  },
  {
   "cell_type": "code",
   "execution_count": 66,
   "metadata": {},
   "outputs": [],
   "source": [
    "def middleTwo(string):\n",
    "    assert len(string) % 2 == 0\n",
    "    assert len(string) >= 2\n",
    "    return string[len(string)//2 - 1: len(string)//2 + 1]"
   ]
  },
  {
   "cell_type": "markdown",
   "metadata": {},
   "source": [
    "### endsLy\n",
    "Given a string, return true if it ends in \"ly\"."
   ]
  },
  {
   "cell_type": "code",
   "execution_count": 72,
   "metadata": {},
   "outputs": [],
   "source": [
    "def endsLy(string):\n",
    "    return string[-2:] == 'ly'"
   ]
  },
  {
   "cell_type": "markdown",
   "metadata": {},
   "source": [
    "### nTwice\n",
    "Given a string and an int n, return a string made of the first and last n chars from the string. The string length will be at least n."
   ]
  },
  {
   "cell_type": "code",
   "execution_count": 95,
   "metadata": {},
   "outputs": [],
   "source": [
    "def nTwice(string, n):\n",
    "    assert len(string) >= n\n",
    "    return string[:n] + string[len(string)-n:len(string)]"
   ]
  },
  {
   "cell_type": "markdown",
   "metadata": {},
   "source": [
    "### twoChar\n",
    "Given a string and an index, return a string length 2 starting at the given index. If the index is too big or too small to define a string length 2, use the first 2 chars. The string length will be at least 2.\n",
    "\n"
   ]
  },
  {
   "cell_type": "code",
   "execution_count": 112,
   "metadata": {},
   "outputs": [],
   "source": [
    "def twoChar(string, i):\n",
    "    assert len(string) >= 2\n",
    "    if i <= len(string) - 2 and i > 0:\n",
    "        return string[i:i+2]\n",
    "    return string[:2]"
   ]
  },
  {
   "cell_type": "markdown",
   "metadata": {},
   "source": [
    "### middleThree\n",
    "Given a string of odd length, return the string length 3 from its middle, so \"Candy\" yields \"and\". The string length will be at least 3."
   ]
  },
  {
   "cell_type": "code",
   "execution_count": 1,
   "metadata": {},
   "outputs": [],
   "source": [
    "def middleThree(string):\n",
    "    assert len(string) % 2 == 1\n",
    "    assert len(string) >= 3\n",
    "    return string[len(string)//2 - 1: len(string)//2 + 2]"
   ]
  },
  {
   "cell_type": "markdown",
   "metadata": {},
   "source": [
    "### hasBad\n",
    "Given a string, return true if \"bad\" appears starting at index 0 or 1 in the string, such as with \"badxxx\" or \"xbadxx\" but not \"xxbadxx\". The string may be any length, including 0. Note: use .equals() to compare 2 strings."
   ]
  },
  {
   "cell_type": "code",
   "execution_count": 4,
   "metadata": {},
   "outputs": [],
   "source": [
    "def hasBad(string):\n",
    "    if len(string) < 3:\n",
    "        return False\n",
    "    if string[:3] == 'bad' or (len(string) > 3 and string[1:4] == 'bad'):\n",
    "        return True\n",
    "    return False"
   ]
  },
  {
   "cell_type": "markdown",
   "metadata": {},
   "source": [
    "###  atFirst\n",
    "Given a string, return a string length 2 made of its first 2 chars. If the string length is less than 2, use '@' for the missing chars."
   ]
  },
  {
   "cell_type": "code",
   "execution_count": 13,
   "metadata": {},
   "outputs": [],
   "source": [
    "def atFirst(string):\n",
    "    if len(string) < 2:\n",
    "        return string + '@' * (2 - len(string))\n",
    "    return string[:2]"
   ]
  },
  {
   "cell_type": "markdown",
   "metadata": {},
   "source": [
    "### lastChars\n",
    "Given 2 strings, a and b, return a new string made of the first char of a and the last char of b, so \"yo\" and \"java\" yields \"ya\". If either string is length 0, use '@' for its missing char.\n",
    "\n"
   ]
  },
  {
   "cell_type": "code",
   "execution_count": 21,
   "metadata": {},
   "outputs": [],
   "source": [
    "def lastChars(strA, strB):\n",
    "    if len(strA) == 0:\n",
    "        first = '@'\n",
    "    else:\n",
    "        first = strA[0]\n",
    "    if len(strB) == 0:\n",
    "        last = '@'\n",
    "    else:\n",
    "        last = strB[-1]\n",
    "    return first + last"
   ]
  },
  {
   "cell_type": "markdown",
   "metadata": {},
   "source": [
    "### conCat\n",
    "Given two strings, append them together (known as \"concatenation\") and return the result. However, if the concatenation creates a double-char, then omit one of the chars, so \"abc\" and \"cat\" yields \"abcat\"."
   ]
  },
  {
   "cell_type": "code",
   "execution_count": 38,
   "metadata": {},
   "outputs": [],
   "source": [
    "def conCat(strA, strB):\n",
    "    if strA != '' and strB != '' and strA[-1] == strB[0]:\n",
    "        strB = strB[1:]\n",
    "    return strA + strB"
   ]
  },
  {
   "cell_type": "markdown",
   "metadata": {},
   "source": [
    "### lastTwo\n",
    "Given a string of any length, return a new string where the last 2 chars, if present, are swapped, so \"coding\" yields \"codign\"."
   ]
  },
  {
   "cell_type": "code",
   "execution_count": 39,
   "metadata": {},
   "outputs": [],
   "source": [
    "def lastTwo(string):\n",
    "    if len(string) < 2:\n",
    "        return string\n",
    "    return string[:-2] + string[-1] + string[-2]"
   ]
  },
  {
   "cell_type": "markdown",
   "metadata": {},
   "source": [
    "### seeColor\n",
    "Given a string, if the string begins with \"red\" or \"blue\" return that color string, otherwise return the empty string."
   ]
  },
  {
   "cell_type": "code",
   "execution_count": 48,
   "metadata": {},
   "outputs": [],
   "source": [
    "def seeColor(string):\n",
    "    if string[:3] == 'red':\n",
    "        return 'red'\n",
    "    if string[:4] == 'blue':\n",
    "        return 'blue'\n",
    "    return ''"
   ]
  },
  {
   "cell_type": "markdown",
   "metadata": {},
   "source": [
    "### frontAgain\n",
    "Given a string, return true if the first 2 chars in the string also appear at the end of the string, such as with \"edited\"."
   ]
  },
  {
   "cell_type": "code",
   "execution_count": 62,
   "metadata": {},
   "outputs": [],
   "source": [
    "def frontAgain(string):\n",
    "    if len(string) < 2:\n",
    "        return False\n",
    "    return string[:2] == string[-2:]"
   ]
  },
  {
   "cell_type": "markdown",
   "metadata": {},
   "source": [
    "### minCat\n",
    "Given two strings, append them together (known as \"concatenation\") and return the result. However, if the strings are different lengths, omit chars from the longer string so it is the same length as the shorter string. So \"Hello\" and \"Hi\" yield \"loHi\". The strings may be any length."
   ]
  },
  {
   "cell_type": "code",
   "execution_count": 78,
   "metadata": {},
   "outputs": [],
   "source": [
    "def minCat(strA, strB):\n",
    "    if len(strA) > len(strB):\n",
    "        return strA[len(strA) - len(strB):len(strA)] + strB\n",
    "    elif len(strA) < len(strB):\n",
    "        return strA + strB[len(strB) - len(strA):len(strB)]\n",
    "    else:\n",
    "        return strA + strB"
   ]
  },
  {
   "cell_type": "code",
   "execution_count": 82,
   "metadata": {},
   "outputs": [
    {
     "data": {
      "text/plain": [
       "'xa'"
      ]
     },
     "execution_count": 82,
     "metadata": {},
     "output_type": "execute_result"
    }
   ],
   "source": [
    "minCat('x','a')"
   ]
  },
  {
   "cell_type": "markdown",
   "metadata": {},
   "source": [
    "### extraFront\n",
    "Given a string, return a new string made of 3 copies of the first 2 chars of the original string. The string may be any length. If there are fewer than 2 chars, use whatever is there."
   ]
  },
  {
   "cell_type": "code",
   "execution_count": 83,
   "metadata": {},
   "outputs": [],
   "source": [
    "def extraFront(string):\n",
    "    return string[:2] * 3"
   ]
  },
  {
   "cell_type": "markdown",
   "metadata": {},
   "source": [
    "### without2\n",
    "Given a string, if a length 2 substring appears at both its beginning and end, return a string without the substring at the beginning, so \"HelloHe\" yields \"lloHe\". The substring may overlap with itself, so \"Hi\" yields \"\". Otherwise, return the original string unchanged.\n",
    "\n"
   ]
  },
  {
   "cell_type": "code",
   "execution_count": 98,
   "metadata": {},
   "outputs": [],
   "source": [
    "def without2(string):\n",
    "    if string[:2] == string[-2:] and len(string) >= 2:\n",
    "        return string[2:]\n",
    "    return string"
   ]
  },
  {
   "cell_type": "markdown",
   "metadata": {},
   "source": [
    "### deFront\n",
    "Given a string, return a version without the first 2 chars. Except keep the first char if it is 'a' and keep the second char if it is 'b'. The string may be any length. Harder than it looks."
   ]
  },
  {
   "cell_type": "code",
   "execution_count": 149,
   "metadata": {},
   "outputs": [],
   "source": [
    "def deFront(string):\n",
    "    if len(string) >= 2:\n",
    "        if string[0] == 'a':\n",
    "            if string[1] == 'b':\n",
    "                return string\n",
    "            return string[0] + string[2:]\n",
    "        else:\n",
    "            if string[1] == 'b':\n",
    "                return  string[1:]\n",
    "            return string[2:]\n",
    "    else:\n",
    "        if string[0:len(string)] == 'a':\n",
    "            return string\n",
    "        return ''"
   ]
  },
  {
   "cell_type": "markdown",
   "metadata": {},
   "source": [
    "### startWord\n",
    "Given a string and a second \"word\" string, we'll say that the word matches the string if it appears at the front of the string, except its first char does not need to match exactly. On a match, return the front of the string, or otherwise return the empty string. So, so with the string \"hippo\" the word \"hi\" returns \"hi\" and \"xip\" returns \"hip\". The word will be at least length 1."
   ]
  },
  {
   "cell_type": "code",
   "execution_count": 160,
   "metadata": {},
   "outputs": [],
   "source": [
    "def startWord(string, word):\n",
    "    assert len(word) >= 1\n",
    "    if len(string) < len(word):\n",
    "        return ''\n",
    "    if string[1:len(word)] == word[1:]:\n",
    "        return string[:len(word)]\n",
    "    return ''"
   ]
  },
  {
   "cell_type": "markdown",
   "metadata": {},
   "source": [
    "### withoutX\n",
    "Given a string, if the first or last chars are 'x', return the string without those 'x' chars, and otherwise return the string unchanged."
   ]
  },
  {
   "cell_type": "code",
   "execution_count": 170,
   "metadata": {},
   "outputs": [],
   "source": [
    "def withoutX(string):\n",
    "    if len(string) == 0 or (len(string) == 1 and string[0] == 'x'):\n",
    "        return ''\n",
    "    if string[0] == 'x':\n",
    "        if string[-1] == 'x':\n",
    "            return string[1:-1]\n",
    "        return string[1:]\n",
    "    else:\n",
    "        if string[-1] == 'x':\n",
    "            return string[:-1]\n",
    "        return string"
   ]
  },
  {
   "cell_type": "markdown",
   "metadata": {},
   "source": [
    "### withoutX2\n",
    "Given a string, if one or both of the first 2 chars is 'x', return the string without those 'x' chars, and otherwise return the string unchanged. This is a little harder than it looks.\n",
    "\n"
   ]
  },
  {
   "cell_type": "code",
   "execution_count": 183,
   "metadata": {},
   "outputs": [],
   "source": [
    "def withoutX2(string):\n",
    "    if len(string) >= 2:\n",
    "        if string[0] == 'x':\n",
    "            if string[1] == 'x':\n",
    "                return string[2:]\n",
    "            return string[1:]\n",
    "        else:\n",
    "            if string[1] == 'x':\n",
    "                return  string[0] + string[2:]\n",
    "            return string\n",
    "    else:\n",
    "        if string[0:len(string)] == 'x':\n",
    "            return ''\n",
    "        return string"
   ]
  }
 ],
 "metadata": {
  "kernelspec": {
   "display_name": "Python 3",
   "language": "python",
   "name": "python3"
  },
  "language_info": {
   "codemirror_mode": {
    "name": "ipython",
    "version": 3
   },
   "file_extension": ".py",
   "mimetype": "text/x-python",
   "name": "python",
   "nbconvert_exporter": "python",
   "pygments_lexer": "ipython3",
   "version": "3.7.3"
  }
 },
 "nbformat": 4,
 "nbformat_minor": 2
}
