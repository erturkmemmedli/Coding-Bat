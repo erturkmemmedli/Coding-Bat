{
 "cells": [
  {
   "cell_type": "markdown",
   "metadata": {},
   "source": [
    "### doubling\n",
    "Given a list of integers, return a list where each integer is multiplied by 2."
   ]
  },
  {
   "cell_type": "code",
   "execution_count": 3,
   "metadata": {},
   "outputs": [],
   "source": [
    "def doubling(nums):\n",
    "    return list(map(lambda x: x * 2, nums))"
   ]
  },
  {
   "cell_type": "markdown",
   "metadata": {},
   "source": [
    "### square\n",
    "Given a list of integers, return a list where each integer is multiplied with itself."
   ]
  },
  {
   "cell_type": "code",
   "execution_count": 10,
   "metadata": {},
   "outputs": [],
   "source": [
    "def square(nums):\n",
    "    return list(map(lambda x: x ** 2, nums))"
   ]
  },
  {
   "cell_type": "markdown",
   "metadata": {},
   "source": [
    "### addStar\n",
    "Given a list of strings, return a list where each string has \"*\" added at its end."
   ]
  },
  {
   "cell_type": "code",
   "execution_count": 13,
   "metadata": {},
   "outputs": [],
   "source": [
    "def addStar(strings):\n",
    "    return list(map(lambda x: x + '*', strings))"
   ]
  },
  {
   "cell_type": "markdown",
   "metadata": {},
   "source": [
    "### copies3\n",
    "Given a list of strings, return a list where each string is replaced by 3 copies of the string concatenated together."
   ]
  },
  {
   "cell_type": "code",
   "execution_count": 16,
   "metadata": {},
   "outputs": [],
   "source": [
    "def copies3(strings):\n",
    "    return list(map(lambda x: x * 3, strings))"
   ]
  },
  {
   "cell_type": "markdown",
   "metadata": {},
   "source": [
    "### moreY\n",
    "Given a list of strings, return a list where each string has \"y\" added at its start and end."
   ]
  },
  {
   "cell_type": "code",
   "execution_count": 17,
   "metadata": {},
   "outputs": [],
   "source": [
    "def moreY(strings):\n",
    "    return list(map(lambda x: \"y\" + x + 'y', strings))"
   ]
  },
  {
   "cell_type": "markdown",
   "metadata": {},
   "source": [
    "### math1\n",
    "Given a list of integers, return a list where each integer is added to 1 and the result is multiplied by 10."
   ]
  },
  {
   "cell_type": "code",
   "execution_count": 19,
   "metadata": {},
   "outputs": [],
   "source": [
    "def math1(nums):\n",
    "    return list(map(lambda x: (x + 1) * 10, nums))"
   ]
  },
  {
   "cell_type": "markdown",
   "metadata": {},
   "source": [
    "### rightDigit\n",
    "Given a list of non-negative integers, return an integer list of the rightmost digits. (Note: use %)"
   ]
  },
  {
   "cell_type": "code",
   "execution_count": 27,
   "metadata": {},
   "outputs": [],
   "source": [
    "def rightDigit(nums):\n",
    "    assert all(nums[i] >= 0 for i in range(len(nums)))\n",
    "    return list(map(lambda x: int(str(x)[-1]), nums))"
   ]
  },
  {
   "cell_type": "markdown",
   "metadata": {},
   "source": [
    "### lower\n",
    "Given a list of strings, return a list where each string is converted to lower case (Note: String toLowerCase() method)."
   ]
  },
  {
   "cell_type": "code",
   "execution_count": 33,
   "metadata": {},
   "outputs": [],
   "source": [
    "def lower(strings):\n",
    "    return [strings[i].lower() for i in range(len(strings))]"
   ]
  },
  {
   "cell_type": "markdown",
   "metadata": {},
   "source": [
    "### noX\n",
    "prev  |  next  |  chance\n",
    "Given a list of strings, return a list where each string has all its \"x\" removed."
   ]
  },
  {
   "cell_type": "code",
   "execution_count": 41,
   "metadata": {},
   "outputs": [],
   "source": [
    "def noX(strings):\n",
    "    return [strings[i].replace('x','') for i in range(len(strings))]"
   ]
  }
 ],
 "metadata": {
  "kernelspec": {
   "display_name": "Python 3",
   "language": "python",
   "name": "python3"
  },
  "language_info": {
   "codemirror_mode": {
    "name": "ipython",
    "version": 3
   },
   "file_extension": ".py",
   "mimetype": "text/x-python",
   "name": "python",
   "nbconvert_exporter": "python",
   "pygments_lexer": "ipython3",
   "version": "3.8.3"
  }
 },
 "nbformat": 4,
 "nbformat_minor": 4
}
