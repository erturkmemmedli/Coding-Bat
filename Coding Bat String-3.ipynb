{
 "cells": [
  {
   "cell_type": "markdown",
   "metadata": {},
   "source": [
    "### countYZ\n",
    "Given a string, count the number of words ending in 'y' or 'z' -- so the 'y' in \"heavy\" and the 'z' in \"fez\" count, but not the 'y' in \"yellow\" (not case sensitive). We'll say that a y or z is at the end of a word if there is not an alphabetic letter immediately following it. (Note: Character.isLetter(char) tests if a char is an alphabetic letter.)\n",
    "\n"
   ]
  },
  {
   "cell_type": "code",
   "execution_count": 36,
   "metadata": {},
   "outputs": [],
   "source": [
    "def countYZ(string):\n",
    "    string = string.lower()\n",
    "    count = 0\n",
    "    for i in range(1, len(string)):\n",
    "        if not string[i].isalpha() and (string[i - 1] == 'y' or string[i - 1] == 'z'):\n",
    "            count += 1\n",
    "        if i == len(string) - 1 and (string[i] == 'y' or string[i] == 'z'):\n",
    "            count += 1\n",
    "    return count"
   ]
  },
  {
   "cell_type": "markdown",
   "metadata": {},
   "source": [
    "### withoutString\n",
    "Given two strings, base and remove, return a version of the base string where all instances of the remove string have been removed (not case sensitive). You may assume that the remove string is length 1 or more. Remove only non-overlapping instances, so with \"xxx\" removing \"xx\" leaves \"x\".\n",
    "\n"
   ]
  },
  {
   "cell_type": "code",
   "execution_count": 61,
   "metadata": {},
   "outputs": [],
   "source": [
    "def withoutString(base, remove):\n",
    "    assert len(remove) >= 1\n",
    "    base_new = ''\n",
    "    i = 0\n",
    "    while i < len(base):\n",
    "        if base[i:i+len(remove)].lower() != remove.lower():\n",
    "            base_new += base[i]\n",
    "            i += 1\n",
    "        else:\n",
    "            i += len(remove)\n",
    "    return base_new"
   ]
  },
  {
   "cell_type": "markdown",
   "metadata": {},
   "source": [
    "### equalIsNot\n",
    "Given a string, return true if the number of appearances of \"is\" anywhere in the string is equal to the number of appearances of \"not\" anywhere in the string (case sensitive).\n",
    "\n"
   ]
  },
  {
   "cell_type": "code",
   "execution_count": 2,
   "metadata": {},
   "outputs": [],
   "source": [
    "def equalIsNot(string):\n",
    "    is_count = 0\n",
    "    not_count = 0\n",
    "    for i in range(len(string) - 1):\n",
    "        if string[i:i+2] == 'is':\n",
    "            is_count += 1\n",
    "    for i in range(len(string) - 2):\n",
    "        if string[i:i+3] == 'not':\n",
    "            not_count += 1\n",
    "    return is_count == not_count"
   ]
  },
  {
   "cell_type": "markdown",
   "metadata": {},
   "source": [
    "### gHappy\n",
    "We'll say that a lowercase 'g' in a string is \"happy\" if there is another 'g' immediately to its left or right. Return true if all the g's in the given string are happy."
   ]
  },
  {
   "cell_type": "code",
   "execution_count": 28,
   "metadata": {},
   "outputs": [],
   "source": [
    "def gHappy(string):\n",
    "    happy = True\n",
    "    for i in range(len(string)):\n",
    "        if len(string) == 1:\n",
    "            if string[0] == 'g':\n",
    "                return False\n",
    "            return True\n",
    "        if i != 0 and i != len(string)-1:\n",
    "            if string[i] == 'g':\n",
    "                happy = False\n",
    "                if string[i-1] == 'g' or string[i+1] == 'g':\n",
    "                    happy = True\n",
    "        if i == 0:\n",
    "            if string[i] == 'g':\n",
    "                happy = False\n",
    "                if string[i+1] == 'g':\n",
    "                    happy = True\n",
    "        if i == len(string)-1:\n",
    "            if string[len(string)-1] == 'g':\n",
    "                happy = False\n",
    "                if string[len(string)-2] == 'g':\n",
    "                    happy = True\n",
    "    return happy"
   ]
  },
  {
   "cell_type": "markdown",
   "metadata": {},
   "source": [
    "### countTriple\n",
    "We'll say that a \"triple\" in a string is a char appearing three times in a row. Return the number of triples in the given string. The triples may overlap."
   ]
  },
  {
   "cell_type": "code",
   "execution_count": 41,
   "metadata": {},
   "outputs": [],
   "source": [
    "def countTriple(string):\n",
    "    count = 0\n",
    "    for i in range(len(string)-2):\n",
    "        if string[i] == string[i+1] and string[i] == string[i+2]:\n",
    "            count += 1\n",
    "    return count"
   ]
  },
  {
   "cell_type": "markdown",
   "metadata": {},
   "source": [
    "### sumDigits\n",
    "Given a string, return the sum of the digits 0-9 that appear in the string, ignoring all other characters. Return 0 if there are no digits in the string. (Note: Character.isDigit(char) tests if a char is one of the chars '0', '1', .. '9'. Integer.parseInt(string) converts a string to an int.)\n",
    "\n"
   ]
  },
  {
   "cell_type": "code",
   "execution_count": 49,
   "metadata": {},
   "outputs": [],
   "source": [
    "def sumDigits(string):\n",
    "    Sum = 0\n",
    "    for i in range(len(string)):\n",
    "        if string[i].isdigit() == True:\n",
    "            Sum += int(string[i])\n",
    "    return Sum"
   ]
  },
  {
   "cell_type": "markdown",
   "metadata": {},
   "source": [
    "### sameEnds\n",
    "Given a string, return the longest substring that appears at both the beginning and end of the string without overlapping. For example, sameEnds(\"abXab\") is \"ab\".\n",
    "\n"
   ]
  },
  {
   "cell_type": "code",
   "execution_count": 75,
   "metadata": {},
   "outputs": [],
   "source": [
    "def sameEnds(string):\n",
    "    if len(string) % 2 == 0:\n",
    "        head = string[:len(string)//2]\n",
    "        tail = string[len(string)//2:]\n",
    "    if len(string) % 2 == 1:\n",
    "        head = string[:len(string)//2]\n",
    "        tail = string[len(string)//2+1:]\n",
    "    for i in range(len(head)):\n",
    "        if tail[i:] == head[:len(head)-i]:\n",
    "            return tail[i:]\n",
    "    return ''"
   ]
  },
  {
   "cell_type": "markdown",
   "metadata": {},
   "source": [
    "### mirrorEnds\n",
    "Given a string, look for a mirror image (backwards) string at both the beginning and end of the given string. In other words, zero or more characters at the very begining of the given string, and at the very end of the string in reverse order (possibly overlapping). For example, the string \"abXYZba\" has the mirror end \"ab\"."
   ]
  },
  {
   "cell_type": "code",
   "execution_count": 81,
   "metadata": {},
   "outputs": [],
   "source": [
    "def mirrorEnds(string):\n",
    "    mirror = ''\n",
    "    for i in range(len(string)):\n",
    "        if string[i] == string[-i-1]:\n",
    "            mirror += string[i]\n",
    "        else:\n",
    "            break\n",
    "    return mirror"
   ]
  },
  {
   "cell_type": "markdown",
   "metadata": {},
   "source": [
    "### maxBlock\n",
    "Given a string, return the length of the largest \"block\" in the string. A block is a run of adjacent chars that are the same.\n",
    "\n"
   ]
  },
  {
   "cell_type": "code",
   "execution_count": 118,
   "metadata": {},
   "outputs": [],
   "source": [
    "def maxBlock(string):\n",
    "    count = 0\n",
    "    temp = 0\n",
    "    for i in range(len(string)):\n",
    "        if i == 0:\n",
    "            count = 1\n",
    "            temp = 1\n",
    "        if i != 0:\n",
    "            if string[i] == string[i-1]:\n",
    "                temp += 1\n",
    "                continue\n",
    "            else:\n",
    "                count = max(count, temp)\n",
    "                temp = 1\n",
    "    count = max(count, temp)\n",
    "    return count"
   ]
  },
  {
   "cell_type": "markdown",
   "metadata": {},
   "source": [
    "###  sumNumbers\n",
    "Given a string, return the sum of the numbers appearing in the string, ignoring all other characters. A number is a series of 1 or more digit chars in a row. (Note: Character.isDigit(char) tests if a char is one of the chars '0', '1', .. '9'. Integer.parseInt(string) converts a string to an int.)"
   ]
  },
  {
   "cell_type": "code",
   "execution_count": 162,
   "metadata": {},
   "outputs": [],
   "source": [
    "def sumNumbers(string):\n",
    "    Sum = 0\n",
    "    temp = '0'\n",
    "    for i in range(len(string)):\n",
    "        if string[i].isdigit() == True:\n",
    "            temp += string[i]\n",
    "        else:\n",
    "            Sum += int(temp)\n",
    "            temp = '0'\n",
    "    Sum += int(temp)\n",
    "    return Sum"
   ]
  },
  {
   "cell_type": "markdown",
   "metadata": {},
   "source": [
    "### notReplace\n",
    "Given a string, return a string where every appearance of the lowercase word \"is\" has been replaced with \"is not\". The word \"is\" should not be immediately preceeded or followed by a letter -- so for example the \"is\" in \"this\" does not count. (Note: Character.isLetter(char) tests if a char is a letter.)\n",
    "\n"
   ]
  },
  {
   "cell_type": "code",
   "execution_count": 19,
   "metadata": {},
   "outputs": [],
   "source": [
    "def notReplace(string):\n",
    "    if len(string) < 2:\n",
    "        return string\n",
    "    if len(string) == 2:\n",
    "        if string == 'is':\n",
    "            return string + ' not'\n",
    "        return string\n",
    "    new_string = ''\n",
    "    i = 0\n",
    "    while i < len(string):\n",
    "        if string[i:i+2] != 'is':\n",
    "            new_string += string[i]\n",
    "            i += 1\n",
    "        else:\n",
    "            if i == 0:\n",
    "                if string[i+2].isalpha() == True:\n",
    "                    new_string += string[i:i+2]\n",
    "                    i += 2\n",
    "                else:\n",
    "                    new_string += string[i:i+2] + ' not'\n",
    "                    i += 2\n",
    "                continue\n",
    "            elif i == len(string) - 2:\n",
    "                if string[i-1].isalpha() == True:\n",
    "                    new_string += string[i:i+2]\n",
    "                    i += 2\n",
    "                else:\n",
    "                    new_string += string[i:i+2] + ' not'\n",
    "                    i += 2\n",
    "                continue\n",
    "            else:\n",
    "                if string[i-1].isalpha() == True or string[i+2].isalpha() == True:\n",
    "                    new_string += string[i:i+2]\n",
    "                    i += 2\n",
    "                    continue\n",
    "                else:\n",
    "                    new_string += string[i:i+2] + ' not'\n",
    "                    i += 2\n",
    "                continue\n",
    "    return new_string"
   ]
  }
 ],
 "metadata": {
  "kernelspec": {
   "display_name": "Python 3",
   "language": "python",
   "name": "python3"
  },
  "language_info": {
   "codemirror_mode": {
    "name": "ipython",
    "version": 3
   },
   "file_extension": ".py",
   "mimetype": "text/x-python",
   "name": "python",
   "nbconvert_exporter": "python",
   "pygments_lexer": "ipython3",
   "version": "3.7.3"
  }
 },
 "nbformat": 4,
 "nbformat_minor": 2
}
