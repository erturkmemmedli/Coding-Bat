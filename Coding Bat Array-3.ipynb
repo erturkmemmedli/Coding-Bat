{
 "cells": [
  {
   "cell_type": "markdown",
   "metadata": {},
   "source": [
    "### maxSpan\n",
    "Consider the leftmost and righmost appearances of some value in an array. We'll say that the \"span\" is the number of elements between the two inclusive. A single value has a span of 1. Returns the largest span found in the given array. (Efficiency is not a priority.)"
   ]
  },
  {
   "cell_type": "code",
   "execution_count": 6,
   "metadata": {},
   "outputs": [],
   "source": [
    "def maxSpan(A):\n",
    "    temporary = 0\n",
    "    maxspan = 0\n",
    "    for i in range(len(A)):\n",
    "        for j in range(len(A)):\n",
    "            if A[i] == A[j]:\n",
    "                temporary = j - i + 1\n",
    "                maxspan = max(maxspan, temporary)\n",
    "    return maxspan"
   ]
  },
  {
   "cell_type": "markdown",
   "metadata": {},
   "source": [
    "### fix34\n",
    "Return an array that contains exactly the same numbers as the given array, but rearranged so that every 3 is immediately followed by a 4. Do not move the 3's, but every other number may move. The array contains the same number of 3's and 4's, every 3 has a number after it that is not a 3, and a 3 appears in the array before any 4.\n",
    "\n"
   ]
  },
  {
   "cell_type": "code",
   "execution_count": 125,
   "metadata": {},
   "outputs": [],
   "source": [
    "# I will use x and y instead of 3 and 4 for generalized case\n",
    "def fix34(A, x = 3, y = 4):\n",
    "    assert A.count(x) == A.count(y)\n",
    "    assert all(A[i:i+2] != [x,x] for i in range(len(A) - 1))\n",
    "    assert A[-1:] != [x]\n",
    "    temp = 0\n",
    "    for i in range(len(A)):\n",
    "        if A[i] == x:\n",
    "            for j in range(temp, len(A)):\n",
    "                if A[j] == y and A[j-1] != x:\n",
    "                    A[i+1], A[j] = A[j], A[i+1]\n",
    "                    if i + 1 > j:\n",
    "                        temp = j\n",
    "                    if i + 1 < j:\n",
    "                        temp = i + 1\n",
    "    return A"
   ]
  },
  {
   "cell_type": "markdown",
   "metadata": {},
   "source": [
    "### fix45\n",
    "(This is a slightly harder version of the fix34 problem.) Return an array that contains exactly the same numbers as the given array, but rearranged so that every 4 is immediately followed by a 5. Do not move the 4's, but every other number may move. The array contains the same number of 4's and 5's, and every 4 has a number after it that is not a 4. In this version, 5's may appear anywhere in the original array.\n",
    "\n"
   ]
  },
  {
   "cell_type": "code",
   "execution_count": 131,
   "metadata": {},
   "outputs": [],
   "source": [
    "def fix45(A):\n",
    "    # I have already solved fix34 problem for \"3 appears anywhere\" condition and written the code in generalized form.\n",
    "    # So calling fix34 function is enough by specifying x = 4 and y = 5.\n",
    "    return fix34(A, x = 4, y = 5)"
   ]
  },
  {
   "cell_type": "markdown",
   "metadata": {},
   "source": [
    "### canBalance\n",
    "Given a non-empty array, return true if there is a place to split the array so that the sum of the numbers on one side is equal to the sum of the numbers on the other side."
   ]
  },
  {
   "cell_type": "code",
   "execution_count": 174,
   "metadata": {},
   "outputs": [],
   "source": [
    "def canBalance(A):\n",
    "    assert len(A) > 0\n",
    "    for i in range(len(A)):\n",
    "        if sum(A[:i]) == sum(A[i:]):\n",
    "            #print(f'sums of first {i} element and last {len(A)-i} element are equal')\n",
    "            return True\n",
    "    return False"
   ]
  },
  {
   "cell_type": "markdown",
   "metadata": {},
   "source": [
    "### linearIn\n",
    "Given two arrays of ints sorted in increasing order, outer and inner, return true if all of the numbers in inner appear in outer. The best solution makes only a single \"linear\" pass of both arrays, taking advantage of the fact that both arrays are already in sorted order."
   ]
  },
  {
   "cell_type": "code",
   "execution_count": 194,
   "metadata": {},
   "outputs": [],
   "source": [
    "def linearIn(outer, inner):\n",
    "    assert all(outer[i] <= outer[i+1] for i in range(len(outer) - 1))\n",
    "    assert all(inner[i] <= inner[i+1] for i in range(len(inner) - 1))\n",
    "    for i in range(len(inner)):\n",
    "        if inner[i] not in outer:\n",
    "            return False\n",
    "    return True"
   ]
  },
  {
   "cell_type": "markdown",
   "metadata": {},
   "source": [
    "### squareUp\n",
    "    For n>=0, create an array length n*n with the following pattern, shown here for n=3 : {0, 0, 1,    0, 2, 1,    3, 2, 1} (spaces added to show the 3 groups)."
   ]
  },
  {
   "cell_type": "code",
   "execution_count": 217,
   "metadata": {},
   "outputs": [],
   "source": [
    "def squareUp(n):\n",
    "    assert n >= 0\n",
    "    array = [0] * (n ** 2)\n",
    "    for i in range(n):\n",
    "        for j in range(n):\n",
    "            if i + j + 1 < n:\n",
    "                array[i * n + j] = 0\n",
    "            else:\n",
    "                array[i * n + j] = n - j \n",
    "    return array"
   ]
  },
  {
   "cell_type": "markdown",
   "metadata": {},
   "source": [
    "### seriesUp\n",
    "    Given n>=0, create an array with the pattern {1,    1, 2,    1, 2, 3,   ... 1, 2, 3 .. n} (spaces added to show the grouping). Note that the length of the array will be 1 + 2 + 3 ... + n, which is known to sum to exactly n*(n + 1)/2."
   ]
  },
  {
   "cell_type": "code",
   "execution_count": 244,
   "metadata": {},
   "outputs": [],
   "source": [
    "def seriesUp(n):\n",
    "    assert n >= 0\n",
    "    array = []\n",
    "    temp = n - 1\n",
    "    for i in range(n):\n",
    "        if temp >= 0:\n",
    "            for j in range(n - temp):\n",
    "                array.append(j + 1)\n",
    "            temp -= 1\n",
    "    return array"
   ]
  },
  {
   "cell_type": "markdown",
   "metadata": {},
   "source": [
    "### maxMirror\n",
    "We'll say that a \"mirror\" section in an array is a group of contiguous elements such that somewhere in the array, the same group appears in reverse order. For example, the largest mirror section in {1, 2, 3, 8, 9, 3, 2, 1} is length 3 (the {1, 2, 3} part). Return the size of the largest mirror section found in the given array."
   ]
  },
  {
   "cell_type": "code",
   "execution_count": 28,
   "metadata": {},
   "outputs": [],
   "source": [
    "def maxMirror(A):\n",
    "    if len(A) <= 1:\n",
    "        return len(A)\n",
    "    max_length = 1\n",
    "    temporary = 0\n",
    "    i = 0\n",
    "    j = len(A) - 1\n",
    "    while i <= len(A) - 1:\n",
    "        index_i = i\n",
    "        index_j = j\n",
    "        while j >= 0 and i <= len(A) - 1:\n",
    "            #print(f'points: {A[i],A[j]}')\n",
    "            if A[i] == A[j]:\n",
    "                temporary += 1\n",
    "                #print(f'temporary: {temporary}')\n",
    "                max_length = max(max_length, temporary)\n",
    "                #print(f'max_length: {max_length}')\n",
    "                i += 1\n",
    "                j -= 1\n",
    "            else:\n",
    "                temporary = 0\n",
    "                i = index_i\n",
    "                j = index_j - 1\n",
    "                index_j -= 1\n",
    "            if i == index_i and j == i:\n",
    "                break\n",
    "        temporary = 0\n",
    "        i += 1\n",
    "        j = len(A) - 1\n",
    "    return max_length"
   ]
  },
  {
   "cell_type": "markdown",
   "metadata": {},
   "source": [
    "### countClumps\n",
    "Say that a \"clump\" in an array is a series of 2 or more adjacent elements of the same value. Return the number of clumps in the given array.\n",
    "\n"
   ]
  },
  {
   "cell_type": "code",
   "execution_count": 38,
   "metadata": {},
   "outputs": [],
   "source": [
    "def countClumps(A):\n",
    "    count = 0\n",
    "    liste = []\n",
    "    for i in range(1, len(A)):\n",
    "        if A[i] == A[i-1]:\n",
    "            count += 1\n",
    "            liste.append(count)\n",
    "        else:\n",
    "            count = 0\n",
    "    return liste.count(1)"
   ]
  }
 ],
 "metadata": {
  "kernelspec": {
   "display_name": "Python 3",
   "language": "python",
   "name": "python3"
  },
  "language_info": {
   "codemirror_mode": {
    "name": "ipython",
    "version": 3
   },
   "file_extension": ".py",
   "mimetype": "text/x-python",
   "name": "python",
   "nbconvert_exporter": "python",
   "pygments_lexer": "ipython3",
   "version": "3.7.3"
  }
 },
 "nbformat": 4,
 "nbformat_minor": 2
}
