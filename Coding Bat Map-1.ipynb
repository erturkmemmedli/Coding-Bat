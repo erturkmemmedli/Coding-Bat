{
 "cells": [
  {
   "cell_type": "markdown",
   "metadata": {},
   "source": [
    "    Java Map API\n",
    "    Map<String, String> map = new HashMap<String, String>(); -- makes a new empty map\n",
    "    map.get(key) -- retrieves the stored value for a key, or null if that key is not present in the map.\n",
    "    map.put(key, value) -- stores a new key/value pair in the map. Overwrites any existing value for that key.\n",
    "    map.containsKey(key) -- returns true if the key is in the map, false otherwise.\n",
    "    map.remove(key) -- removes the key/value pair for this key if present. Does nothing if the key is not present."
   ]
  },
  {
   "cell_type": "markdown",
   "metadata": {},
   "source": [
    "### mapBully\n",
    "Modify and return the given map as follows: if the key \"a\" has a value, set the key \"b\" to have that value, and set the key \"a\" to have the value \"\". Basically \"b\" is a bully, taking the value and replacing it with the empty string.\n"
   ]
  },
  {
   "cell_type": "code",
   "execution_count": 43,
   "metadata": {},
   "outputs": [],
   "source": [
    "def mapBully(dictionary):\n",
    "    if 'a'  in dictionary:\n",
    "        dictionary['b'] = dictionary['a']\n",
    "        dictionary['a'] = \"\"\n",
    "    return dictionary"
   ]
  },
  {
   "cell_type": "markdown",
   "metadata": {},
   "source": [
    "### mapShare\n",
    "Modify and return the given map as follows: if the key \"a\" has a value, set the key \"b\" to have that same value. In all cases remove the key \"c\", leaving the rest of the map unchanged."
   ]
  },
  {
   "cell_type": "code",
   "execution_count": 62,
   "metadata": {},
   "outputs": [],
   "source": [
    "def mapShare(dictionary):\n",
    "    if 'c' in dictionary:\n",
    "        del dictionary['c']\n",
    "    if 'a'  in dictionary:\n",
    "        dictionary['b'] = dictionary['a']\n",
    "    return dictionary"
   ]
  },
  {
   "cell_type": "markdown",
   "metadata": {},
   "source": [
    "### mapAB\n",
    "Modify and return the given map as follows: for this problem the map may or may not contain the \"a\" and \"b\" keys. If both keys are present, append their 2 string values together and store the result under the key \"ab\".\n",
    "\n"
   ]
  },
  {
   "cell_type": "code",
   "execution_count": 1,
   "metadata": {},
   "outputs": [],
   "source": [
    "def mapAB(dictionary):\n",
    "    if 'a' in dictionary and 'b' in dictionary:\n",
    "        dictionary['ab'] = dictionary['a'] + dictionary['b']\n",
    "    return dictionary"
   ]
  },
  {
   "cell_type": "markdown",
   "metadata": {},
   "source": [
    "### topping1\n",
    "Given a map of food keys and topping values, modify and return the map as follows: if the key \"ice cream\" is present, set its value to \"cherry\". In all cases, set the key \"bread\" to have the value \"butter\"."
   ]
  },
  {
   "cell_type": "code",
   "execution_count": 70,
   "metadata": {},
   "outputs": [],
   "source": [
    "def topping1(dictionary):\n",
    "    if \"ice cream\" in dictionary:\n",
    "        dictionary[\"ice cream\"] = \"cherry\"\n",
    "    dictionary[\"bread\"] = \"butter\"\n",
    "    return dictionary"
   ]
  },
  {
   "cell_type": "markdown",
   "metadata": {},
   "source": [
    "###  topping2\n",
    "Given a map of food keys and their topping values, modify and return the map as follows: if the key \"ice cream\" has a value, set that as the value for the key \"yogurt\" also. If the key \"spinach\" has a value, change that value to \"nuts\"."
   ]
  },
  {
   "cell_type": "code",
   "execution_count": 69,
   "metadata": {},
   "outputs": [],
   "source": [
    "def topping2(dictionary):\n",
    "    if \"ice cream\" in dictionary:\n",
    "        dictionary[\"yogurt\"] = dictionary[\"ice cream\"]\n",
    "    if \"spinach\" in dictionary:\n",
    "        dictionary[\"spinach\"] = \"nuts\"\n",
    "    return dictionary"
   ]
  },
  {
   "cell_type": "markdown",
   "metadata": {},
   "source": [
    "### topping3\n",
    "Given a map of food keys and topping values, modify and return the map as follows: if the key \"potato\" has a value, set that as the value for the key \"fries\". If the key \"salad\" has a value, set that as the value for the key \"spinach\"."
   ]
  },
  {
   "cell_type": "code",
   "execution_count": 72,
   "metadata": {},
   "outputs": [],
   "source": [
    "def topping3(dictionary):\n",
    "    if \"potato\" in dictionary:\n",
    "        dictionary[\"fires\"] = dictionary[\"potato\"]\n",
    "    if \"salad\" in dictionary:\n",
    "        dictionary[\"spinach\"] = dictionary[\"salad\"]\n",
    "    return dictionary"
   ]
  },
  {
   "cell_type": "markdown",
   "metadata": {},
   "source": [
    "### mapAB2\n",
    "Modify and return the given map as follows: if the keys \"a\" and \"b\" are both in the map and have equal values, remove them both."
   ]
  },
  {
   "cell_type": "code",
   "execution_count": 76,
   "metadata": {},
   "outputs": [],
   "source": [
    "def mapAB2(dictionary):\n",
    "    if 'a' in dictionary and 'b' in dictionary:\n",
    "        if dictionary['a'] == dictionary['b']:\n",
    "            del dictionary['a']\n",
    "            del dictionary['b']\n",
    "    return dictionary"
   ]
  },
  {
   "cell_type": "markdown",
   "metadata": {},
   "source": [
    "### mapAB3\n",
    "Modify and return the given map as follows: if exactly one of the keys \"a\" or \"b\" has a value in the map (but not both), set the other to have that same value in the map."
   ]
  },
  {
   "cell_type": "code",
   "execution_count": 79,
   "metadata": {},
   "outputs": [],
   "source": [
    "def mapAB3(dictionary):\n",
    "    if 'a' in dictionary and 'b' not in dictionary:\n",
    "        dictionary['b'] = dictionary['a']\n",
    "    if 'a' not in dictionary and 'b' in dictionary:\n",
    "        dictionary['a'] = dictionary['b']\n",
    "    return dictionary"
   ]
  },
  {
   "cell_type": "markdown",
   "metadata": {},
   "source": [
    "### mapAB4\n",
    "Modify and return the given map as follows: if the keys \"a\" and \"b\" have values that have different lengths, then set \"c\" to have the longer value. If the values exist and have the same length, change them both to the empty string in the map."
   ]
  },
  {
   "cell_type": "code",
   "execution_count": 96,
   "metadata": {},
   "outputs": [],
   "source": [
    "def mapAB4(dictionary):\n",
    "    if 'a' in dictionary and 'b' in dictionary:\n",
    "        if len(dictionary['a']) > len(dictionary['b']):\n",
    "            dictionary['c'] = dictionary['a']\n",
    "        elif len(dictionary['a']) < len(dictionary['b']):\n",
    "            dictionary['c'] = dictionary['b']\n",
    "        else:\n",
    "            dictionary['a'] = ''\n",
    "            dictionary['b'] = ''\n",
    "    return dictionary"
   ]
  }
 ],
 "metadata": {
  "kernelspec": {
   "display_name": "Python 3",
   "language": "python",
   "name": "python3"
  },
  "language_info": {
   "codemirror_mode": {
    "name": "ipython",
    "version": 3
   },
   "file_extension": ".py",
   "mimetype": "text/x-python",
   "name": "python",
   "nbconvert_exporter": "python",
   "pygments_lexer": "ipython3",
   "version": "3.8.3"
  }
 },
 "nbformat": 4,
 "nbformat_minor": 4
}
