{
 "cells": [
  {
   "cell_type": "markdown",
   "metadata": {},
   "source": [
    "### groupSum\n",
    "Given an array of ints, is it possible to choose a group of some of the ints, such that the group sums to the given target? This is a classic backtracking recursion problem. Once you understand the recursive backtracking strategy in this problem, you can use the same pattern for many problems to search a space of choices. Rather than looking at the whole array, our convention is to consider the part of the array starting at index start and continuing to the end of the array. The caller can specify the whole array simply by passing start as 0. No loops are needed -- the recursive calls progress down the array."
   ]
  },
  {
   "cell_type": "markdown",
   "metadata": {},
   "source": [
    "Hint: The base case is when start>=nums.length. In that case, return true if target == 0. Otherwise, consider the element at nums[start]. The key idea is that there are only 2 possibilities -- nums[start] is chosen or it is not. Make one recursive call to see if a solution is possible if nums[start] is chosen (subtract nums[start] from target in that call). Make another recursive call to see if a solution is possible if nums[start] is not chosen. Return true if either of the two recursive calls returns true."
   ]
  },
  {
   "cell_type": "code",
   "execution_count": 415,
   "metadata": {},
   "outputs": [],
   "source": [
    "def groupSum(start, nums, target):\n",
    "    print(start * '***', target) # to show and understand how backtracking works\n",
    "    if start >= len(nums):\n",
    "        if target == 0:\n",
    "            return True\n",
    "        else:\n",
    "            return False\n",
    "    '''\n",
    "    Eger meqsed verilen array'deki reqemleri istifade etmekle target'e catmaqdirsa,\n",
    "    o zaman yoxlamani aparan birinci recursion'da array'deki reqemler target'den sirayla cixilir.\n",
    "    Backtracking eden ikinci recursion'da ise target eyni saxlanilir ve\n",
    "    diger mumkun versiyalara geri donderek yoxlama yeniden aparilir.\n",
    "    \n",
    "    '''\n",
    "    if groupSum(start + 1, nums, target - nums[start]):\n",
    "        return True\n",
    "    if groupSum(start + 1, nums, target):\n",
    "        return True\n",
    "    return False"
   ]
  },
  {
   "cell_type": "code",
   "execution_count": 414,
   "metadata": {},
   "outputs": [
    {
     "name": "stdout",
     "output_type": "stream",
     "text": [
      " 14\n",
      "*** -2\n",
      "****** -4\n",
      "********* -24\n",
      "************ -28\n",
      "*************** -36\n",
      "*************** -28\n",
      "************ -24\n",
      "*************** -32\n",
      "*************** -24\n",
      "********* -4\n",
      "************ -8\n",
      "*************** -16\n",
      "*************** -8\n",
      "************ -4\n",
      "*************** -12\n",
      "*************** -4\n",
      "****** -2\n",
      "********* -22\n",
      "************ -26\n",
      "*************** -34\n",
      "*************** -26\n",
      "************ -22\n",
      "*************** -30\n",
      "*************** -22\n",
      "********* -2\n",
      "************ -6\n",
      "*************** -14\n",
      "*************** -6\n",
      "************ -2\n",
      "*************** -10\n",
      "*************** -2\n",
      "*** 14\n",
      "****** 12\n",
      "********* -8\n",
      "************ -12\n",
      "*************** -20\n",
      "*************** -12\n",
      "************ -8\n",
      "*************** -16\n",
      "*************** -8\n",
      "********* 12\n",
      "************ 8\n",
      "*************** 0\n"
     ]
    },
    {
     "data": {
      "text/plain": [
       "True"
      ]
     },
     "execution_count": 414,
     "metadata": {},
     "output_type": "execute_result"
    }
   ],
   "source": [
    "groupSum(0, [16, 2, 20, 4, 8], 14) "
   ]
  },
  {
   "cell_type": "markdown",
   "metadata": {},
   "source": [
    "### groupSum6\n",
    "Given an array of ints, is it possible to choose a group of some of the ints, beginning at the start index, such that the group sums to the given target? However, with the additional constraint that all 6's must be chosen. (No loops needed.)\n",
    "\n"
   ]
  },
  {
   "cell_type": "code",
   "execution_count": 416,
   "metadata": {},
   "outputs": [],
   "source": [
    "def groupSum6(start, nums, target):\n",
    "    print(start * '***', target) # to show and understand how backtracking works\n",
    "    if start >= len(nums):\n",
    "        if target == 0:\n",
    "            return True\n",
    "        else:\n",
    "            return False\n",
    "    '''\n",
    "    Eger meqsed verilen array'deki reqemleri istifade ederek target'e catmaqla birlikde \n",
    "    array'da mueyyen reqem oldugu halda (bu misalda, 6) onu mutleq istifade etmekdirse,\n",
    "    o zaman yoxlamani aparan birinci recursion'da array'deki reqemler target'den sirayla cixilir.\n",
    "    Backtracking eden ikinci recursion'da ise target eyni saxlanilir ve \n",
    "    backtracking zamani qarsisina cixan reqemin constraint olub-olmadigi yoxlanilir.\n",
    "    Eger constraint kimi verilen reqemdirse, recursive funksiyani isletmir ve\n",
    "    diger mumkun versiyalara geri dondererek yoxlamani yeniden aparir.\n",
    "    \n",
    "    '''\n",
    "    if groupSum6(start + 1, nums, target - nums[start]):\n",
    "        return True\n",
    "    if nums[start] != 6 and groupSum6(start + 1, nums, target):\n",
    "            return True\n",
    "    return False"
   ]
  },
  {
   "cell_type": "code",
   "execution_count": 411,
   "metadata": {},
   "outputs": [
    {
     "name": "stdout",
     "output_type": "stream",
     "text": [
      " 16\n",
      "*** 15\n",
      "****** 2\n",
      "********* 0\n",
      "************ -6\n",
      "*************** -12\n",
      "********* 2\n",
      "************ -4\n",
      "*************** -10\n",
      "****** 15\n",
      "********* 13\n",
      "************ 7\n",
      "*************** 1\n",
      "********* 15\n",
      "************ 9\n",
      "*************** 3\n",
      "*** 16\n",
      "****** 3\n",
      "********* 1\n",
      "************ -5\n",
      "*************** -11\n",
      "********* 3\n",
      "************ -3\n",
      "*************** -9\n",
      "****** 16\n",
      "********* 14\n",
      "************ 8\n",
      "*************** 2\n",
      "********* 16\n",
      "************ 10\n",
      "*************** 4\n"
     ]
    },
    {
     "data": {
      "text/plain": [
       "False"
      ]
     },
     "execution_count": 411,
     "metadata": {},
     "output_type": "execute_result"
    }
   ],
   "source": [
    "groupSum6(0, [1, 13, 2, 6, 6], 16) "
   ]
  },
  {
   "cell_type": "markdown",
   "metadata": {},
   "source": [
    "### groupNoAdj\n",
    "Given an array of ints, is it possible to choose a group of some of the ints, such that the group sums to the given target with this additional constraint: If a value in the array is chosen to be in the group, the value immediately following it in the array must not be chosen. (No loops needed.)\n",
    "\n"
   ]
  },
  {
   "cell_type": "code",
   "execution_count": 423,
   "metadata": {},
   "outputs": [],
   "source": [
    "def groupNoAdj(start, nums, target):\n",
    "    print(start * '***', target) # to show and understand how backtracking works\n",
    "    if start >= len(nums):\n",
    "        if target == 0:\n",
    "            return True\n",
    "        else:\n",
    "            return False\n",
    "    '''\n",
    "    Eger meqsed verilen array'deki reqemleri istifade ederek target'e catmaqdirsa ve\n",
    "    array'daki mueyyen reqem istifadeye uygun olarsa, ondan sonraki reqemi istifade etmek qadagandirsa,\n",
    "    o zaman yoxlamani aparan birinci recursion'da array'deki reqemler target'den elave bir index atlamaqla cixilir.\n",
    "    Cunki target'e catacagin teqdirde arxa arxaya reqemlerin istifadesi yolverilmezdir.\n",
    "    Backtracking eden ikinci recursion'da ise target eyni saxlanilir ve index tek-tek artirilmaqla mumkun versiyalar yoxlanilir.\n",
    "    Cunki backtracking eden ikinci funksiya onsuzda arxa-arxaya olmayan index'leri butun versiyalarda yoxlayacaq.\n",
    "    \n",
    "    '''\n",
    "    if groupNoAdj(start + 2, nums, target - nums[start]):\n",
    "        return True\n",
    "    if groupNoAdj(start + 1, nums, target):\n",
    "        return True\n",
    "    return False"
   ]
  },
  {
   "cell_type": "code",
   "execution_count": 424,
   "metadata": {},
   "outputs": [
    {
     "name": "stdout",
     "output_type": "stream",
     "text": [
      " 7\n",
      "****** 5\n",
      "************ -5\n",
      "****************** -7\n",
      "*************** -5\n",
      "********* 5\n",
      "*************** 1\n",
      "************ 5\n",
      "****************** 3\n",
      "*************** 5\n",
      "*** 7\n",
      "********* 2\n",
      "*************** -2\n",
      "************ 2\n",
      "****************** 0\n"
     ]
    },
    {
     "data": {
      "text/plain": [
       "True"
      ]
     },
     "execution_count": 424,
     "metadata": {},
     "output_type": "execute_result"
    }
   ],
   "source": [
    "groupNoAdj(0, [2, 5, 10, 4, 2], 7) "
   ]
  },
  {
   "cell_type": "markdown",
   "metadata": {},
   "source": [
    "### groupSum5\n",
    "Given an array of ints, is it possible to choose a group of some of the ints, such that the group sums to the given target with these additional constraints: all multiples of 5 in the array must be included in the group. If the value immediately following a multiple of 5 is 1, it must not be chosen. (No loops needed.)\n",
    "\n"
   ]
  },
  {
   "cell_type": "code",
   "execution_count": 425,
   "metadata": {},
   "outputs": [],
   "source": [
    "def groupSum5(start, nums, target):\n",
    "    print(start * '***', target) # to show and understand how backtracking works\n",
    "    if start >= len(nums):\n",
    "        if target == 0:\n",
    "            return True\n",
    "        else:\n",
    "            return False\n",
    "    '''\n",
    "    Meqsed array'in reqemlerini istifade etmekle target'e catmaqdir.\n",
    "    Ancaq 5-e qaliqsiz bolunen butun reqemleri istidade etmek mecburiyyetindesen ve\n",
    "    eger 5-e qaliqsiz bolunen reqemlerden sonra 1 reqemi gelirse, hemin 1 reqemini hec bir sekilde istifade ede bilmersen.\n",
    "    Bunun ucun oncelikle reqemin 5-e bolunub bolunmemesi yoxlanilir ve bolunmurse normal backtracking qaydasi tetbiq olunur.\n",
    "    Yox eger 5-e bolunurse, o zaman sonraki reqemin 1 olub-olmamasi yoxlanilir.\n",
    "    Eger sonraki reqem 1-dirse, o zaman birinci recursion'da index 2 reqem artirilir ki, 1 nezere alinmasin ve\n",
    "    target-den hemin 5-e bolunen reqem mutleq cixarilir ki, mecburiyyet sherti odensin.\n",
    "    Yox eger sonraki reqem 1 deyilse, index'leme normal formada aparilir\n",
    "    ve yene de target'den hemin 5-e bolunen reqem cixarilir ki, mecburiyyet sherti odensin.\n",
    "    \n",
    "    '''\n",
    "    if nums[start] % 5 != 0:\n",
    "        if groupSum5(start + 1, nums, target - nums[start]):\n",
    "            return True\n",
    "        if groupSum5(start + 1, nums, target):\n",
    "            return True\n",
    "    else:\n",
    "        if start < len(nums) - 1 and nums[start + 1] == 1:\n",
    "            return groupSum5(start + 2, nums, target - nums[start])\n",
    "        else:\n",
    "            return groupSum5(start + 1, nums, target - nums[start])\n",
    "    return False"
   ]
  },
  {
   "cell_type": "code",
   "execution_count": 426,
   "metadata": {},
   "outputs": [
    {
     "name": "stdout",
     "output_type": "stream",
     "text": [
      " 16\n",
      "*** 14\n",
      "****** 9\n",
      "************ -1\n",
      "*************** -5\n",
      "****************** -13\n",
      "****************** -5\n",
      "*************** -1\n",
      "****************** -9\n",
      "****************** -1\n",
      "*** 16\n",
      "****** 11\n",
      "************ 1\n",
      "*************** -3\n",
      "****************** -11\n",
      "****************** -3\n",
      "*************** 1\n",
      "****************** -7\n",
      "****************** 1\n"
     ]
    },
    {
     "data": {
      "text/plain": [
       "False"
      ]
     },
     "execution_count": 426,
     "metadata": {},
     "output_type": "execute_result"
    }
   ],
   "source": [
    "groupSum5(0, [2, 5, 10, 1, 4, 8], 16)"
   ]
  },
  {
   "cell_type": "markdown",
   "metadata": {},
   "source": [
    "### groupSumClump\n",
    "Given an array of ints, is it possible to choose a group of some of the ints, such that the group sums to the given target, with this additional constraint: if there are numbers in the array that are adjacent and the identical value, they must either all be chosen, or none of them chosen. For example, with the array {1, 2, 2, 2, 5, 2}, either all three 2's in the middle must be chosen or not, all as a group. (one loop can be used to find the extent of the identical values)."
   ]
  },
  {
   "cell_type": "code",
   "execution_count": 56,
   "metadata": {},
   "outputs": [],
   "source": [
    "def groupSumClump(start, nums, target):\n",
    "    for i in range(len(helper(nums))):\n",
    "        print(start * '***', target) # to show and understand how backtracking works\n",
    "        if start >= len(helper(nums)[i]):\n",
    "            return target == 0\n",
    "        if groupSumClump(start + 1, helper(nums)[i], target - helper(nums)[i][start]):\n",
    "            return True\n",
    "        if groupSumClump(start + 1, helper(nums)[i], target):\n",
    "            return True\n",
    "    return False\n",
    "'''\n",
    "Meqsed array'in reqemlerini istifade etmekle target'e catmaqdir.\n",
    "Ancaq arxa-arxaya eyni reqemler oldugu halda, target'e catmaq ucun\n",
    "ya bu reqemlerin hamisini istifade etmelisen, ya da hec birini.\n",
    "        \n",
    "Bu meqsedle komekci bir funskiya yaradilir ki, bize duruma gore iki ferqli versiya qaytarsin.\n",
    "Eger arxa-arxaya tekrarlanma olmazsa, ele array'in ozunu qaytarir.\n",
    "Eger arxa-arxaya tekrarlanma olarsa, eyni vaxtda iki ferqli array qaytarir.\n",
    "Bu array'larin birinde arxa-arxaya verilen reqemler silinmis olur, digerinde ise toplanaraq elave edilmis olur.\n",
    "Burada meqsed yuxarda verilen mecburiyyetleri odemekdir.\n",
    "Recursive funksiyalar normal qaydada tetbil edilir,\n",
    "sadece duruma gore for loop vasitesile array'ler ayri-ayriliqda yoxlanilir.\n",
    "\n",
    "'''\n",
    "def helper(nums):\n",
    "    i = 0\n",
    "    all_adj = []\n",
    "    none_adj = []\n",
    "    while i < len(nums):\n",
    "        if i == 0:\n",
    "            all_adj.append(nums[i])\n",
    "            none_adj.append(nums[i])\n",
    "            i += 1\n",
    "        else:\n",
    "            if nums[i] != nums[i - 1]:\n",
    "                all_adj.append(nums[i])\n",
    "                none_adj.append(nums[i])\n",
    "                i += 1\n",
    "            else:\n",
    "                all_adj[-1] += nums[i - 1]\n",
    "                none_adj[-1] = 0\n",
    "                i += 1\n",
    "    none_adj = list(filter(lambda x: x != 0, none_adj))\n",
    "    if all_adj == none_adj:\n",
    "        return tuple([all_adj])\n",
    "    return all_adj, none_adj"
   ]
  },
  {
   "cell_type": "code",
   "execution_count": 428,
   "metadata": {},
   "outputs": [
    {
     "name": "stdout",
     "output_type": "stream",
     "text": [
      " 11\n",
      "*** 3\n",
      "****** -9\n",
      "********* -10\n",
      "********* -9\n",
      "****** 3\n",
      "********* 2\n",
      "********* 3\n",
      "*** 11\n",
      "****** -1\n",
      "********* -2\n",
      "********* -1\n",
      "****** 11\n",
      "********* 10\n",
      "********* 11\n",
      " 11\n",
      "*** 3\n",
      "****** 2\n",
      "****** 3\n",
      "*** 11\n",
      "****** 10\n",
      "****** 11\n"
     ]
    },
    {
     "data": {
      "text/plain": [
       "False"
      ]
     },
     "execution_count": 428,
     "metadata": {},
     "output_type": "execute_result"
    }
   ],
   "source": [
    "groupSumClump(0, [8, 2, 2, 2, 2, 2, 2, 1], 11)"
   ]
  },
  {
   "cell_type": "markdown",
   "metadata": {},
   "source": [
    "### splitArray\n",
    "Given an array of ints, is it possible to divide the ints into two groups, so that the sums of the two groups are the same. Every int must be in one group or the other. Write a recursive helper method that takes whatever arguments you like, and make the initial call to your recursive helper from splitArray(). (No loops needed.)"
   ]
  },
  {
   "cell_type": "code",
   "execution_count": 55,
   "metadata": {},
   "outputs": [],
   "source": [
    "def splitArray(nums):\n",
    "    index = 0\n",
    "    sum1 = 0\n",
    "    sum2 = 0\n",
    "    return helper(index, nums, sum1, sum2)\n",
    "'''\n",
    "Bu sualda digerlerinden ferqli olaraq, sadece array verildiyi ucun\n",
    "gerekli parametrleri ozumuz initialize etmeli ve recursion edecek komekci funksiyaya yonlendirmeliyik.\n",
    "\n",
    "Sual odur ki, array'da verilen reqemler ele iki ferqli qrup altinda birlesdirile bilermi ki, onlarin toplami beraber olsun?\n",
    "\n",
    "Bunun ucun her iki qrup ucun toplami ifade eden \"sum\" parametrlerini 0-a beraber edirik.\n",
    "Hemcinin index-i de 0-dan basladiriq ki, son index-e catib recursive funksiyalari yerine yetirdikden sonra neticeni versin.\n",
    "Her bir recursion'in evvelinde array'in baxacagimiz reqemini \"value\" parametri altinda qeyd edirik.\n",
    "Iki ferqli recursive funksiya basladiriq. Hansi ki, bunlardan biri \"sum1\"-i, digeri \"sum2\"-ni \"value\" ile artirir.\n",
    "Bunlari or ile qarsilasdiririq ve evvel-axir her hansi biri ile \"sum\"lar arasinda beraberlik elde edilirse, hedefe catiriq.\n",
    "\n",
    "'''\n",
    "def helper(index, nums, sum1, sum2):\n",
    "    print('First =', sum1, 'and', 'Second =', sum2) # to show and understand how backtracking works\n",
    "    if index >= len(nums):\n",
    "        return sum1 == sum2\n",
    "    value = nums[index]\n",
    "    return helper(index + 1, nums, sum1 + value, sum2) or helper(index + 1, nums, sum1, sum2 + value)"
   ]
  },
  {
   "cell_type": "code",
   "execution_count": 430,
   "metadata": {},
   "outputs": [
    {
     "name": "stdout",
     "output_type": "stream",
     "text": [
      "First = 0 and Second = 0\n",
      "First = 2 and Second = 0\n",
      "First = 12 and Second = 0\n",
      "First = 13 and Second = 0\n",
      "First = 14 and Second = 0\n",
      "First = 22 and Second = 0\n",
      "First = 14 and Second = 8\n",
      "First = 13 and Second = 1\n",
      "First = 21 and Second = 1\n",
      "First = 13 and Second = 9\n",
      "First = 12 and Second = 1\n",
      "First = 13 and Second = 1\n",
      "First = 21 and Second = 1\n",
      "First = 13 and Second = 9\n",
      "First = 12 and Second = 2\n",
      "First = 20 and Second = 2\n",
      "First = 12 and Second = 10\n",
      "First = 2 and Second = 10\n",
      "First = 3 and Second = 10\n",
      "First = 4 and Second = 10\n",
      "First = 12 and Second = 10\n",
      "First = 4 and Second = 18\n",
      "First = 3 and Second = 11\n",
      "First = 11 and Second = 11\n"
     ]
    },
    {
     "data": {
      "text/plain": [
       "True"
      ]
     },
     "execution_count": 430,
     "metadata": {},
     "output_type": "execute_result"
    }
   ],
   "source": [
    "splitArray([2, 10, 1, 1, 8])"
   ]
  },
  {
   "cell_type": "markdown",
   "metadata": {},
   "source": [
    "### splitOdd10\n",
    "Given an array of ints, is it possible to divide the ints into two groups, so that the sum of one group is a multiple of 10, and the sum of the other group is odd. Every int must be in one group or the other. Write a recursive helper method that takes whatever arguments you like, and make the initial call to your recursive helper from splitOdd10(). (No loops needed.)"
   ]
  },
  {
   "cell_type": "code",
   "execution_count": 46,
   "metadata": {},
   "outputs": [],
   "source": [
    "# Since it is derived version of the SplitArray problem, I do not give an explanation. The logic is same.\n",
    "\n",
    "def splitOdd10(nums):\n",
    "    index = 0\n",
    "    sum1 = 0\n",
    "    sum2 = 0\n",
    "    return helper(nums, index, sum1, sum2)\n",
    "\n",
    "def helper(nums, index, sum1, sum2):\n",
    "    print(\"First =\", sum1, 'and','Second =', sum2)\n",
    "    if index >= len(nums):\n",
    "        return sum1 % 10 == 0 and sum2 % 2 == 1\n",
    "    value = nums[index]\n",
    "    return helper(nums, index + 1, sum1 + value, sum2) or helper(nums, index + 1, sum1, sum2 + value)"
   ]
  },
  {
   "cell_type": "code",
   "execution_count": 48,
   "metadata": {},
   "outputs": [
    {
     "name": "stdout",
     "output_type": "stream",
     "text": [
      "First = 0 and Second = 0\n",
      "First = 10 and Second = 0\n",
      "First = 17 and Second = 0\n",
      "First = 22 and Second = 0\n",
      "First = 27 and Second = 0\n",
      "First = 29 and Second = 0\n",
      "First = 27 and Second = 2\n",
      "First = 22 and Second = 5\n",
      "First = 24 and Second = 5\n",
      "First = 22 and Second = 7\n",
      "First = 17 and Second = 5\n",
      "First = 22 and Second = 5\n",
      "First = 24 and Second = 5\n",
      "First = 22 and Second = 7\n",
      "First = 17 and Second = 10\n",
      "First = 19 and Second = 10\n",
      "First = 17 and Second = 12\n",
      "First = 10 and Second = 7\n",
      "First = 15 and Second = 7\n",
      "First = 20 and Second = 7\n",
      "First = 22 and Second = 7\n",
      "First = 20 and Second = 9\n"
     ]
    },
    {
     "data": {
      "text/plain": [
       "True"
      ]
     },
     "execution_count": 48,
     "metadata": {},
     "output_type": "execute_result"
    }
   ],
   "source": [
    "splitOdd10([10, 7, 5, 5, 2])"
   ]
  },
  {
   "cell_type": "markdown",
   "metadata": {},
   "source": [
    "### split53\n",
    "Given an array of ints, is it possible to divide the ints into two groups, so that the sum of the two groups is the same, with these constraints: all the values that are multiple of 5 must be in one group, and all the values that are a multiple of 3 (and not a multiple of 5) must be in the other. (No loops needed.)\n",
    "\n"
   ]
  },
  {
   "cell_type": "code",
   "execution_count": 49,
   "metadata": {},
   "outputs": [],
   "source": [
    "# Since it is derived version of the SplitArray problem, I do not give an explanation. The logic is same.\n",
    "\n",
    "def split53(nums):\n",
    "    index = 0\n",
    "    sum1 = 0\n",
    "    sum2 = 0\n",
    "    return helper(nums, index, sum1, sum2)\n",
    "\n",
    "def helper(nums, index, sum1, sum2):\n",
    "    print(\"First =\", sum1, 'and','Second =', sum2)\n",
    "    if index >= len(nums):\n",
    "        return sum1 == sum2\n",
    "    value = nums[index]\n",
    "    if value == 5:\n",
    "        return helper(nums, index + 1, sum1 + value, sum2)\n",
    "    elif value == 3:\n",
    "        return helper(nums, index + 1, sum1, sum2 + value)\n",
    "    else:\n",
    "        return helper(nums, index + 1, sum1 + value, sum2) or helper(nums, index + 1, sum1, sum2 + value)"
   ]
  },
  {
   "cell_type": "code",
   "execution_count": 54,
   "metadata": {},
   "outputs": [
    {
     "name": "stdout",
     "output_type": "stream",
     "text": [
      "First = 0 and Second = 0\n",
      "First = 0 and Second = 3\n",
      "First = 5 and Second = 3\n",
      "First = 11 and Second = 3\n",
      "First = 21 and Second = 3\n",
      "First = 21 and Second = 6\n",
      "First = 22 and Second = 6\n",
      "First = 21 and Second = 7\n",
      "First = 11 and Second = 13\n",
      "First = 11 and Second = 16\n",
      "First = 12 and Second = 16\n",
      "First = 11 and Second = 17\n",
      "First = 5 and Second = 9\n",
      "First = 15 and Second = 9\n",
      "First = 15 and Second = 12\n",
      "First = 16 and Second = 12\n",
      "First = 15 and Second = 13\n",
      "First = 5 and Second = 19\n",
      "First = 5 and Second = 22\n",
      "First = 6 and Second = 22\n",
      "First = 5 and Second = 23\n"
     ]
    },
    {
     "data": {
      "text/plain": [
       "False"
      ]
     },
     "execution_count": 54,
     "metadata": {},
     "output_type": "execute_result"
    }
   ],
   "source": [
    "split53([3, 5, 6, 10, 3, 1]) "
   ]
  }
 ],
 "metadata": {
  "kernelspec": {
   "display_name": "Python 3",
   "language": "python",
   "name": "python3"
  },
  "language_info": {
   "codemirror_mode": {
    "name": "ipython",
    "version": 3
   },
   "file_extension": ".py",
   "mimetype": "text/x-python",
   "name": "python",
   "nbconvert_exporter": "python",
   "pygments_lexer": "ipython3",
   "version": "3.7.3"
  }
 },
 "nbformat": 4,
 "nbformat_minor": 2
}
