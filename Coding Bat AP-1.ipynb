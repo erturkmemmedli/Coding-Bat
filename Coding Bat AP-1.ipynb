{
 "cells": [
  {
   "cell_type": "markdown",
   "metadata": {},
   "source": [
    "### scoresIncreasing\n",
    "Given an array of scores, return true if each score is equal or greater than the one before. The array will be length 2 or more.\n",
    "\n"
   ]
  },
  {
   "cell_type": "code",
   "execution_count": 13,
   "metadata": {},
   "outputs": [],
   "source": [
    "def scoresIncreasing(scores):\n",
    "    assert len(scores) >= 2\n",
    "    for i in range(1, len(scores)):\n",
    "        if scores[i] < scores[i-1]:\n",
    "            return False\n",
    "    return True"
   ]
  },
  {
   "cell_type": "markdown",
   "metadata": {},
   "source": [
    "### scores100\n",
    "Given an array of scores, return true if there are scores of 100 next to each other in the array. The array length will be at least 2."
   ]
  },
  {
   "cell_type": "code",
   "execution_count": 14,
   "metadata": {},
   "outputs": [],
   "source": [
    "def scores100(scores):\n",
    "    assert len(scores) >= 2\n",
    "    for i in range(len(scores) - 1):\n",
    "        if scores[i] == 100 and scores[i+1] == 100:\n",
    "            return True\n",
    "    return False"
   ]
  },
  {
   "cell_type": "markdown",
   "metadata": {},
   "source": [
    "### scoresClump\n",
    "Given an array of scores sorted in increasing order, return true if the array contains 3 adjacent scores that differ from each other by at most 2, such as with {3, 4, 5} or {3, 5, 5}."
   ]
  },
  {
   "cell_type": "code",
   "execution_count": 33,
   "metadata": {},
   "outputs": [],
   "source": [
    "def scoresClump(scores):\n",
    "    assert all(scores[i] <= scores[i+1] for i in range(len(scores) - 1))\n",
    "    assert len(scores) >= 3\n",
    "    for i in range(len(scores) - 2):\n",
    "        if scores[i+1] - scores[i] <= 2 and scores[i+2] - scores[i] <= 2:\n",
    "            return True\n",
    "    return False"
   ]
  },
  {
   "cell_type": "markdown",
   "metadata": {},
   "source": [
    "### scoresAverage\n",
    "Given an array of scores, compute the int average of the first half and the second half, and return whichever is larger. We'll say that the second half begins at index length/2. The array length will be at least 2. To practice decomposition, write a separate helper method\n",
    "int average(int[] scores, int start, int end) { which computes the average of the elements between indexes start..end. Call your helper method twice to implement scoresAverage(). Write your helper method after your scoresAverage() method in the JavaBat text area. Normally you would compute averages with doubles, but here we use ints so the expected results are exact.\n",
    "\n"
   ]
  },
  {
   "cell_type": "code",
   "execution_count": 52,
   "metadata": {},
   "outputs": [],
   "source": [
    "def scoresAverage(scores):\n",
    "    assert len(scores) >= 2\n",
    "    return max(helper(scores, 0, len(scores)//2), helper(scores, len(scores)//2, len(scores)))\n",
    "    \n",
    "def helper(scores, start, end):\n",
    "    Sum = 0\n",
    "    for i in range(start, end):\n",
    "        Sum += scores[i]\n",
    "    Average = Sum // (end - start)\n",
    "    return Average"
   ]
  },
  {
   "cell_type": "markdown",
   "metadata": {},
   "source": [
    "### wordsCount\n",
    "Given an array of strings, return the count of the number of strings with the given length."
   ]
  },
  {
   "cell_type": "code",
   "execution_count": 75,
   "metadata": {},
   "outputs": [],
   "source": [
    "def wordsCount(words, length):\n",
    "    count = 0\n",
    "    for i in range(len(words)):\n",
    "        if len(words[i]) == length:\n",
    "            count += 1\n",
    "    return count"
   ]
  },
  {
   "cell_type": "markdown",
   "metadata": {},
   "source": [
    "### wordsFront\n",
    "Given an array of strings, return a new array containing the first N strings. N will be in the range 1..length."
   ]
  },
  {
   "cell_type": "code",
   "execution_count": 76,
   "metadata": {},
   "outputs": [],
   "source": [
    "def wordsFront(words, N):\n",
    "    assert 1 <= N <= len(words)\n",
    "    return words[:N]"
   ]
  },
  {
   "cell_type": "markdown",
   "metadata": {},
   "source": [
    "### wordsWithoutList\n",
    "Given an array of strings, return a new List (e.g. an ArrayList) where all the strings of the given length are omitted. See wordsWithout() below which is more difficult because it uses arrays."
   ]
  },
  {
   "cell_type": "code",
   "execution_count": 77,
   "metadata": {},
   "outputs": [],
   "source": [
    "def wordsWithoutList(words, length):\n",
    "    ArrayList = []\n",
    "    for i in range(len(words)):\n",
    "        if len(words[i]) != length:\n",
    "            ArrayList.append(words[i])\n",
    "    return ArrayList"
   ]
  },
  {
   "cell_type": "markdown",
   "metadata": {},
   "source": [
    "### hasOne\n",
    "Given a positive int n, return true if it contains a 1 digit. Note: use % to get the rightmost digit, and / to discard the rightmost digit.\n",
    "\n"
   ]
  },
  {
   "cell_type": "code",
   "execution_count": 7,
   "metadata": {},
   "outputs": [],
   "source": [
    "# easy way\n",
    "def hasOne_easy(n):\n",
    "    return \"1\" in str(n)\n",
    "\n",
    "# desired way\n",
    "def hasOne(n):\n",
    "    condition = False\n",
    "    number = n\n",
    "    while number > 0:\n",
    "        check = number % 10\n",
    "        if check == 1:\n",
    "            condition = True\n",
    "        number = number // 10\n",
    "    return condition"
   ]
  },
  {
   "cell_type": "markdown",
   "metadata": {},
   "source": [
    "### dividesSelf\n",
    "We'll say that a positive int divides itself if every digit in the number divides into the number evenly. So for example 128 divides itself since 1, 2, and 8 all divide into 128 evenly. We'll say that 0 does not divide into anything evenly, so no number with a 0 digit divides itself. Note: use % to get the rightmost digit, and / to discard the rightmost digit."
   ]
  },
  {
   "cell_type": "code",
   "execution_count": 19,
   "metadata": {},
   "outputs": [],
   "source": [
    "def dividesSelf(n):\n",
    "    assert n > 0\n",
    "    condition = True\n",
    "    number = n\n",
    "    while number > 0:\n",
    "        digit = number % 10\n",
    "        if digit == 0:\n",
    "            return False\n",
    "        number = number // 10\n",
    "        if n % digit != 0:\n",
    "            condition = False\n",
    "    return condition"
   ]
  },
  {
   "cell_type": "markdown",
   "metadata": {},
   "source": [
    "### copyEvens\n",
    "Given an array of positive ints, return a new array of length \"count\" containing the first even numbers from the original array. The original array will contain at least \"count\" even numbers.\n",
    "\n"
   ]
  },
  {
   "cell_type": "code",
   "execution_count": 49,
   "metadata": {},
   "outputs": [],
   "source": [
    "def copyEvens(nums, count):\n",
    "    assert all(nums[i] > 0 for i in range(len(nums)))\n",
    "    array = []\n",
    "    for i in range(len(nums)):\n",
    "        if len(array) == count:\n",
    "            break\n",
    "        if nums[i] % 2 == 0:\n",
    "            array.append(nums[i])\n",
    "    assert len(array) == count\n",
    "    return array"
   ]
  },
  {
   "cell_type": "markdown",
   "metadata": {},
   "source": [
    "### copyEndy\n",
    "We'll say that a positive int n is \"endy\" if it is in the range 0..10 or 90..100 (inclusive). Given an array of positive ints, return a new array of length \"count\" containing the first endy numbers from the original array. Decompose out a separate isEndy(int n) method to test if a number is endy. The original array will contain at least \"count\" endy numbers."
   ]
  },
  {
   "cell_type": "code",
   "execution_count": 50,
   "metadata": {},
   "outputs": [],
   "source": [
    "def copyEndy(nums, count):\n",
    "    assert all(nums[i] >= 0 for i in range(len(nums)))\n",
    "    array = []\n",
    "    for i in range(len(nums)):\n",
    "        if len(array) == count:\n",
    "            break\n",
    "        if isEndy(nums[i]):\n",
    "            array.append(nums[i])\n",
    "    assert len(array) == count\n",
    "    return array\n",
    "\n",
    "def isEndy(n):\n",
    "    if (n >= 0 and n <= 10) or (n >= 90 and n <= 100):\n",
    "        return True"
   ]
  },
  {
   "cell_type": "markdown",
   "metadata": {},
   "source": [
    "### matchUp\n",
    "Given 2 arrays that are the same length containing strings, compare the 1st string in one array to the 1st string in the other array, the 2nd to the 2nd and so on. Count the number of times that the 2 strings are non-empty and start with the same char. The strings may be any length, including 0.\n",
    "\n"
   ]
  },
  {
   "cell_type": "code",
   "execution_count": 84,
   "metadata": {},
   "outputs": [],
   "source": [
    "def matchUp(str_arr_1, str_arr_2):\n",
    "    assert len(str_arr_1) == len(str_arr_2)\n",
    "    count = 0\n",
    "    for i in range(len(str_arr_1)):\n",
    "        if len(str_arr_1[i]) != 0 and len(str_arr_2[i]) != 0 and str_arr_1[i][0] == str_arr_2[i][0]:\n",
    "            count += 1\n",
    "    return count"
   ]
  },
  {
   "cell_type": "markdown",
   "metadata": {},
   "source": [
    "### scoreUp\n",
    "The \"key\" array is an array containing the correct answers to an exam, like {\"a\", \"a\", \"b\", \"b\"}. the \"answers\" array contains a student's answers, with \"?\" representing a question left blank. The two arrays are not empty and are the same length. Return the score for this array of answers, giving +4 for each correct answer, -1 for each incorrect answer, and +0 for each blank answer.\n",
    "\n"
   ]
  },
  {
   "cell_type": "code",
   "execution_count": 96,
   "metadata": {},
   "outputs": [],
   "source": [
    "def scoreUp(key, answers):\n",
    "    assert len(key) == len(answers)\n",
    "    assert all(key[i] in ('a', 'b', 'c', 'd', 'e') for i in range(len(key)))\n",
    "    assert all(answers[i] in ('a', 'b', 'c', 'd', 'e', '?') for i in range(len(key)))\n",
    "    grade = 0\n",
    "    for i in range(len(key)):\n",
    "        if answers[i] == '?':\n",
    "            continue\n",
    "        if answers[i] == key[i]:\n",
    "            grade += 4\n",
    "        if answers[i] != key[i]:\n",
    "            grade -= 1\n",
    "    return grade"
   ]
  },
  {
   "cell_type": "markdown",
   "metadata": {},
   "source": [
    "### wordsWithout\n",
    "Given an array of strings, return a new array without the strings that are equal to the target string. One approach is to count the occurrences of the target string, make a new array of the correct length, and then copy over the correct strings.\n",
    "\n"
   ]
  },
  {
   "cell_type": "code",
   "execution_count": 110,
   "metadata": {},
   "outputs": [],
   "source": [
    "def wordsWithout(arr_str, target):\n",
    "    new_array = []\n",
    "    for i in range(len(arr_str)):\n",
    "        if arr_str[i] != target:\n",
    "            new_array.append(arr_str[i])\n",
    "    return new_array"
   ]
  },
  {
   "cell_type": "markdown",
   "metadata": {},
   "source": [
    "### scoresSpecial\n",
    "Given two arrays, A and B, of non-negative int scores. A \"special\" score is one which is a multiple of 10, such as 40 or 90. Return the sum of largest special score in A and the largest special score in B. To practice decomposition, write a separate helper method which finds the largest special score in an array. Write your helper method after your scoresSpecial() method in the JavaBat text area.\n",
    "\n"
   ]
  },
  {
   "cell_type": "code",
   "execution_count": 118,
   "metadata": {},
   "outputs": [],
   "source": [
    "def scoresSpecial(A, B):\n",
    "    assert all(A[i] >= 0 for i in range(len(A)))\n",
    "    assert all(B[i] >= 0 for i in range(len(B)))\n",
    "    return special(A) + special(B)\n",
    "    \n",
    "def special(X):\n",
    "    largest = 0\n",
    "    for i in range(len(X)):\n",
    "        if X[i] % 10 == 0:\n",
    "            largest = max(X[i], largest)\n",
    "    return largest"
   ]
  },
  {
   "cell_type": "markdown",
   "metadata": {},
   "source": [
    "### sumHeights\n",
    "We have an array of heights, representing the altitude along a walking trail. Given start/end indexes into the array, return the sum of the changes for a walk beginning at the start index and ending at the end index. For example, with the heights {5, 3, 6, 7, 2} and start=2, end=4 yields a sum of 1 + 5 = 6. The start end end index will both be valid indexes into the array with start <= end.\n",
    "\n"
   ]
  },
  {
   "cell_type": "code",
   "execution_count": 131,
   "metadata": {},
   "outputs": [],
   "source": [
    "def sumHeights(heights, start, end):\n",
    "    assert 0 <= start <= end <= len(heights) - 1\n",
    "    change_for_a_walk = 0\n",
    "    for i in range(start, end):\n",
    "        change_for_a_walk += abs(heights[i] - heights[i + 1])\n",
    "    return change_for_a_walk"
   ]
  },
  {
   "cell_type": "markdown",
   "metadata": {},
   "source": [
    "### sumHeights2\n",
    "(A variation on the sumHeights problem.) We have an array of heights, representing the altitude along a walking trail. Given start/end indexes into the array, return the sum of the changes for a walk beginning at the start index and ending at the end index, however increases in height count double. For example, with the heights {5, 3, 6, 7, 2} and start=2, end=4 yields a sum of 1*2 + 5 = 7. The start end end index will both be valid indexes into the array with start <= end."
   ]
  },
  {
   "cell_type": "code",
   "execution_count": 141,
   "metadata": {},
   "outputs": [],
   "source": [
    "def sumHeights2(heights, start, end):\n",
    "    assert 0 <= start <= end <= len(heights) - 1\n",
    "    change_for_a_walk = 0\n",
    "    for i in range(start, end):\n",
    "        if heights[i] < heights[i + 1]:\n",
    "            change_for_a_walk += 2 * abs(heights[i] - heights[i + 1])\n",
    "        else:\n",
    "            change_for_a_walk += abs(heights[i] - heights[i + 1])\n",
    "    return change_for_a_walk"
   ]
  },
  {
   "cell_type": "markdown",
   "metadata": {},
   "source": [
    "### bigHeights\n",
    "(A variation on the sumHeights problem.) We have an array of heights, representing the altitude along a walking trail. Given start/end indexes into the array, return the number of \"big\" steps for a walk starting at the start index and ending at the end index. We'll say that step is big if it is 5 or more up or down. The start end end index will both be valid indexes into the array with start <= end.\n",
    "\n"
   ]
  },
  {
   "cell_type": "code",
   "execution_count": 150,
   "metadata": {},
   "outputs": [],
   "source": [
    "def bigHeights(heights, start, end):\n",
    "    assert 0 <= start <= end <= len(heights) - 1\n",
    "    count = 0\n",
    "    for i in range(start, end):\n",
    "        if abs(heights[i] - heights[i + 1]) >= 5:\n",
    "            count += 1\n",
    "    return count"
   ]
  },
  {
   "cell_type": "markdown",
   "metadata": {},
   "source": [
    "###  userCompare\n",
    "We have data for two users, A and B, each with a String name and an int id. The goal is to order the users such as for sorting. Return -1 if A comes before B, 1 if A comes after B, and 0 if they are the same. Order first by the string names, and then by the id numbers if the names are the same. Note: with Strings str1.compareTo(str2) returns an int value which is negative/0/positive to indicate how str1 is ordered to str2 (the value is not limited to -1/0/1). (On the AP, there would be two User objects, but here the code simply takes the two strings and two ints directly. The code logic is the same.)"
   ]
  },
  {
   "cell_type": "code",
   "execution_count": 171,
   "metadata": {},
   "outputs": [],
   "source": [
    "def userCompare(A_name, A_id, B_name, B_id):\n",
    "    if A_name < B_name:\n",
    "        return -1\n",
    "    elif B_name < A_name:\n",
    "        return 1\n",
    "    else:\n",
    "        if A_id < B_id:\n",
    "            return -1\n",
    "        elif B_id < A_id:\n",
    "            return 1\n",
    "        else:\n",
    "            return 0"
   ]
  },
  {
   "cell_type": "markdown",
   "metadata": {},
   "source": [
    "### mergeTwo\n",
    "Start with two arrays of strings, A and B, each with its elements in alphabetical order and without duplicates. Return a new array containing the first N elements from the two arrays. The result array should be in alphabetical order and without duplicates. A and B will both have a length which is N or more. The best \"linear\" solution makes a single pass over A and B, taking advantage of the fact that they are in alphabetical order, copying elements directly to the new array."
   ]
  },
  {
   "cell_type": "code",
   "execution_count": 200,
   "metadata": {},
   "outputs": [],
   "source": [
    "def mergeTwo(A, B, N):\n",
    "    assert all(A[i] < A[i + 1] for i in range(len(A) - 1))\n",
    "    assert all(B[i] < B[i + 1] for i in range(len(B) - 1))\n",
    "    assert len(A) >= N and len(B) >= N\n",
    "    new_array = []\n",
    "    i = 0\n",
    "    while not (len(A) == 0 or len(B) == 0):\n",
    "        if A[i] <= B[i]:\n",
    "            if A[i] not in new_array:\n",
    "                new_array.append(A[i])\n",
    "            A = A[i+1:]\n",
    "        else:\n",
    "            if B[i] not in new_array:\n",
    "                new_array.append(B[i])\n",
    "            B = B[i+1:]\n",
    "        if len(new_array) == N:\n",
    "            break\n",
    "    return new_array"
   ]
  },
  {
   "cell_type": "markdown",
   "metadata": {},
   "source": [
    "### commonTwo\n",
    "Start with two arrays of strings, a and b, each in alphabetical order, possibly with duplicates. Return the count of the number of strings which appear in both arrays. The best \"linear\" solution makes a single pass over both arrays, taking advantage of the fact that they are in alphabetical order.\n",
    "\n"
   ]
  },
  {
   "cell_type": "code",
   "execution_count": 32,
   "metadata": {},
   "outputs": [],
   "source": [
    "def commonTwo(A, B):\n",
    "    assert all(A[i] <= A[i + 1] for i in range(len(A) - 1))\n",
    "    assert all(B[i] <= B[i + 1] for i in range(len(B) - 1))\n",
    "    new_array = []\n",
    "    i = 0\n",
    "    while not (len(A) == 0 or len(B) == 0):\n",
    "        if A[i] == B[i]:\n",
    "            if A[i] not in new_array:\n",
    "                new_array.append(A[i])\n",
    "                A = A[i+1:]\n",
    "                B = B[i+1:]\n",
    "                if len(A) == 0 or len(B) == 0:\n",
    "                    break\n",
    "            else:\n",
    "                A = A[i+1:]\n",
    "                B = B[i+1:]\n",
    "                if len(A) == 0 or len(B) == 0:\n",
    "                    break\n",
    "        if A[i] < B[i]:\n",
    "            A = A[i+1:]\n",
    "        elif A[i] > B[i]:\n",
    "            B = B[i+1:]\n",
    "    return len(new_array)"
   ]
  }
 ],
 "metadata": {
  "kernelspec": {
   "display_name": "Python 3",
   "language": "python",
   "name": "python3"
  }
 },
 "nbformat": 4,
 "nbformat_minor": 2
}
